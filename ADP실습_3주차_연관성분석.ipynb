{
  "nbformat": 4,
  "nbformat_minor": 0,
  "metadata": {
    "colab": {
      "provenance": [],
      "authorship_tag": "ABX9TyNQ+OATYpcOB5qgGbA6FocN",
      "include_colab_link": true
    },
    "kernelspec": {
      "name": "python3",
      "display_name": "Python 3"
    },
    "language_info": {
      "name": "python"
    }
  },
  "cells": [
    {
      "cell_type": "markdown",
      "metadata": {
        "id": "view-in-github",
        "colab_type": "text"
      },
      "source": [
        "<a href=\"https://colab.research.google.com/github/GUNWOOOH/ADP_Practice/blob/main/ADP%EC%8B%A4%EC%8A%B5_3%EC%A3%BC%EC%B0%A8_%EC%97%B0%EA%B4%80%EC%84%B1%EB%B6%84%EC%84%9D.ipynb\" target=\"_parent\"><img src=\"https://colab.research.google.com/assets/colab-badge.svg\" alt=\"Open In Colab\"/></a>"
      ]
    },
    {
      "cell_type": "markdown",
      "source": [
        "#연관분석\n",
        "\n",
        " - 상품추천의 한가지 방법으로, 외에도 협업필터링, 유저베이스 추천 등의 방식이 있다.\n",
        "\n",
        "지지도(support) : 한 거래 항목 안에 A와 B를 동시에 포함하는 거래의 비율. 지지도는 A와 B가 함께 등장할 확률이다. 전체 거래의 수를 A와 B가 동시에 포함된 거래수를 나눠주면 구할 수 있다.\n",
        "\n",
        "신뢰도(confidence) : 항목 A가 포함하는 거래에 A와 B가 같이포함될 확률. 신뢰도는 조건부 확률과 유사하다. A가 일어났을 때 B의 확률이다. A의 확률을 A와 B가 동시에 포함될 확률을 나눠주면 구할 수 있다.\n",
        "\n",
        "향상도(lift) : A가 주어지지 않을 때의 품목 B의 확률에 비해 A가 주어졌을 때 품목 B의 증가 비율. B의 확률이 A가 일어났을 때 B의 확률을 나눴을 때 구할 수 있다. lift 값은 1이면 서로 독립적인 관계이며1보다 크면 두 품목이 서로 양의 상관관계, 1보다 작으면 두 품목이 서로 음의 상관관계이다. A와 B가 독립이면 분모, 분자가 같기 때문에 1이 나온다."
      ],
      "metadata": {
        "id": "Auh0DkmW2bkI"
      }
    },
    {
      "cell_type": "code",
      "execution_count": 1,
      "metadata": {
        "id": "1_raOhk81mFq"
      },
      "outputs": [],
      "source": [
        "import pandas as pd\n",
        "from mlxtend.preprocessing import TransactionEncoder\n",
        "from mlxtend.frequent_patterns import apriori, association_rules\n",
        "\n",
        "dataset = [['Milk', 'Onion', 'Nutmeg', 'Eggs', 'Yogurt'],\n",
        "           ['Onion', 'Nutmeg', 'Eggs', 'Yogurt'],\n",
        "           ['Milk', 'Apple', 'Eggs'],\n",
        "           ['Milk', 'Unicorn', 'Corn', 'Yogurt'],\n",
        "           ['Corn', 'Onion', 'Onion', 'Ice cream', 'Eggs']]"
      ]
    },
    {
      "cell_type": "code",
      "source": [
        "te = TransactionEncoder()\n",
        "te_ary = te.fit(dataset).transform(dataset)\n",
        "df = pd.DataFrame(te_ary, columns=te.columns_)\n",
        " "
      ],
      "metadata": {
        "id": "bcZl4GR019KP"
      },
      "execution_count": 2,
      "outputs": []
    },
    {
      "cell_type": "code",
      "source": [
        "frequent_itemsets = apriori(df, min_support=0.5, use_colnames=True)"
      ],
      "metadata": {
        "id": "99NfHBS42DPY"
      },
      "execution_count": 4,
      "outputs": []
    },
    {
      "cell_type": "markdown",
      "source": [
        "[['Milk', 'Onion', 'Nutmeg', 'Eggs', 'Yogurt'],\n",
        "['Onion', 'Nutmeg', 'Eggs', 'Yogurt'],\n",
        "['Milk', 'Apple', 'Eggs'],\n",
        "['Milk', 'Unicorn', 'Corn', 'Yogurt'],\n",
        "['Corn', 'Onion', 'Onion', 'Ice cream', 'Eggs']]\n",
        "\n",
        "egg는 4개 있으므로 4/5 = 80%"
      ],
      "metadata": {
        "id": "Xi1ozPJo2KZl"
      }
    },
    {
      "cell_type": "code",
      "source": [
        "association_rules(frequent_itemsets, metric=\"lift\", min_threshold=1)"
      ],
      "metadata": {
        "colab": {
          "base_uri": "https://localhost:8080/",
          "height": 193
        },
        "id": "OZvMyLU52N9h",
        "outputId": "5e795fda-fb96-47a2-cd71-c25e226cfb0b"
      },
      "execution_count": 5,
      "outputs": [
        {
          "output_type": "execute_result",
          "data": {
            "text/plain": [
              "  antecedents consequents  antecedent support  consequent support  support  \\\n",
              "0      (Eggs)     (Onion)                 0.8                 0.6      0.6   \n",
              "1     (Onion)      (Eggs)                 0.6                 0.8      0.6   \n",
              "\n",
              "   confidence  lift  leverage  conviction  \n",
              "0        0.75  1.25      0.12         1.6  \n",
              "1        1.00  1.25      0.12         inf  "
            ],
            "text/html": [
              "\n",
              "  <div id=\"df-56ffd8f7-1d79-4549-ba12-0242097868f7\">\n",
              "    <div class=\"colab-df-container\">\n",
              "      <div>\n",
              "<style scoped>\n",
              "    .dataframe tbody tr th:only-of-type {\n",
              "        vertical-align: middle;\n",
              "    }\n",
              "\n",
              "    .dataframe tbody tr th {\n",
              "        vertical-align: top;\n",
              "    }\n",
              "\n",
              "    .dataframe thead th {\n",
              "        text-align: right;\n",
              "    }\n",
              "</style>\n",
              "<table border=\"1\" class=\"dataframe\">\n",
              "  <thead>\n",
              "    <tr style=\"text-align: right;\">\n",
              "      <th></th>\n",
              "      <th>antecedents</th>\n",
              "      <th>consequents</th>\n",
              "      <th>antecedent support</th>\n",
              "      <th>consequent support</th>\n",
              "      <th>support</th>\n",
              "      <th>confidence</th>\n",
              "      <th>lift</th>\n",
              "      <th>leverage</th>\n",
              "      <th>conviction</th>\n",
              "    </tr>\n",
              "  </thead>\n",
              "  <tbody>\n",
              "    <tr>\n",
              "      <th>0</th>\n",
              "      <td>(Eggs)</td>\n",
              "      <td>(Onion)</td>\n",
              "      <td>0.8</td>\n",
              "      <td>0.6</td>\n",
              "      <td>0.6</td>\n",
              "      <td>0.75</td>\n",
              "      <td>1.25</td>\n",
              "      <td>0.12</td>\n",
              "      <td>1.6</td>\n",
              "    </tr>\n",
              "    <tr>\n",
              "      <th>1</th>\n",
              "      <td>(Onion)</td>\n",
              "      <td>(Eggs)</td>\n",
              "      <td>0.6</td>\n",
              "      <td>0.8</td>\n",
              "      <td>0.6</td>\n",
              "      <td>1.00</td>\n",
              "      <td>1.25</td>\n",
              "      <td>0.12</td>\n",
              "      <td>inf</td>\n",
              "    </tr>\n",
              "  </tbody>\n",
              "</table>\n",
              "</div>\n",
              "      <button class=\"colab-df-convert\" onclick=\"convertToInteractive('df-56ffd8f7-1d79-4549-ba12-0242097868f7')\"\n",
              "              title=\"Convert this dataframe to an interactive table.\"\n",
              "              style=\"display:none;\">\n",
              "        \n",
              "  <svg xmlns=\"http://www.w3.org/2000/svg\" height=\"24px\"viewBox=\"0 0 24 24\"\n",
              "       width=\"24px\">\n",
              "    <path d=\"M0 0h24v24H0V0z\" fill=\"none\"/>\n",
              "    <path d=\"M18.56 5.44l.94 2.06.94-2.06 2.06-.94-2.06-.94-.94-2.06-.94 2.06-2.06.94zm-11 1L8.5 8.5l.94-2.06 2.06-.94-2.06-.94L8.5 2.5l-.94 2.06-2.06.94zm10 10l.94 2.06.94-2.06 2.06-.94-2.06-.94-.94-2.06-.94 2.06-2.06.94z\"/><path d=\"M17.41 7.96l-1.37-1.37c-.4-.4-.92-.59-1.43-.59-.52 0-1.04.2-1.43.59L10.3 9.45l-7.72 7.72c-.78.78-.78 2.05 0 2.83L4 21.41c.39.39.9.59 1.41.59.51 0 1.02-.2 1.41-.59l7.78-7.78 2.81-2.81c.8-.78.8-2.07 0-2.86zM5.41 20L4 18.59l7.72-7.72 1.47 1.35L5.41 20z\"/>\n",
              "  </svg>\n",
              "      </button>\n",
              "      \n",
              "  <style>\n",
              "    .colab-df-container {\n",
              "      display:flex;\n",
              "      flex-wrap:wrap;\n",
              "      gap: 12px;\n",
              "    }\n",
              "\n",
              "    .colab-df-convert {\n",
              "      background-color: #E8F0FE;\n",
              "      border: none;\n",
              "      border-radius: 50%;\n",
              "      cursor: pointer;\n",
              "      display: none;\n",
              "      fill: #1967D2;\n",
              "      height: 32px;\n",
              "      padding: 0 0 0 0;\n",
              "      width: 32px;\n",
              "    }\n",
              "\n",
              "    .colab-df-convert:hover {\n",
              "      background-color: #E2EBFA;\n",
              "      box-shadow: 0px 1px 2px rgba(60, 64, 67, 0.3), 0px 1px 3px 1px rgba(60, 64, 67, 0.15);\n",
              "      fill: #174EA6;\n",
              "    }\n",
              "\n",
              "    [theme=dark] .colab-df-convert {\n",
              "      background-color: #3B4455;\n",
              "      fill: #D2E3FC;\n",
              "    }\n",
              "\n",
              "    [theme=dark] .colab-df-convert:hover {\n",
              "      background-color: #434B5C;\n",
              "      box-shadow: 0px 1px 3px 1px rgba(0, 0, 0, 0.15);\n",
              "      filter: drop-shadow(0px 1px 2px rgba(0, 0, 0, 0.3));\n",
              "      fill: #FFFFFF;\n",
              "    }\n",
              "  </style>\n",
              "\n",
              "      <script>\n",
              "        const buttonEl =\n",
              "          document.querySelector('#df-56ffd8f7-1d79-4549-ba12-0242097868f7 button.colab-df-convert');\n",
              "        buttonEl.style.display =\n",
              "          google.colab.kernel.accessAllowed ? 'block' : 'none';\n",
              "\n",
              "        async function convertToInteractive(key) {\n",
              "          const element = document.querySelector('#df-56ffd8f7-1d79-4549-ba12-0242097868f7');\n",
              "          const dataTable =\n",
              "            await google.colab.kernel.invokeFunction('convertToInteractive',\n",
              "                                                     [key], {});\n",
              "          if (!dataTable) return;\n",
              "\n",
              "          const docLinkHtml = 'Like what you see? Visit the ' +\n",
              "            '<a target=\"_blank\" href=https://colab.research.google.com/notebooks/data_table.ipynb>data table notebook</a>'\n",
              "            + ' to learn more about interactive tables.';\n",
              "          element.innerHTML = '';\n",
              "          dataTable['output_type'] = 'display_data';\n",
              "          await google.colab.output.renderOutput(dataTable, element);\n",
              "          const docLink = document.createElement('div');\n",
              "          docLink.innerHTML = docLinkHtml;\n",
              "          element.appendChild(docLink);\n",
              "        }\n",
              "      </script>\n",
              "    </div>\n",
              "  </div>\n",
              "  "
            ]
          },
          "metadata": {},
          "execution_count": 5
        }
      ]
    },
    {
      "cell_type": "markdown",
      "source": [
        "여기서는 egg와 Onion이 양의 상관관계가 있는 것으로 확인 되네요."
      ],
      "metadata": {
        "id": "_gJUsOGu2U8y"
      }
    },
    {
      "cell_type": "markdown",
      "source": [
        "# 심화 예제\n",
        "\n",
        "출처: https://zephyrus1111.tistory.com/119"
      ],
      "metadata": {
        "id": "7eFx741d2wG-"
      }
    },
    {
      "cell_type": "code",
      "source": [
        "import matplotlib.pyplot as plt\n",
        "import matplotlib.colors as mcl\n",
        "import pandas as pd\n",
        "import numpy as np\n",
        " \n",
        "from matplotlib.colors import LinearSegmentedColormap\n",
        "from mlxtend.preprocessing import TransactionEncoder\n",
        "from mlxtend.frequent_patterns import apriori, association_rules\n"
      ],
      "metadata": {
        "id": "hk9CuFMK5rVN"
      },
      "execution_count": 6,
      "outputs": []
    },
    {
      "cell_type": "code",
      "source": [
        "store_df = pd.read_csv('../dataset/store_data.csv', header=None)"
      ],
      "metadata": {
        "id": "-3YLhU_-5uqu"
      },
      "execution_count": null,
      "outputs": []
    },
    {
      "cell_type": "code",
      "source": [
        "records = []\n",
        "for i in range(len(store_df)):\n",
        "    records.append([str(store_df.values[i,j]) \\\n",
        "                    for j in range(len(store_df.columns)) if not pd.isna(store_df.values[i,j])])\n"
      ],
      "metadata": {
        "id": "j27bFkYi52Js"
      },
      "execution_count": null,
      "outputs": []
    },
    {
      "cell_type": "code",
      "source": [
        "te = TransactionEncoder()\n",
        "te_ary = te.fit(records).transform(records, sparse=True)\n",
        "te_df = pd.DataFrame.sparse.from_spmatrix(te_ary, columns=te.columns_)\n"
      ],
      "metadata": {
        "id": "XJIjHMd-5230"
      },
      "execution_count": null,
      "outputs": []
    },
    {
      "cell_type": "code",
      "source": [
        "frequent_itemset = apriori(te_df,\n",
        "                           min_support=0.005, \n",
        "                           max_len=3, \n",
        "                           use_colnames=True, \n",
        "                           verbose=1 \n",
        "                          )\n",
        "frequent_itemset['length'] = frequent_itemset['itemsets'].map(lambda x: len(x))\n",
        "frequent_itemset.sort_values('support',ascending=False,inplace=True)"
      ],
      "metadata": {
        "id": "eO4oC9x059Jv"
      },
      "execution_count": null,
      "outputs": []
    },
    {
      "cell_type": "code",
      "source": [
        "association_rules_df = association_rules(frequent_itemset, \n",
        "                                         metric='confidence', \n",
        "                                         min_threshold=0.005,\n",
        "                                        )\n",
        "all_confidences = []\n",
        "collective_strengths = []\n",
        "cosine_similarities = []\n",
        "for _,row in association_rules_df.iterrows():\n",
        "    all_confidence_if = list(row['antecedents'])[0]\n",
        "    all_confidence_then = list(row['consequents'])[0]\n",
        "    if row['antecedent support'] <= row['consequent support']:\n",
        "        all_confidence_if = list(row['consequents'])[0]\n",
        "        all_confidence_then = list(row['antecedents'])[0]\n",
        "    all_confidence = {all_confidence_if+' => '+all_confidence_then : \\\n",
        "                      row['support']/max(row['antecedent support'], row['consequent support'])}\n",
        "    all_confidences.append(all_confidence)\n",
        "    \n",
        "    violation = row['antecedent support'] + row['consequent support'] - 2*row['support']\n",
        "    ex_violation = 1-row['antecedent support']*row['consequent support'] - \\\n",
        "                    (1-row['antecedent support'])*(1-row['consequent support'])\n",
        "    collective_strength = (1-violation)/(1-ex_violation)*(ex_violation/violation)\n",
        "    collective_strengths.append(collective_strength)\n",
        "    \n",
        "    cosine_similarity = row['support']/np.sqrt(row['antecedent support']*row['consequent support'])\n",
        "    cosine_similarities.append(cosine_similarity)\n",
        "    \n",
        "association_rules_df['all-confidence'] = all_confidences\n",
        "association_rules_df['collective strength'] = collective_strengths\n",
        "association_rules_df['cosine similarity'] = cosine_similarities"
      ],
      "metadata": {
        "id": "Vy53P0vS6Bzg"
      },
      "execution_count": null,
      "outputs": []
    },
    {
      "cell_type": "code",
      "source": [
        "max_i = 4\n",
        "for i, row in association_rules_df.iterrows():\n",
        "    print(\"Rule: \" + list(row['antecedents'])[0] + \" => \" + list(row['consequents'])[0])\n",
        " \n",
        "    print(\"Support: \" + str(round(row['support'],2)))\n",
        " \n",
        "    print(\"Confidence: \" + str(round(row['confidence'],2)))\n",
        "    print(\"Lift: \" + str(round(row['lift'],2)))\n",
        "    print(\"=====================================\")\n",
        "    if i==max_i:\n",
        "        break"
      ],
      "metadata": {
        "id": "fn7erIE56FQ0"
      },
      "execution_count": null,
      "outputs": []
    },
    {
      "cell_type": "code",
      "source": [
        "support = association_rules_df['support']\n",
        "confidence = association_rules_df['confidence']\n",
        " \n",
        "h = 347\n",
        "s = 1\n",
        "v = 1\n",
        "colors = [\n",
        "    mcl.hsv_to_rgb((h/360, 0.2, v)),\n",
        "    mcl.hsv_to_rgb((h/360, 0.55, v)),\n",
        "    mcl.hsv_to_rgb((h/360, 1, v))\n",
        "]\n",
        "cmap = LinearSegmentedColormap.from_list('my_cmap',colors,gamma=2)\n",
        " \n",
        "measures = ['lift', 'leverage', 'conviction', \n",
        "            'all-confidence', 'collective strength', 'cosine similarity']\n",
        " \n",
        "fig = plt.figure(figsize=(15,10))\n",
        "fig.set_facecolor('white')\n",
        "for i, measure in enumerate(measures):\n",
        "    ax = fig.add_subplot(320+i+1)\n",
        "    if measure != 'all-confidence':\n",
        "        scatter = ax.scatter(support,confidence,c=association_rules_df[measure],cmap=cmap)\n",
        "    else:\n",
        "        scatter = ax.scatter(support,confidence,c=association_rules_df['all-confidence'].map(lambda x: [v for k,v in x.items()][0]),cmap=cmap)\n",
        "    ax.set_xlabel('support')\n",
        "    ax.set_ylabel('confidence')\n",
        "    ax.set_title(measure)\n",
        "    \n",
        "    fig.colorbar(scatter,ax=ax)\n",
        "fig.subplots_adjust(wspace=0.2, hspace=0.5)\n",
        "plt.show()"
      ],
      "metadata": {
        "id": "LKB9SQYr6FzW"
      },
      "execution_count": null,
      "outputs": []
    }
  ]
}