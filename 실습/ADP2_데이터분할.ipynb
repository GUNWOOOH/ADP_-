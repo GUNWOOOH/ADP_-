{
  "nbformat": 4,
  "nbformat_minor": 0,
  "metadata": {
    "colab": {
      "provenance": [],
      "authorship_tag": "ABX9TyPXwy4P2kYJb5DgsXPbGsA8",
      "include_colab_link": true
    },
    "kernelspec": {
      "name": "python3",
      "display_name": "Python 3"
    },
    "language_info": {
      "name": "python"
    }
  },
  "cells": [
    {
      "cell_type": "markdown",
      "metadata": {
        "id": "view-in-github",
        "colab_type": "text"
      },
      "source": [
        "<a href=\"https://colab.research.google.com/github/GUNWOOOH/ADP_Practice/blob/main/%EC%8B%A4%EC%8A%B5/ADP2_%EB%8D%B0%EC%9D%B4%ED%84%B0%EB%B6%84%ED%95%A0.ipynb\" target=\"_parent\"><img src=\"https://colab.research.google.com/assets/colab-badge.svg\" alt=\"Open In Colab\"/></a>"
      ]
    },
    {
      "cell_type": "markdown",
      "source": [
        "# Train - Test 분할 여러가지 방법\n",
        "\n",
        "(1) scikit-learn 라이브러리 model_selection 클래스의 train_test_split 함수를 이용하여 train, test set 분할하기\n",
        "\n",
        "(2) numpy random 클래스의 permutation() 함수를 이용하여 train, test set 분할하기\n",
        "\n",
        "(3) numpy random 클래스의 choice() 함수를 이용하여 train, test set 분할하기\n",
        "\n",
        "(4) numpy random 클래스의 shuffle() 함수를 이용하여 train, test set 분할하기"
      ],
      "metadata": {
        "id": "Bn5YYAEtN8gP"
      }
    },
    {
      "cell_type": "code",
      "execution_count": 2,
      "metadata": {
        "id": "-jF4cTBhN8CI"
      },
      "outputs": [],
      "source": [
        "\n",
        "\n",
        "import numpy as np\n",
        "\n",
        "\n",
        "\n",
        "X = np.arange(20).reshape(10, 2)\n",
        "y = np.arange(10)\n"
      ]
    },
    {
      "cell_type": "markdown",
      "source": [
        "(1) scikit-learn 라이브러리 model_selection 클래스의 train_test_split\n",
        "\n",
        "(1-1) 순차적으로 train, test set 분할"
      ],
      "metadata": {
        "id": "fT5YLu1WOT9-"
      }
    },
    {
      "cell_type": "code",
      "source": [
        "from sklearn.model_selection import train_test_split\n",
        "\n",
        "# shuffle = False\n",
        "X_train, X_test, y_train, y_test = train_test_split(X,\n",
        "                                                    y,\n",
        "                                                    test_size=0.4,\n",
        "                                                    shuffle=False,\n",
        "                                                    random_state=1004)\n",
        "print('X_train shape:', X_train.shape)\n",
        "print('X_test shape:', X_test.shape)\n",
        "print('_train shape:', y_train.shape)\n",
        "print('y_test shape:', y_test.shape)"
      ],
      "metadata": {
        "colab": {
          "base_uri": "https://localhost:8080/"
        },
        "id": "UQWZ6iaqOGdX",
        "outputId": "3fab4cbe-62b0-46d9-d2fe-8fd718816432"
      },
      "execution_count": 3,
      "outputs": [
        {
          "output_type": "stream",
          "name": "stdout",
          "text": [
            "X_train shape: (6, 2)\n",
            "X_test shape: (4, 2)\n",
            "_train shape: (6,)\n",
            "y_test shape: (4,)\n"
          ]
        }
      ]
    },
    {
      "cell_type": "markdown",
      "source": [
        "(1-2) 무작위 추출로 train, test set 분할"
      ],
      "metadata": {
        "id": "VHXc__0-OXqk"
      }
    },
    {
      "cell_type": "code",
      "source": [
        "\n",
        "\n",
        "# shuffle = True\n",
        "\n",
        "X_train, X_test, y_train, y_test = train_test_split(X,\n",
        "                                                    y,\n",
        "                                                    test_size=0.4,\n",
        "                                                    shuffle=True,\n",
        "                                                    random_state=1004)\n",
        "\n"
      ],
      "metadata": {
        "id": "OzXHBIi_OJlJ"
      },
      "execution_count": 4,
      "outputs": []
    },
    {
      "cell_type": "markdown",
      "source": [
        "(2) numpy random 클래스의 permutation 함수"
      ],
      "metadata": {
        "id": "DUsRQ8DrOlao"
      }
    },
    {
      "cell_type": "code",
      "source": [
        "# UDF of split train, test set using np.random.permutation()\n",
        "\n",
        "# X: 2D array, y:1D array\n",
        "\n",
        "def permutation_train_test_split(X, y, test_size=0.2, shuffle=True, random_state=1004):\n",
        "    import numpy as np\n",
        "    test_num = int(X.shape[0] * test_size)\n",
        "    train_num = X.shape[0] - test_num\n",
        "    if shuffle:\n",
        "        np.random.seed(random_state)\n",
        "        shuffled = np.random.permutation(X.shape[0])\n",
        "        X = X[shuffled,:]\n",
        "        y = y[shuffled]\n",
        "        X_train = X[:train_num]\n",
        "        X_test = X[train_num:]\n",
        "        y_train = y[:train_num]\n",
        "        y_test = y[train_num:]\n",
        "    else:\n",
        "        X_train = X[:train_num]\n",
        "        X_test = X[train_num:]\n",
        "        y_train = y[:train_num]\n",
        "        y_test = y[train_num:]\n",
        "    return X_train, X_test, y_train, y_test\n",
        "\n",
        "# create 2D X and 1D y array\n",
        "X = np.arange(20).reshape(10, 2)\n",
        "y = np.arange(10)\n",
        "\n",
        "# split train and test set using by random sampling\n",
        "X_train, X_test, y_train, y_test = permutation_train_test_split(X,\n",
        "                                                                y,\n",
        "                                                                test_size=0.4,\n",
        "                                                                shuffle=True,\n",
        "                                                                random_state=1004)"
      ],
      "metadata": {
        "id": "K4YWd-GpOh1j"
      },
      "execution_count": 5,
      "outputs": []
    },
    {
      "cell_type": "markdown",
      "source": [
        "  (3) numpy random 클래스의 choice 함수"
      ],
      "metadata": {
        "id": "vqEk-opOO4k3"
      }
    },
    {
      "cell_type": "code",
      "source": [
        "\n",
        "\n",
        "def choice_train_test_split(X, y, test_size=0.2, shuffle=True, random_state=1004):\n",
        "    test_num = int(X.shape[0] * test_size)\n",
        "    train_num = X.shape[0] - test_num\n",
        "    if shuffle:\n",
        "        np.random.seed(random_state)\n",
        "        train_idx = np.random.choice(X.shape[0], train_num, replace=False)\n",
        "\n",
        "\n",
        "\n",
        "        #-- way 1: using np.setdiff1d()\n",
        "        test_idx = np.setdiff1d(range(X.shape[0]), train_idx)\n",
        "        X_train = X[train_idx, :]\n",
        "        X_test = X[train_idx, :]\n",
        "        y_train = y[test_idx]\n",
        "        y_test = y[test_idx]\n",
        "    else:\n",
        "        X_train = X[:train_num]\n",
        "        X_test = X[train_num:]\n",
        "        y_train = y[:train_num]\n",
        "        y_test = y[train_num:]\n",
        "    return X_train, X_test, y_train, y_test"
      ],
      "metadata": {
        "id": "oTOtBinSO2ev"
      },
      "execution_count": null,
      "outputs": []
    },
    {
      "cell_type": "markdown",
      "source": [
        " (4) numpy random shuffle() 함수"
      ],
      "metadata": {
        "id": "6oX0E9TYPPxS"
      }
    },
    {
      "cell_type": "code",
      "source": [
        "\n",
        "\n",
        "# UDF of split train, test set using np.random.shuffle()\n",
        "\n",
        "# X: 2D array, y:1D array\n",
        "\n",
        "def shuffle_train_test_split(X, y, test_size=0.2, shuffle=True, random_state=1004):\n",
        "\n",
        "    import numpy as np\n",
        "\n",
        "\n",
        "\n",
        "    test_num = int(X.shape[0] * test_size)\n",
        "\n",
        "    train_num = X.shape[0] - test_num\n",
        "\n",
        "\n",
        "\n",
        "    if shuffle:\n",
        "\n",
        "        np.random.seed(random_state) # for reproducibility\n",
        "\n",
        "        Xy = np.column_stack((X, y)) # concatenate first\n",
        "\n",
        "        np.random.shuffle(Xy)           # random shuffling second\n",
        "\n",
        "        X_train = Xy[:train_num, :-1]  # slicing from 1 to train_num row, X column\n",
        "\n",
        "        X_test = Xy[train_num:, :-1]   # slicing from 1 to train_num row, y column\n",
        "\n",
        "        y_train = Xy[:train_num, -1]\n",
        "\n",
        "        y_test = Xy[train_num:, -1]\n",
        "\n",
        "    else:\n",
        "\n",
        "        X_train = X[:train_num]\n",
        "\n",
        "        X_test = X[train_num:]\n",
        "\n",
        "        y_train = y[:train_num]\n",
        "\n",
        "        y_test = y[train_num:]\n",
        "\n",
        "\n",
        "\n",
        "    return X_train, X_test, y_train, y_test\n",
        "\n",
        "\n",
        "\n",
        "# shuffle = True\n",
        "\n",
        "X = np.arange(20).reshape(10, 2)\n",
        "\n",
        "y = np.arange(10)\n",
        "\n",
        "\n",
        "\n",
        "X_train, X_test, y_train, y_test = shuffle_train_test_split(X,\n",
        "\n",
        "                                                            y,\n",
        "\n",
        "                                                            test_size=0.4,\n",
        "\n",
        "                                                            shuffle=True)\n",
        "\n"
      ],
      "metadata": {
        "id": "nCIT0cS8PQWL"
      },
      "execution_count": 6,
      "outputs": []
    },
    {
      "cell_type": "markdown",
      "source": [
        "#층화추출"
      ],
      "metadata": {
        "id": "7uplCc84PZgK"
      }
    },
    {
      "cell_type": "code",
      "source": [
        "# returns X_train, X_test, y_train, y_test dataset\n",
        "\n",
        "from sklearn.model_selection import train_test_split\n",
        "grp = [0, 0, 0, 0, 0, 1, 1, 1, 1, 1]\n",
        "\n",
        "\n",
        "X_train, X_test, y_train, y_test = train_test_split(X,\n",
        "                                                    y,\n",
        "                                                    test_size=0.2,\n",
        "                                                    shuffle=True,\n",
        "                                                    stratify=grp,\n",
        "                                                    random_state=1004)\n",
        "\n",
        "\n",
        "\n",
        "print('X_train shape:', X_train.shape)\n",
        "print('X_test shape:', X_test.shape)\n",
        "print('y_train shape:', y_train.shape)\n",
        "print('y_test shape:', y_test.shape)"
      ],
      "metadata": {
        "colab": {
          "base_uri": "https://localhost:8080/"
        },
        "id": "KzAWZ0XiPTzT",
        "outputId": "8c343218-1235-402b-c72e-f9a2f958c44a"
      },
      "execution_count": 8,
      "outputs": [
        {
          "output_type": "stream",
          "name": "stdout",
          "text": [
            "X_train shape: (8, 2)\n",
            "X_test shape: (2, 2)\n",
            "y_train shape: (8,)\n",
            "y_test shape: (2,)\n"
          ]
        }
      ]
    },
    {
      "cell_type": "markdown",
      "source": [
        "#계통 추출"
      ],
      "metadata": {
        "id": "QafYr3aAVQGc"
      }
    },
    {
      "cell_type": "code",
      "source": [
        "#모집단: 1부터 100까지 정수, 기준: 매 5번째 숫자 Systematic sampling\n",
        "\n",
        "population = [x for x in range(1,101)]\n",
        "sample = [x for x in population if x%5 == 0]"
      ],
      "metadata": {
        "id": "2ur2ZdLCUcjE"
      },
      "execution_count": 9,
      "outputs": []
    },
    {
      "cell_type": "markdown",
      "source": [
        "#군집 추출"
      ],
      "metadata": {
        "id": "92FKD68DWjNO"
      }
    },
    {
      "cell_type": "code",
      "source": [
        "import pandas as pd\n",
        "import numpy as np\n",
        "\n",
        "#make this example reproducible\n",
        "np.random.seed(0)\n",
        "\n",
        "#create DataFrame\n",
        "df = pd.DataFrame({'tour': np.repeat(np.arange(1,11), 20),\n",
        "                   'experience': np.random.normal(loc=7, scale=1, size=200)})\n",
        "\n",
        "#view first six rows of DataFrame\n",
        "df.head()\n",
        "\n",
        "#randomly choose 4 tour groups out of the 10\n",
        "clusters = np.random.choice(np.arange(1,11), size=4, replace=False)\n",
        "\n",
        "#define sample as all members who belong to one of the 4 tour groups\n",
        "cluster_sample = df[df['tour'].isin(clusters)]\n",
        "\n",
        "#view first six rows of sample\n",
        "cluster_sample.head()"
      ],
      "metadata": {
        "colab": {
          "base_uri": "https://localhost:8080/",
          "height": 206
        },
        "id": "6ME9Bm3VVSST",
        "outputId": "846c6d2f-2076-41ed-a77d-cb0f2a8f3ceb"
      },
      "execution_count": 10,
      "outputs": [
        {
          "output_type": "execute_result",
          "data": {
            "text/plain": [
              "   tour  experience\n",
              "0     1    8.764052\n",
              "1     1    7.400157\n",
              "2     1    7.978738\n",
              "3     1    9.240893\n",
              "4     1    8.867558"
            ],
            "text/html": [
              "\n",
              "  <div id=\"df-9594cd4f-48e7-4fa0-bc58-51acea6e8332\" class=\"colab-df-container\">\n",
              "    <div>\n",
              "<style scoped>\n",
              "    .dataframe tbody tr th:only-of-type {\n",
              "        vertical-align: middle;\n",
              "    }\n",
              "\n",
              "    .dataframe tbody tr th {\n",
              "        vertical-align: top;\n",
              "    }\n",
              "\n",
              "    .dataframe thead th {\n",
              "        text-align: right;\n",
              "    }\n",
              "</style>\n",
              "<table border=\"1\" class=\"dataframe\">\n",
              "  <thead>\n",
              "    <tr style=\"text-align: right;\">\n",
              "      <th></th>\n",
              "      <th>tour</th>\n",
              "      <th>experience</th>\n",
              "    </tr>\n",
              "  </thead>\n",
              "  <tbody>\n",
              "    <tr>\n",
              "      <th>0</th>\n",
              "      <td>1</td>\n",
              "      <td>8.764052</td>\n",
              "    </tr>\n",
              "    <tr>\n",
              "      <th>1</th>\n",
              "      <td>1</td>\n",
              "      <td>7.400157</td>\n",
              "    </tr>\n",
              "    <tr>\n",
              "      <th>2</th>\n",
              "      <td>1</td>\n",
              "      <td>7.978738</td>\n",
              "    </tr>\n",
              "    <tr>\n",
              "      <th>3</th>\n",
              "      <td>1</td>\n",
              "      <td>9.240893</td>\n",
              "    </tr>\n",
              "    <tr>\n",
              "      <th>4</th>\n",
              "      <td>1</td>\n",
              "      <td>8.867558</td>\n",
              "    </tr>\n",
              "  </tbody>\n",
              "</table>\n",
              "</div>\n",
              "    <div class=\"colab-df-buttons\">\n",
              "\n",
              "  <div class=\"colab-df-container\">\n",
              "    <button class=\"colab-df-convert\" onclick=\"convertToInteractive('df-9594cd4f-48e7-4fa0-bc58-51acea6e8332')\"\n",
              "            title=\"Convert this dataframe to an interactive table.\"\n",
              "            style=\"display:none;\">\n",
              "\n",
              "  <svg xmlns=\"http://www.w3.org/2000/svg\" height=\"24px\" viewBox=\"0 -960 960 960\">\n",
              "    <path d=\"M120-120v-720h720v720H120Zm60-500h600v-160H180v160Zm220 220h160v-160H400v160Zm0 220h160v-160H400v160ZM180-400h160v-160H180v160Zm440 0h160v-160H620v160ZM180-180h160v-160H180v160Zm440 0h160v-160H620v160Z\"/>\n",
              "  </svg>\n",
              "    </button>\n",
              "\n",
              "  <style>\n",
              "    .colab-df-container {\n",
              "      display:flex;\n",
              "      gap: 12px;\n",
              "    }\n",
              "\n",
              "    .colab-df-convert {\n",
              "      background-color: #E8F0FE;\n",
              "      border: none;\n",
              "      border-radius: 50%;\n",
              "      cursor: pointer;\n",
              "      display: none;\n",
              "      fill: #1967D2;\n",
              "      height: 32px;\n",
              "      padding: 0 0 0 0;\n",
              "      width: 32px;\n",
              "    }\n",
              "\n",
              "    .colab-df-convert:hover {\n",
              "      background-color: #E2EBFA;\n",
              "      box-shadow: 0px 1px 2px rgba(60, 64, 67, 0.3), 0px 1px 3px 1px rgba(60, 64, 67, 0.15);\n",
              "      fill: #174EA6;\n",
              "    }\n",
              "\n",
              "    .colab-df-buttons div {\n",
              "      margin-bottom: 4px;\n",
              "    }\n",
              "\n",
              "    [theme=dark] .colab-df-convert {\n",
              "      background-color: #3B4455;\n",
              "      fill: #D2E3FC;\n",
              "    }\n",
              "\n",
              "    [theme=dark] .colab-df-convert:hover {\n",
              "      background-color: #434B5C;\n",
              "      box-shadow: 0px 1px 3px 1px rgba(0, 0, 0, 0.15);\n",
              "      filter: drop-shadow(0px 1px 2px rgba(0, 0, 0, 0.3));\n",
              "      fill: #FFFFFF;\n",
              "    }\n",
              "  </style>\n",
              "\n",
              "    <script>\n",
              "      const buttonEl =\n",
              "        document.querySelector('#df-9594cd4f-48e7-4fa0-bc58-51acea6e8332 button.colab-df-convert');\n",
              "      buttonEl.style.display =\n",
              "        google.colab.kernel.accessAllowed ? 'block' : 'none';\n",
              "\n",
              "      async function convertToInteractive(key) {\n",
              "        const element = document.querySelector('#df-9594cd4f-48e7-4fa0-bc58-51acea6e8332');\n",
              "        const dataTable =\n",
              "          await google.colab.kernel.invokeFunction('convertToInteractive',\n",
              "                                                    [key], {});\n",
              "        if (!dataTable) return;\n",
              "\n",
              "        const docLinkHtml = 'Like what you see? Visit the ' +\n",
              "          '<a target=\"_blank\" href=https://colab.research.google.com/notebooks/data_table.ipynb>data table notebook</a>'\n",
              "          + ' to learn more about interactive tables.';\n",
              "        element.innerHTML = '';\n",
              "        dataTable['output_type'] = 'display_data';\n",
              "        await google.colab.output.renderOutput(dataTable, element);\n",
              "        const docLink = document.createElement('div');\n",
              "        docLink.innerHTML = docLinkHtml;\n",
              "        element.appendChild(docLink);\n",
              "      }\n",
              "    </script>\n",
              "  </div>\n",
              "\n",
              "\n",
              "<div id=\"df-ebba69b7-95f0-40b3-aca2-8abf0b558929\">\n",
              "  <button class=\"colab-df-quickchart\" onclick=\"quickchart('df-ebba69b7-95f0-40b3-aca2-8abf0b558929')\"\n",
              "            title=\"Suggest charts.\"\n",
              "            style=\"display:none;\">\n",
              "\n",
              "<svg xmlns=\"http://www.w3.org/2000/svg\" height=\"24px\"viewBox=\"0 0 24 24\"\n",
              "     width=\"24px\">\n",
              "    <g>\n",
              "        <path d=\"M19 3H5c-1.1 0-2 .9-2 2v14c0 1.1.9 2 2 2h14c1.1 0 2-.9 2-2V5c0-1.1-.9-2-2-2zM9 17H7v-7h2v7zm4 0h-2V7h2v10zm4 0h-2v-4h2v4z\"/>\n",
              "    </g>\n",
              "</svg>\n",
              "  </button>\n",
              "\n",
              "<style>\n",
              "  .colab-df-quickchart {\n",
              "      --bg-color: #E8F0FE;\n",
              "      --fill-color: #1967D2;\n",
              "      --hover-bg-color: #E2EBFA;\n",
              "      --hover-fill-color: #174EA6;\n",
              "      --disabled-fill-color: #AAA;\n",
              "      --disabled-bg-color: #DDD;\n",
              "  }\n",
              "\n",
              "  [theme=dark] .colab-df-quickchart {\n",
              "      --bg-color: #3B4455;\n",
              "      --fill-color: #D2E3FC;\n",
              "      --hover-bg-color: #434B5C;\n",
              "      --hover-fill-color: #FFFFFF;\n",
              "      --disabled-bg-color: #3B4455;\n",
              "      --disabled-fill-color: #666;\n",
              "  }\n",
              "\n",
              "  .colab-df-quickchart {\n",
              "    background-color: var(--bg-color);\n",
              "    border: none;\n",
              "    border-radius: 50%;\n",
              "    cursor: pointer;\n",
              "    display: none;\n",
              "    fill: var(--fill-color);\n",
              "    height: 32px;\n",
              "    padding: 0;\n",
              "    width: 32px;\n",
              "  }\n",
              "\n",
              "  .colab-df-quickchart:hover {\n",
              "    background-color: var(--hover-bg-color);\n",
              "    box-shadow: 0 1px 2px rgba(60, 64, 67, 0.3), 0 1px 3px 1px rgba(60, 64, 67, 0.15);\n",
              "    fill: var(--button-hover-fill-color);\n",
              "  }\n",
              "\n",
              "  .colab-df-quickchart-complete:disabled,\n",
              "  .colab-df-quickchart-complete:disabled:hover {\n",
              "    background-color: var(--disabled-bg-color);\n",
              "    fill: var(--disabled-fill-color);\n",
              "    box-shadow: none;\n",
              "  }\n",
              "\n",
              "  .colab-df-spinner {\n",
              "    border: 2px solid var(--fill-color);\n",
              "    border-color: transparent;\n",
              "    border-bottom-color: var(--fill-color);\n",
              "    animation:\n",
              "      spin 1s steps(1) infinite;\n",
              "  }\n",
              "\n",
              "  @keyframes spin {\n",
              "    0% {\n",
              "      border-color: transparent;\n",
              "      border-bottom-color: var(--fill-color);\n",
              "      border-left-color: var(--fill-color);\n",
              "    }\n",
              "    20% {\n",
              "      border-color: transparent;\n",
              "      border-left-color: var(--fill-color);\n",
              "      border-top-color: var(--fill-color);\n",
              "    }\n",
              "    30% {\n",
              "      border-color: transparent;\n",
              "      border-left-color: var(--fill-color);\n",
              "      border-top-color: var(--fill-color);\n",
              "      border-right-color: var(--fill-color);\n",
              "    }\n",
              "    40% {\n",
              "      border-color: transparent;\n",
              "      border-right-color: var(--fill-color);\n",
              "      border-top-color: var(--fill-color);\n",
              "    }\n",
              "    60% {\n",
              "      border-color: transparent;\n",
              "      border-right-color: var(--fill-color);\n",
              "    }\n",
              "    80% {\n",
              "      border-color: transparent;\n",
              "      border-right-color: var(--fill-color);\n",
              "      border-bottom-color: var(--fill-color);\n",
              "    }\n",
              "    90% {\n",
              "      border-color: transparent;\n",
              "      border-bottom-color: var(--fill-color);\n",
              "    }\n",
              "  }\n",
              "</style>\n",
              "\n",
              "  <script>\n",
              "    async function quickchart(key) {\n",
              "      const quickchartButtonEl =\n",
              "        document.querySelector('#' + key + ' button');\n",
              "      quickchartButtonEl.disabled = true;  // To prevent multiple clicks.\n",
              "      quickchartButtonEl.classList.add('colab-df-spinner');\n",
              "      try {\n",
              "        const charts = await google.colab.kernel.invokeFunction(\n",
              "            'suggestCharts', [key], {});\n",
              "      } catch (error) {\n",
              "        console.error('Error during call to suggestCharts:', error);\n",
              "      }\n",
              "      quickchartButtonEl.classList.remove('colab-df-spinner');\n",
              "      quickchartButtonEl.classList.add('colab-df-quickchart-complete');\n",
              "    }\n",
              "    (() => {\n",
              "      let quickchartButtonEl =\n",
              "        document.querySelector('#df-ebba69b7-95f0-40b3-aca2-8abf0b558929 button');\n",
              "      quickchartButtonEl.style.display =\n",
              "        google.colab.kernel.accessAllowed ? 'block' : 'none';\n",
              "    })();\n",
              "  </script>\n",
              "</div>\n",
              "    </div>\n",
              "  </div>\n"
            ]
          },
          "metadata": {},
          "execution_count": 10
        }
      ]
    }
  ]
}