{
  "nbformat": 4,
  "nbformat_minor": 0,
  "metadata": {
    "colab": {
      "provenance": [],
      "authorship_tag": "ABX9TyNSdi8V/eZhhztIqslVtvws",
      "include_colab_link": true
    },
    "kernelspec": {
      "name": "python3",
      "display_name": "Python 3"
    },
    "language_info": {
      "name": "python"
    }
  },
  "cells": [
    {
      "cell_type": "markdown",
      "metadata": {
        "id": "view-in-github",
        "colab_type": "text"
      },
      "source": [
        "<a href=\"https://colab.research.google.com/github/GUNWOOOH/ADP_-/blob/main/ADP%EC%8B%A4%EC%8A%B5_1%EC%A3%BC%EC%B0%A8_%ED%86%B5%EA%B3%84%EB%B6%84%EC%84%9D.ipynb\" target=\"_parent\"><img src=\"https://colab.research.google.com/assets/colab-badge.svg\" alt=\"Open In Colab\"/></a>"
      ]
    },
    {
      "cell_type": "markdown",
      "source": [
        "출처: https://jae-eun-ai.tistory.com/48"
      ],
      "metadata": {
        "id": "mJE9tc9g9QNO"
      }
    },
    {
      "cell_type": "markdown",
      "source": [
        "# 1. T - 검정\n",
        "\n",
        "1-1 일표본 t-검정 (one sample t-test)\n",
        "\n",
        "단일모집단에서 관심이 있는 연속형 변수의 평균값을 특정 기준값과 비교하고자할 때, 일표본t검정에서는 모집단의 구성요소들이 정규분포를 이룬다는 가정하에 검정통계량 값을 계산/ 종속변수는 연속형 변수여야 하며 검증하고자 하는 기준값이 있어야 한다.\n",
        "\n",
        "단일 모집단에서 알고자하는 값이 종속변수가 되며, 설정한 기준값과 종속변수의 평균값 사이의 차이가 통계적으로 유의하다면 두 값이 다르다고 결론을 내릴 수 있음"
      ],
      "metadata": {
        "id": "3ox4WlqQvCB2"
      }
    },
    {
      "cell_type": "markdown",
      "source": [
        "    Example)\n",
        "    \n",
        "    A과수원에서 생산된 사과의 평균무게는 200g으로 알려져있다. 실제로도 그러한지 알아보기 위해 과수원에서 생산되는 사과15개를 임의로 뽑아서 무게를 측정. \n",
        "    \n",
        "    해당 데이터를 가지고 A과수원에서 생산되는 전체사과 무게의 평균이 200g과 같다고 할 수 있는지 검정해보자\n",
        "\n",
        "    귀무가설 : A과수원에서 생산되는 사과무게의 평균값은 200g이다.\n",
        "    대립가설 : A과수원에서 생산되는 사과무게의 평균값은 200g이 아니다."
      ],
      "metadata": {
        "id": "DsIuqfoC8v12"
      }
    },
    {
      "cell_type": "code",
      "source": [
        "#알려진 평균\n",
        "mu = 200\n",
        "#수집된 표본\n",
        "data = [200,210,180,190,185,170,180,\n",
        "       180,210,180,183,191,204,201,186]\n",
        "\n",
        "#데이터가 적어도 30개 이상이면 중심극한 정리를 적용할 수 있지만\n",
        "#여기서는 데이터 수가 15개 이기 때문에 별도의 정규성 검정이 필요\n",
        "### 정규성 검정\n",
        "from scipy.stats import shapiro\n",
        "shapiro(data)"
      ],
      "metadata": {
        "colab": {
          "base_uri": "https://localhost:8080/"
        },
        "id": "9w8Buwpk8_CO",
        "outputId": "5f0d6c12-160a-4fd4-f026-739281e858ab"
      },
      "execution_count": 2,
      "outputs": [
        {
          "output_type": "execute_result",
          "data": {
            "text/plain": [
              "ShapiroResult(statistic=0.9217347502708435, pvalue=0.20472237467765808)"
            ]
          },
          "metadata": {},
          "execution_count": 2
        }
      ]
    },
    {
      "cell_type": "markdown",
      "source": [
        "첫번째 결과는 검정통계치이고 두번째 값은 p-value이다. 정규성 검정에서는 p-value가 유의수준 0.05보다 클 경우 표본이 정규분포를 따른다고 판단 할 수 있다."
      ],
      "metadata": {
        "id": "Akmy4mk-9YKY"
      }
    },
    {
      "cell_type": "code",
      "source": [
        "import seaborn as sns\n",
        "import matplotlib.pyplot as plt\n",
        "sns.set_style('whitegrid')\n",
        "\n",
        "sns.boxplot(data=data)\n",
        "plt.title('box plot')"
      ],
      "metadata": {
        "colab": {
          "base_uri": "https://localhost:8080/",
          "height": 470
        },
        "id": "-8pvW4X99ZJW",
        "outputId": "3ac293a7-dbec-48ba-d90c-f0d501aa05f3"
      },
      "execution_count": 3,
      "outputs": [
        {
          "output_type": "execute_result",
          "data": {
            "text/plain": [
              "Text(0.5, 1.0, 'box plot')"
            ]
          },
          "metadata": {},
          "execution_count": 3
        },
        {
          "output_type": "display_data",
          "data": {
            "text/plain": [
              "<Figure size 640x480 with 1 Axes>"
            ],
            "image/png": "[encoded data removed]"
          },
          "metadata": {}
        }
      ]
    },
    {
      "cell_type": "code",
      "source": [
        "# 일표본 t-검정\n",
        "from scipy.stats import ttest_1samp\n",
        "\n",
        "ttest_1samp(data, mu)"
      ],
      "metadata": {
        "colab": {
          "base_uri": "https://localhost:8080/"
        },
        "id": "za6_lUYd8t42",
        "outputId": "f881b7a4-7285-441c-bb3f-535f9aa0c300"
      },
      "execution_count": 4,
      "outputs": [
        {
          "output_type": "execute_result",
          "data": {
            "text/plain": [
              "TtestResult(statistic=-3.1562714293709564, pvalue=0.007003780898109026, df=14)"
            ]
          },
          "metadata": {},
          "execution_count": 4
        }
      ]
    },
    {
      "cell_type": "markdown",
      "source": [
        "검정통계량(t값)은 -3.156, 유의확률은 0.007004이다. p-value가 유의수준0.05보다 작기때문에 귀무가설을 기각하고, A과수원에서 생산되는 사과의 평균무게는 200g이 아니다라고 결론내릴 수 있다.\n",
        "파이썬에서는 df, confidence interval, mean 정보가 없어서인지 조금 썰렁.."
      ],
      "metadata": {
        "id": "Oq94gbg99rnu"
      }
    },
    {
      "cell_type": "code",
      "source": [
        "#자유도 계산\n",
        "df = len(data) - 1\n",
        "print(df)\n",
        "\n",
        "#평균과 신뢰구간\n",
        "from numpy import array,mean\n",
        "from scipy.stats import sem,t\n",
        "def mean_confidence_interval(data, confidence=.95):\n",
        "    a = 1.0 * array(data)\n",
        "    n = len(a)\n",
        "    m,se = mean(a),sem(a)\n",
        "    h = se*t._ppf((1 + confidence) / 2, n-1)\n",
        "    return m, m-h, m+h\n",
        "\n",
        "mean_confidence_interval(data)"
      ],
      "metadata": {
        "colab": {
          "base_uri": "https://localhost:8080/"
        },
        "id": "65Nmm98f9ybM",
        "outputId": "82b396ff-7b2e-4380-f918-3b5ef1c69199"
      },
      "execution_count": 5,
      "outputs": [
        {
          "output_type": "stream",
          "name": "stdout",
          "text": [
            "14\n"
          ]
        },
        {
          "output_type": "execute_result",
          "data": {
            "text/plain": [
              "(190.0, 183.20468237313676, 196.79531762686324)"
            ]
          },
          "metadata": {},
          "execution_count": 5
        }
      ]
    },
    {
      "cell_type": "markdown",
      "source": [
        "  1. T - 검정\n",
        "\n",
        "    1-2.  대응표본 t-검정 (paired sample t-test)\n",
        "\n",
        "    단일모집단에 대해 두번의 처리를 가했을 때, 두 개의 처리에 다른 평균의 차이를 비교하고자 할때 사용하는 검정\n",
        "\n",
        "    하나의 모집단에서 크기가 n개인 하나의 표본을 추출한 후, 표본 내의 개채들에 대해서 두번의 측정을 실시한다.\n",
        "\n",
        "    모집단과 표본은 하나씩이지만, 각 개체들에 대해 두 개씩의 관측값이 존재하므로 모수는 두개이다.\n",
        "\n",
        "    모집단의 관측값이 정규성을 만족해야한다. 일반적으로 표본의 크기가 충분히 클 때 중심극한정리에 따라 정규성을 만족한다고 볼 수 있다. / 종속변수는 연속형 변수여야함\n",
        "\n",
        "    부부 30쌍을 대상으로 남편과 아내의 결혼 만족도에 차이, 쌍둥이 연구, before-after 연구 모두 paired t-test를 사용"
      ],
      "metadata": {
        "id": "4SgNL55g95ji"
      }
    },
    {
      "cell_type": "markdown",
      "source": [
        "\n",
        "\n",
        "```\n",
        "Example)\n",
        "\n",
        "10명의 환자를 대상으로 수면영양제를 복용하기 전과 후의 수면시간을 측정하여 영양제의 효과가 있는지를 판단하고자 함. 표본이 정규성을 만족한다는 가정하에 단측검정 수행\n",
        "귀무가설 : 수면영양제를 복용하기 전과 후의 평균 수면시간에는 차이가 없다.(D=0)\n",
        "대립가설 : 수면영양제를 복용하기 전과 후의 평균 수면시간 차이는 0보다 작다.(D<0)\n",
        "\n",
        "```\n",
        "\n"
      ],
      "metadata": {
        "id": "_tNKPbdb-N3n"
      }
    },
    {
      "cell_type": "code",
      "source": [
        "import pandas as pd\n",
        "before = [7,3,4,5,2,1,6,6,5,4]\n",
        "after = [8,4,5,6,2,3,6,8,6,5]\n",
        "when = ['before', 'after']\n",
        "when = [when[j] for j in range(2) for i in range(10)]\n",
        "data = pd.DataFrame({'when':when, 'score':before+after})\n",
        "data.head(3)"
      ],
      "metadata": {
        "colab": {
          "base_uri": "https://localhost:8080/",
          "height": 143
        },
        "id": "pYzIN-zv-Wlg",
        "outputId": "85117672-6250-4ec3-b328-3f16b3922d7a"
      },
      "execution_count": 7,
      "outputs": [
        {
          "output_type": "execute_result",
          "data": {
            "text/plain": [
              "     when  score\n",
              "0  before      7\n",
              "1  before      3\n",
              "2  before      4"
            ],
            "text/html": [
              "\n",
              "  <div id=\"df-e38a856e-59db-4dce-a1dd-dc6b04f8f683\">\n",
              "    <div class=\"colab-df-container\">\n",
              "      <div>\n",
              "<style scoped>\n",
              "    .dataframe tbody tr th:only-of-type {\n",
              "        vertical-align: middle;\n",
              "    }\n",
              "\n",
              "    .dataframe tbody tr th {\n",
              "        vertical-align: top;\n",
              "    }\n",
              "\n",
              "    .dataframe thead th {\n",
              "        text-align: right;\n",
              "    }\n",
              "</style>\n",
              "<table border=\"1\" class=\"dataframe\">\n",
              "  <thead>\n",
              "    <tr style=\"text-align: right;\">\n",
              "      <th></th>\n",
              "      <th>when</th>\n",
              "      <th>score</th>\n",
              "    </tr>\n",
              "  </thead>\n",
              "  <tbody>\n",
              "    <tr>\n",
              "      <th>0</th>\n",
              "      <td>before</td>\n",
              "      <td>7</td>\n",
              "    </tr>\n",
              "    <tr>\n",
              "      <th>1</th>\n",
              "      <td>before</td>\n",
              "      <td>3</td>\n",
              "    </tr>\n",
              "    <tr>\n",
              "      <th>2</th>\n",
              "      <td>before</td>\n",
              "      <td>4</td>\n",
              "    </tr>\n",
              "  </tbody>\n",
              "</table>\n",
              "</div>\n",
              "      <button class=\"colab-df-convert\" onclick=\"convertToInteractive('df-e38a856e-59db-4dce-a1dd-dc6b04f8f683')\"\n",
              "              title=\"Convert this dataframe to an interactive table.\"\n",
              "              style=\"display:none;\">\n",
              "        \n",
              "  <svg xmlns=\"http://www.w3.org/2000/svg\" height=\"24px\"viewBox=\"0 0 24 24\"\n",
              "       width=\"24px\">\n",
              "    <path d=\"M0 0h24v24H0V0z\" fill=\"none\"/>\n",
              "    <path d=\"M18.56 5.44l.94 2.06.94-2.06 2.06-.94-2.06-.94-.94-2.06-.94 2.06-2.06.94zm-11 1L8.5 8.5l.94-2.06 2.06-.94-2.06-.94L8.5 2.5l-.94 2.06-2.06.94zm10 10l.94 2.06.94-2.06 2.06-.94-2.06-.94-.94-2.06-.94 2.06-2.06.94z\"/><path d=\"M17.41 7.96l-1.37-1.37c-.4-.4-.92-.59-1.43-.59-.52 0-1.04.2-1.43.59L10.3 9.45l-7.72 7.72c-.78.78-.78 2.05 0 2.83L4 21.41c.39.39.9.59 1.41.59.51 0 1.02-.2 1.41-.59l7.78-7.78 2.81-2.81c.8-.78.8-2.07 0-2.86zM5.41 20L4 18.59l7.72-7.72 1.47 1.35L5.41 20z\"/>\n",
              "  </svg>\n",
              "      </button>\n",
              "      \n",
              "  <style>\n",
              "    .colab-df-container {\n",
              "      display:flex;\n",
              "      flex-wrap:wrap;\n",
              "      gap: 12px;\n",
              "    }\n",
              "\n",
              "    .colab-df-convert {\n",
              "      background-color: #E8F0FE;\n",
              "      border: none;\n",
              "      border-radius: 50%;\n",
              "      cursor: pointer;\n",
              "      display: none;\n",
              "      fill: #1967D2;\n",
              "      height: 32px;\n",
              "      padding: 0 0 0 0;\n",
              "      width: 32px;\n",
              "    }\n",
              "\n",
              "    .colab-df-convert:hover {\n",
              "      background-color: #E2EBFA;\n",
              "      box-shadow: 0px 1px 2px rgba(60, 64, 67, 0.3), 0px 1px 3px 1px rgba(60, 64, 67, 0.15);\n",
              "      fill: #174EA6;\n",
              "    }\n",
              "\n",
              "    [theme=dark] .colab-df-convert {\n",
              "      background-color: #3B4455;\n",
              "      fill: #D2E3FC;\n",
              "    }\n",
              "\n",
              "    [theme=dark] .colab-df-convert:hover {\n",
              "      background-color: #434B5C;\n",
              "      box-shadow: 0px 1px 3px 1px rgba(0, 0, 0, 0.15);\n",
              "      filter: drop-shadow(0px 1px 2px rgba(0, 0, 0, 0.3));\n",
              "      fill: #FFFFFF;\n",
              "    }\n",
              "  </style>\n",
              "\n",
              "      <script>\n",
              "        const buttonEl =\n",
              "          document.querySelector('#df-e38a856e-59db-4dce-a1dd-dc6b04f8f683 button.colab-df-convert');\n",
              "        buttonEl.style.display =\n",
              "          google.colab.kernel.accessAllowed ? 'block' : 'none';\n",
              "\n",
              "        async function convertToInteractive(key) {\n",
              "          const element = document.querySelector('#df-e38a856e-59db-4dce-a1dd-dc6b04f8f683');\n",
              "          const dataTable =\n",
              "            await google.colab.kernel.invokeFunction('convertToInteractive',\n",
              "                                                     [key], {});\n",
              "          if (!dataTable) return;\n",
              "\n",
              "          const docLinkHtml = 'Like what you see? Visit the ' +\n",
              "            '<a target=\"_blank\" href=https://colab.research.google.com/notebooks/data_table.ipynb>data table notebook</a>'\n",
              "            + ' to learn more about interactive tables.';\n",
              "          element.innerHTML = '';\n",
              "          dataTable['output_type'] = 'display_data';\n",
              "          await google.colab.output.renderOutput(dataTable, element);\n",
              "          const docLink = document.createElement('div');\n",
              "          docLink.innerHTML = docLinkHtml;\n",
              "          element.appendChild(docLink);\n",
              "        }\n",
              "      </script>\n",
              "    </div>\n",
              "  </div>\n",
              "  "
            ]
          },
          "metadata": {},
          "execution_count": 7
        }
      ]
    },
    {
      "cell_type": "code",
      "source": [
        "plt.figure(figsize=(6,6))\n",
        "sns.boxplot(x='when', y='score', data=data)"
      ],
      "metadata": {
        "colab": {
          "base_uri": "https://localhost:8080/",
          "height": 560
        },
        "id": "boNF4Gl4-ClV",
        "outputId": "2811132f-e937-4ab1-ea99-83e9b7c329c5"
      },
      "execution_count": 8,
      "outputs": [
        {
          "output_type": "execute_result",
          "data": {
            "text/plain": [
              "<Axes: xlabel='when', ylabel='score'>"
            ]
          },
          "metadata": {},
          "execution_count": 8
        },
        {
          "output_type": "display_data",
          "data": {
            "text/plain": [
              "<Figure size 600x600 with 1 Axes>"
            ],
            "image/png": "[encoded data removed]"
          },
          "metadata": {}
        }
      ]
    },
    {
      "cell_type": "code",
      "source": [
        "#정규성 검정\n",
        "from scipy.stats import shapiro\n",
        "\n",
        "normal1 = shapiro(before)\n",
        "normal2 = shapiro(after)\n",
        "print(normal1, normal2)\n",
        "\n",
        "#p-value모두 0.05보다 크기 때문에 정규성에 문제가 없음."
      ],
      "metadata": {
        "colab": {
          "base_uri": "https://localhost:8080/"
        },
        "id": "Ciz2QySo98kE",
        "outputId": "fc4ac77b-c2d3-4b6f-8a44-47f92d92917e"
      },
      "execution_count": 9,
      "outputs": [
        {
          "output_type": "stream",
          "name": "stdout",
          "text": [
            "ShapiroResult(statistic=0.9644591808319092, pvalue=0.835266649723053) ShapiroResult(statistic=0.945683479309082, pvalue=0.6177965998649597)\n"
          ]
        }
      ]
    },
    {
      "cell_type": "code",
      "source": [
        "# 등분산성 고려\n",
        "from scipy.stats import levene\n",
        "print(levene(before, after))\n",
        "\n",
        "from scipy.stats import bartlett\n",
        "print(bartlett(before, after))  \n",
        "\n",
        "#p-value가 0.05보다 커서 등분산성이 있다고 할 수 있다."
      ],
      "metadata": {
        "colab": {
          "base_uri": "https://localhost:8080/"
        },
        "id": "6hb6Q53O8l9X",
        "outputId": "7036837d-72cc-4e1c-ba3b-aac7597265bd"
      },
      "execution_count": 10,
      "outputs": [
        {
          "output_type": "stream",
          "name": "stdout",
          "text": [
            "LeveneResult(statistic=0.0, pvalue=1.0)\n",
            "BartlettResult(statistic=0.007785808167159078, pvalue=0.9296881301038368)\n"
          ]
        }
      ]
    },
    {
      "cell_type": "code",
      "source": [
        "import scipy.stats\n",
        "\n",
        "# 대응표본 t검정 수행\n",
        "scipy.stats.ttest_rel(before,after)"
      ],
      "metadata": {
        "colab": {
          "base_uri": "https://localhost:8080/"
        },
        "id": "7TuAtbCEz09z",
        "outputId": "0173779b-7287-4f90-ee06-cf44db91a26e"
      },
      "execution_count": 11,
      "outputs": [
        {
          "output_type": "execute_result",
          "data": {
            "text/plain": [
              "TtestResult(statistic=-4.743416490252569, pvalue=0.0010538712570165528, df=9)"
            ]
          },
          "metadata": {},
          "execution_count": 11
        }
      ]
    },
    {
      "cell_type": "markdown",
      "source": [
        "대응표본 t검정 수행결과, 검정통계량t값은 -4.7434, 유의확률은 0.001로 유의수준 0.05보다 작기때문에 귀무가설을 기각하고 수면영양제를 복용하기 전과 후의 평균 수면시간 차이는 통계적으로 유의하며, 영양제를 복용한 후 수면시간이 줄었다라는 결론을 내릴 수 있음"
      ],
      "metadata": {
        "id": "kVRHyTNa8bMt"
      }
    },
    {
      "cell_type": "markdown",
      "source": [
        "T - 검정\n",
        "\n",
        "  1.3 독립표본 t-검정 (paired sample t-test)\n",
        "\n",
        "  두개의 독립된 모집단의 평균을 비교하고자 할 때 사용하는 검정\n",
        "\n",
        "  두 개의 모집단에서 크기가 n개인 표본을 각각 추출한 후 표본의 관측값들을 이용해 검정을 실시. 따라서 독립표본 t검정에서는 모집단, 모수, 표본이 모두 두개씩 존재.\n",
        "\n",
        "  두 모집단은 정규성을 만족해야한다. 표본의 크기가 충분히 크다면 중심극한정리에 따라 정규성을 만족한다고 볼 수 있다. / 두개의 모집단은 서로 독립적이어야 한다. / 두 모집단의 분산이 서로 같음을 의미하는 등분산성 가정을 만족해야한다 (등분산성 가정은 두 독립집단의 모분산이 동일해야함을 의미)/ 독립변수는 범주형, 종속변수는 연속형이어야 한다.\n",
        "\n",
        "  부부100쌍을 뽑아 남편 100명과 아내 100명으로 집단 비교하는 경우는 대응표본/ 무작위로 남자 100명 여자 100명을 뽑아 두 집단을 비교하는 경우는 독립표본"
      ],
      "metadata": {
        "id": "B6lUL-ol--Rw"
      }
    },
    {
      "cell_type": "markdown",
      "source": [
        "    Example)\n",
        "\n",
        "    a,b두 지역의 겨울 낮 최고기온에 차이가 있는지를 알아보기 위해 10일동안 두 지역의 낮 최고기온을 측정한 데이터로 독립표본 t검정을 수행해보자. (표본이 정규성을 만족한다는 가정 하에 양측검정 수행)\n",
        "\n",
        "    귀무가설 : a,b 두 지역에 따른 겨울 낮 최고기온은 차이가 없다.\n",
        "    대립가설 : a,b 두 지역에 따른 겨울 낮 최고기온은 차이가 있다."
      ],
      "metadata": {
        "id": "zw7UKPMG_To3"
      }
    },
    {
      "cell_type": "code",
      "source": [
        "a = [-1,0,3,4,1,3,3,1,1,3]\n",
        "b = [6,6,8,8,11,11,10,8,8,9]\n",
        "group = ['a']*10 + ['b']*10\n",
        "data = pd.DataFrame({'group':group, 'temp':a+b})\n",
        "data.head(3)"
      ],
      "metadata": {
        "colab": {
          "base_uri": "https://localhost:8080/",
          "height": 143
        },
        "id": "VAqk46MW_cgG",
        "outputId": "8e4d8038-d771-4536-c7b6-77da1b7e090d"
      },
      "execution_count": 12,
      "outputs": [
        {
          "output_type": "execute_result",
          "data": {
            "text/plain": [
              "  group  temp\n",
              "0     a    -1\n",
              "1     a     0\n",
              "2     a     3"
            ],
            "text/html": [
              "\n",
              "  <div id=\"df-914d645a-502a-48b9-a63f-b319114ff2fd\">\n",
              "    <div class=\"colab-df-container\">\n",
              "      <div>\n",
              "<style scoped>\n",
              "    .dataframe tbody tr th:only-of-type {\n",
              "        vertical-align: middle;\n",
              "    }\n",
              "\n",
              "    .dataframe tbody tr th {\n",
              "        vertical-align: top;\n",
              "    }\n",
              "\n",
              "    .dataframe thead th {\n",
              "        text-align: right;\n",
              "    }\n",
              "</style>\n",
              "<table border=\"1\" class=\"dataframe\">\n",
              "  <thead>\n",
              "    <tr style=\"text-align: right;\">\n",
              "      <th></th>\n",
              "      <th>group</th>\n",
              "      <th>temp</th>\n",
              "    </tr>\n",
              "  </thead>\n",
              "  <tbody>\n",
              "    <tr>\n",
              "      <th>0</th>\n",
              "      <td>a</td>\n",
              "      <td>-1</td>\n",
              "    </tr>\n",
              "    <tr>\n",
              "      <th>1</th>\n",
              "      <td>a</td>\n",
              "      <td>0</td>\n",
              "    </tr>\n",
              "    <tr>\n",
              "      <th>2</th>\n",
              "      <td>a</td>\n",
              "      <td>3</td>\n",
              "    </tr>\n",
              "  </tbody>\n",
              "</table>\n",
              "</div>\n",
              "      <button class=\"colab-df-convert\" onclick=\"convertToInteractive('df-914d645a-502a-48b9-a63f-b319114ff2fd')\"\n",
              "              title=\"Convert this dataframe to an interactive table.\"\n",
              "              style=\"display:none;\">\n",
              "        \n",
              "  <svg xmlns=\"http://www.w3.org/2000/svg\" height=\"24px\"viewBox=\"0 0 24 24\"\n",
              "       width=\"24px\">\n",
              "    <path d=\"M0 0h24v24H0V0z\" fill=\"none\"/>\n",
              "    <path d=\"M18.56 5.44l.94 2.06.94-2.06 2.06-.94-2.06-.94-.94-2.06-.94 2.06-2.06.94zm-11 1L8.5 8.5l.94-2.06 2.06-.94-2.06-.94L8.5 2.5l-.94 2.06-2.06.94zm10 10l.94 2.06.94-2.06 2.06-.94-2.06-.94-.94-2.06-.94 2.06-2.06.94z\"/><path d=\"M17.41 7.96l-1.37-1.37c-.4-.4-.92-.59-1.43-.59-.52 0-1.04.2-1.43.59L10.3 9.45l-7.72 7.72c-.78.78-.78 2.05 0 2.83L4 21.41c.39.39.9.59 1.41.59.51 0 1.02-.2 1.41-.59l7.78-7.78 2.81-2.81c.8-.78.8-2.07 0-2.86zM5.41 20L4 18.59l7.72-7.72 1.47 1.35L5.41 20z\"/>\n",
              "  </svg>\n",
              "      </button>\n",
              "      \n",
              "  <style>\n",
              "    .colab-df-container {\n",
              "      display:flex;\n",
              "      flex-wrap:wrap;\n",
              "      gap: 12px;\n",
              "    }\n",
              "\n",
              "    .colab-df-convert {\n",
              "      background-color: #E8F0FE;\n",
              "      border: none;\n",
              "      border-radius: 50%;\n",
              "      cursor: pointer;\n",
              "      display: none;\n",
              "      fill: #1967D2;\n",
              "      height: 32px;\n",
              "      padding: 0 0 0 0;\n",
              "      width: 32px;\n",
              "    }\n",
              "\n",
              "    .colab-df-convert:hover {\n",
              "      background-color: #E2EBFA;\n",
              "      box-shadow: 0px 1px 2px rgba(60, 64, 67, 0.3), 0px 1px 3px 1px rgba(60, 64, 67, 0.15);\n",
              "      fill: #174EA6;\n",
              "    }\n",
              "\n",
              "    [theme=dark] .colab-df-convert {\n",
              "      background-color: #3B4455;\n",
              "      fill: #D2E3FC;\n",
              "    }\n",
              "\n",
              "    [theme=dark] .colab-df-convert:hover {\n",
              "      background-color: #434B5C;\n",
              "      box-shadow: 0px 1px 3px 1px rgba(0, 0, 0, 0.15);\n",
              "      filter: drop-shadow(0px 1px 2px rgba(0, 0, 0, 0.3));\n",
              "      fill: #FFFFFF;\n",
              "    }\n",
              "  </style>\n",
              "\n",
              "      <script>\n",
              "        const buttonEl =\n",
              "          document.querySelector('#df-914d645a-502a-48b9-a63f-b319114ff2fd button.colab-df-convert');\n",
              "        buttonEl.style.display =\n",
              "          google.colab.kernel.accessAllowed ? 'block' : 'none';\n",
              "\n",
              "        async function convertToInteractive(key) {\n",
              "          const element = document.querySelector('#df-914d645a-502a-48b9-a63f-b319114ff2fd');\n",
              "          const dataTable =\n",
              "            await google.colab.kernel.invokeFunction('convertToInteractive',\n",
              "                                                     [key], {});\n",
              "          if (!dataTable) return;\n",
              "\n",
              "          const docLinkHtml = 'Like what you see? Visit the ' +\n",
              "            '<a target=\"_blank\" href=https://colab.research.google.com/notebooks/data_table.ipynb>data table notebook</a>'\n",
              "            + ' to learn more about interactive tables.';\n",
              "          element.innerHTML = '';\n",
              "          dataTable['output_type'] = 'display_data';\n",
              "          await google.colab.output.renderOutput(dataTable, element);\n",
              "          const docLink = document.createElement('div');\n",
              "          docLink.innerHTML = docLinkHtml;\n",
              "          element.appendChild(docLink);\n",
              "        }\n",
              "      </script>\n",
              "    </div>\n",
              "  </div>\n",
              "  "
            ]
          },
          "metadata": {},
          "execution_count": 12
        }
      ]
    },
    {
      "cell_type": "code",
      "source": [
        "plt.figure(figsize=(6,6))\n",
        "sns.boxplot(x='group', y='temp', data=data)\n",
        "plt.title('Box plot')\n",
        "plt.show()"
      ],
      "metadata": {
        "colab": {
          "base_uri": "https://localhost:8080/",
          "height": 564
        },
        "id": "5XWGZNV7_FL7",
        "outputId": "62dffbba-ca47-4b5a-99e3-50191556a59e"
      },
      "execution_count": 14,
      "outputs": [
        {
          "output_type": "display_data",
          "data": {
            "text/plain": [
              "<Figure size 600x600 with 1 Axes>"
            ],
            "image/png": "[encoded data removed]"
          },
          "metadata": {}
        }
      ]
    },
    {
      "cell_type": "code",
      "source": [
        "# 데이터가 10개뿐이므로 shapiro-wilks의 정규성을 검정해보자\n",
        "normal1 = shapiro(a)\n",
        "normal2 = shapiro(b)\n",
        "print(normal1, normal2)\n",
        "\n",
        "#결과는 모두 p-value가 0.05보다 커서 정규성을 만족한다."
      ],
      "metadata": {
        "colab": {
          "base_uri": "https://localhost:8080/"
        },
        "id": "0d2dPtC1_j4c",
        "outputId": "5cabb438-b756-4225-bce7-a341265649a8"
      },
      "execution_count": 15,
      "outputs": [
        {
          "output_type": "stream",
          "name": "stdout",
          "text": [
            "ShapiroResult(statistic=0.9004895687103271, pvalue=0.22182336449623108) ShapiroResult(statistic=0.9001172184944153, pvalue=0.21974670886993408)\n"
          ]
        }
      ]
    },
    {
      "cell_type": "code",
      "source": [
        "#levene test로 등분산성을 검정\n",
        "from scipy.stats import levene, ttest_ind\n",
        "print(levene(a,b))\n",
        "\n",
        "#등분산성을 bartlett test로 할 수도 있음 바틀렛\n",
        "from scipy.stats import bartlett\n",
        "print(bartlett(a,b))\n",
        "\n",
        "#p-value가 유의수준 0.05보다 크기 때문에 귀무가설을 기각하지 않는다\n",
        "#따라서 a,b두 집단의 데이터는 등분산성을 만족한다고 볼 수 있음. "
      ],
      "metadata": {
        "colab": {
          "base_uri": "https://localhost:8080/"
        },
        "id": "wgkOoLnZ_krK",
        "outputId": "bcd36848-dee7-4605-8f90-0161e61d18f9"
      },
      "execution_count": 16,
      "outputs": [
        {
          "output_type": "stream",
          "name": "stdout",
          "text": [
            "LeveneResult(statistic=0.04864864864864852, pvalue=0.8279140454175956)\n",
            "BartlettResult(statistic=0.07575407415781324, pvalue=0.7831360213267907)\n"
          ]
        }
      ]
    },
    {
      "cell_type": "code",
      "source": [
        "ttest_ind(a,b)\n",
        "\n",
        "#검정 통계량은 -8.806, p-value는 6.085e-08이다. p-value가 0에 가까운 매우 작은 숫자로 \n",
        "#유의수준보다 작기 때문에 귀무가설을 기각한다. \n",
        "#따라서 a,b두 지역의 겨울 낮 최고기온에는 통계적으로 유의한 차이가 존재한다는 결론을 내릴 수 있음"
      ],
      "metadata": {
        "colab": {
          "base_uri": "https://localhost:8080/"
        },
        "id": "9LieXuUd_nhp",
        "outputId": "c56b2adf-1bc7-43f3-e6a4-128d761f15e7"
      },
      "execution_count": 17,
      "outputs": [
        {
          "output_type": "execute_result",
          "data": {
            "text/plain": [
              "Ttest_indResult(statistic=-8.805969882200301, pvalue=6.085029390352169e-08)"
            ]
          },
          "metadata": {},
          "execution_count": 17
        }
      ]
    },
    {
      "cell_type": "code",
      "source": [
        "#등분산성을 만족하지 못하는 2개의 그룹에 대한 ttest_ind()에는 equal_var=False 옵션을 추가합니다.\n",
        "\n",
        "ttest_ind(a,b, equal_var=False)"
      ],
      "metadata": {
        "colab": {
          "base_uri": "https://localhost:8080/"
        },
        "id": "kg25Hduk_pKC",
        "outputId": "acb3b50e-031a-4fe4-99ba-3993d7b7fe65"
      },
      "execution_count": 18,
      "outputs": [
        {
          "output_type": "execute_result",
          "data": {
            "text/plain": [
              "Ttest_indResult(statistic=-8.805969882200301, pvalue=6.535174335638131e-08)"
            ]
          },
          "metadata": {},
          "execution_count": 18
        }
      ]
    },
    {
      "cell_type": "markdown",
      "source": [
        "## 2. 일원배치 분산분석 (one-way ANOVA)\n",
        "\n",
        "분산분석은 두 개이상의 집단에서 그룹 평균 간 차이를 그룹 내 변동에 비교하여 살펴보는 데이터 분석방법 : 여러 그룹간의 평균의 차이가 통계적으로 유의미 한지를 판단하기 위한 시험법\n",
        "\n",
        "일원배치 분산분석은 반응값에 대해 하나의 범주형 변수의 영향을 알아보기 위해 사용되는 검증방법 : 한가지 변수의 변화가 결과 변수에 미치는 영향을 보기 위해 사용\n",
        "\n",
        "F 검정 통계량을 이용\n",
        "\n",
        "각 집단의 측정치는 서로 독립적이며 정규분포를 따른다.(정규성 가정) / 각 집단 측정치의 분산은 같다. (등분산 가정)"
      ],
      "metadata": {
        "id": "qmnLHXW-_rPy"
      }
    },
    {
      "cell_type": "markdown",
      "source": [
        "\n",
        "```\n",
        "Example) 22명의 심장 수술을 받은 환자를 3가지 그룹으로 나누고 적혈구의 엽산 수치를 24시간 이후에 측정하였음.\n",
        "```\n"
      ],
      "metadata": {
        "id": "VmZpaoSaHCJf"
      }
    },
    {
      "cell_type": "code",
      "source": [
        "import numpy as np\n",
        "import urllib\n",
        "\n",
        "url = 'https://raw.githubusercontent.com/thomas-haslwanter/statsintro_python/master/ipynb/Data/data_altman/altman_910.txt'\n",
        "data = np.genfromtxt(urllib.request.urlopen(url), delimiter=',')\n",
        "data"
      ],
      "metadata": {
        "colab": {
          "base_uri": "https://localhost:8080/"
        },
        "id": "PnpOot06HVko",
        "outputId": "e3dcd923-c370-42a5-8a7b-97360308a95e"
      },
      "execution_count": 19,
      "outputs": [
        {
          "output_type": "execute_result",
          "data": {
            "text/plain": [
              "array([[243.,   1.],\n",
              "       [251.,   1.],\n",
              "       [275.,   1.],\n",
              "       [291.,   1.],\n",
              "       [347.,   1.],\n",
              "       [354.,   1.],\n",
              "       [380.,   1.],\n",
              "       [392.,   1.],\n",
              "       [206.,   2.],\n",
              "       [210.,   2.],\n",
              "       [226.,   2.],\n",
              "       [249.,   2.],\n",
              "       [255.,   2.],\n",
              "       [273.,   2.],\n",
              "       [285.,   2.],\n",
              "       [295.,   2.],\n",
              "       [309.,   2.],\n",
              "       [241.,   3.],\n",
              "       [258.,   3.],\n",
              "       [270.,   3.],\n",
              "       [293.,   3.],\n",
              "       [328.,   3.]])"
            ]
          },
          "metadata": {},
          "execution_count": 19
        }
      ]
    },
    {
      "cell_type": "code",
      "source": [
        "import seaborn as sns\n",
        "import matplotlib.pyplot as plt\n",
        "sns.set_style('whitegrid')\n",
        "\n",
        "group1 = data[data[:,1]==1,0]  \n",
        "group2 = data[data[:,1]==2,0]\n",
        "group3 = data[data[:,1]==3,0]\n",
        "\n",
        "plot_data = [group1, group2, group3]\n",
        "plt.boxplot(plot_data)\n",
        "plt.show()"
      ],
      "metadata": {
        "colab": {
          "base_uri": "https://localhost:8080/",
          "height": 433
        },
        "id": "87uRMUh8HS5_",
        "outputId": "57fd93fe-a5ba-428c-fa03-b4ee8897f068"
      },
      "execution_count": 20,
      "outputs": [
        {
          "output_type": "display_data",
          "data": {
            "text/plain": [
              "<Figure size 640x480 with 1 Axes>"
            ],
            "image/png": "[encoded data removed]"
          },
          "metadata": {}
        }
      ]
    },
    {
      "cell_type": "markdown",
      "source": [
        "boxplot에서 보듯이 평균값의 차이가 실제로 의미가 있는 차이인지, 분산이 커서 그런것인지 애매한 상황이다. 이런 상황에서 분산분석을 통해 통계적 유의성을 알아볼 수 있음."
      ],
      "metadata": {
        "id": "wIbcUIUPHLiq"
      }
    },
    {
      "cell_type": "markdown",
      "source": [
        "    Statsmodel을 사용한 일원분산분석¶"
      ],
      "metadata": {
        "id": "ATClf17WHtyl"
      }
    },
    {
      "cell_type": "code",
      "source": [
        "import pandas as pd\n",
        "import warnings\n",
        "warnings.filterwarnings('ignore')\n",
        "from statsmodels.formula.api import ols\n",
        "from statsmodels.stats.anova import anova_lm\n",
        "\n",
        "df = pd.DataFrame(data, columns=['value','treatment'])\n",
        "print(df.head(3))\n",
        "\n",
        "model = ols('value ~ C(treatment)', df).fit()\n",
        "print(anova_lm(model))"
      ],
      "metadata": {
        "colab": {
          "base_uri": "https://localhost:8080/"
        },
        "id": "2EntMX26Hxha",
        "outputId": "a310c3ef-ad10-4a0e-fd40-192e56820915"
      },
      "execution_count": 21,
      "outputs": [
        {
          "output_type": "stream",
          "name": "stdout",
          "text": [
            "   value  treatment\n",
            "0  243.0        1.0\n",
            "1  251.0        1.0\n",
            "2  275.0        1.0\n",
            "                df        sum_sq      mean_sq         F    PR(>F)\n",
            "C(treatment)   2.0  15515.766414  7757.883207  3.711336  0.043589\n",
            "Residual      19.0  39716.097222  2090.320906       NaN       NaN\n"
          ]
        }
      ]
    },
    {
      "cell_type": "markdown",
      "source": [
        "\n",
        "\n",
        "```\n",
        "Example2)\n",
        "iris데이터를 이용해 종별로 꽃받침의 폭(sepal.width)의 평균이 같은지 혹은 차이가 있는지를 확인\n",
        "귀무가설 : 세가지 종에 대해 sepal.width평균은 모두 같다.\n",
        "대립가설 : 적어도 하나의 종에 대한 sepal.width의 평균값에는 차이가 있다.\n",
        "```\n"
      ],
      "metadata": {
        "id": "7494m4u2Hzcx"
      }
    },
    {
      "cell_type": "code",
      "source": [
        "from sklearn.datasets import load_iris\n",
        "\n",
        "iris = load_iris()\n",
        "data = pd.DataFrame(data=iris.data, columns=iris.feature_names)\n",
        "data['target'] = iris.target\n",
        "data.columns = ['sepal_length','sepal_width','petal_length','petal_width','target']\n",
        "data.head(3)"
      ],
      "metadata": {
        "colab": {
          "base_uri": "https://localhost:8080/",
          "height": 143
        },
        "id": "H7_WYXUDH8Dd",
        "outputId": "4cdbf69e-6081-4040-e631-385ae91794f1"
      },
      "execution_count": 22,
      "outputs": [
        {
          "output_type": "execute_result",
          "data": {
            "text/plain": [
              "   sepal_length  sepal_width  petal_length  petal_width  target\n",
              "0           5.1          3.5           1.4          0.2       0\n",
              "1           4.9          3.0           1.4          0.2       0\n",
              "2           4.7          3.2           1.3          0.2       0"
            ],
            "text/html": [
              "\n",
              "  <div id=\"df-e107925d-756f-4f03-9dde-3a571da75294\">\n",
              "    <div class=\"colab-df-container\">\n",
              "      <div>\n",
              "<style scoped>\n",
              "    .dataframe tbody tr th:only-of-type {\n",
              "        vertical-align: middle;\n",
              "    }\n",
              "\n",
              "    .dataframe tbody tr th {\n",
              "        vertical-align: top;\n",
              "    }\n",
              "\n",
              "    .dataframe thead th {\n",
              "        text-align: right;\n",
              "    }\n",
              "</style>\n",
              "<table border=\"1\" class=\"dataframe\">\n",
              "  <thead>\n",
              "    <tr style=\"text-align: right;\">\n",
              "      <th></th>\n",
              "      <th>sepal_length</th>\n",
              "      <th>sepal_width</th>\n",
              "      <th>petal_length</th>\n",
              "      <th>petal_width</th>\n",
              "      <th>target</th>\n",
              "    </tr>\n",
              "  </thead>\n",
              "  <tbody>\n",
              "    <tr>\n",
              "      <th>0</th>\n",
              "      <td>5.1</td>\n",
              "      <td>3.5</td>\n",
              "      <td>1.4</td>\n",
              "      <td>0.2</td>\n",
              "      <td>0</td>\n",
              "    </tr>\n",
              "    <tr>\n",
              "      <th>1</th>\n",
              "      <td>4.9</td>\n",
              "      <td>3.0</td>\n",
              "      <td>1.4</td>\n",
              "      <td>0.2</td>\n",
              "      <td>0</td>\n",
              "    </tr>\n",
              "    <tr>\n",
              "      <th>2</th>\n",
              "      <td>4.7</td>\n",
              "      <td>3.2</td>\n",
              "      <td>1.3</td>\n",
              "      <td>0.2</td>\n",
              "      <td>0</td>\n",
              "    </tr>\n",
              "  </tbody>\n",
              "</table>\n",
              "</div>\n",
              "      <button class=\"colab-df-convert\" onclick=\"convertToInteractive('df-e107925d-756f-4f03-9dde-3a571da75294')\"\n",
              "              title=\"Convert this dataframe to an interactive table.\"\n",
              "              style=\"display:none;\">\n",
              "        \n",
              "  <svg xmlns=\"http://www.w3.org/2000/svg\" height=\"24px\"viewBox=\"0 0 24 24\"\n",
              "       width=\"24px\">\n",
              "    <path d=\"M0 0h24v24H0V0z\" fill=\"none\"/>\n",
              "    <path d=\"M18.56 5.44l.94 2.06.94-2.06 2.06-.94-2.06-.94-.94-2.06-.94 2.06-2.06.94zm-11 1L8.5 8.5l.94-2.06 2.06-.94-2.06-.94L8.5 2.5l-.94 2.06-2.06.94zm10 10l.94 2.06.94-2.06 2.06-.94-2.06-.94-.94-2.06-.94 2.06-2.06.94z\"/><path d=\"M17.41 7.96l-1.37-1.37c-.4-.4-.92-.59-1.43-.59-.52 0-1.04.2-1.43.59L10.3 9.45l-7.72 7.72c-.78.78-.78 2.05 0 2.83L4 21.41c.39.39.9.59 1.41.59.51 0 1.02-.2 1.41-.59l7.78-7.78 2.81-2.81c.8-.78.8-2.07 0-2.86zM5.41 20L4 18.59l7.72-7.72 1.47 1.35L5.41 20z\"/>\n",
              "  </svg>\n",
              "      </button>\n",
              "      \n",
              "  <style>\n",
              "    .colab-df-container {\n",
              "      display:flex;\n",
              "      flex-wrap:wrap;\n",
              "      gap: 12px;\n",
              "    }\n",
              "\n",
              "    .colab-df-convert {\n",
              "      background-color: #E8F0FE;\n",
              "      border: none;\n",
              "      border-radius: 50%;\n",
              "      cursor: pointer;\n",
              "      display: none;\n",
              "      fill: #1967D2;\n",
              "      height: 32px;\n",
              "      padding: 0 0 0 0;\n",
              "      width: 32px;\n",
              "    }\n",
              "\n",
              "    .colab-df-convert:hover {\n",
              "      background-color: #E2EBFA;\n",
              "      box-shadow: 0px 1px 2px rgba(60, 64, 67, 0.3), 0px 1px 3px 1px rgba(60, 64, 67, 0.15);\n",
              "      fill: #174EA6;\n",
              "    }\n",
              "\n",
              "    [theme=dark] .colab-df-convert {\n",
              "      background-color: #3B4455;\n",
              "      fill: #D2E3FC;\n",
              "    }\n",
              "\n",
              "    [theme=dark] .colab-df-convert:hover {\n",
              "      background-color: #434B5C;\n",
              "      box-shadow: 0px 1px 3px 1px rgba(0, 0, 0, 0.15);\n",
              "      filter: drop-shadow(0px 1px 2px rgba(0, 0, 0, 0.3));\n",
              "      fill: #FFFFFF;\n",
              "    }\n",
              "  </style>\n",
              "\n",
              "      <script>\n",
              "        const buttonEl =\n",
              "          document.querySelector('#df-e107925d-756f-4f03-9dde-3a571da75294 button.colab-df-convert');\n",
              "        buttonEl.style.display =\n",
              "          google.colab.kernel.accessAllowed ? 'block' : 'none';\n",
              "\n",
              "        async function convertToInteractive(key) {\n",
              "          const element = document.querySelector('#df-e107925d-756f-4f03-9dde-3a571da75294');\n",
              "          const dataTable =\n",
              "            await google.colab.kernel.invokeFunction('convertToInteractive',\n",
              "                                                     [key], {});\n",
              "          if (!dataTable) return;\n",
              "\n",
              "          const docLinkHtml = 'Like what you see? Visit the ' +\n",
              "            '<a target=\"_blank\" href=https://colab.research.google.com/notebooks/data_table.ipynb>data table notebook</a>'\n",
              "            + ' to learn more about interactive tables.';\n",
              "          element.innerHTML = '';\n",
              "          dataTable['output_type'] = 'display_data';\n",
              "          await google.colab.output.renderOutput(dataTable, element);\n",
              "          const docLink = document.createElement('div');\n",
              "          docLink.innerHTML = docLinkHtml;\n",
              "          element.appendChild(docLink);\n",
              "        }\n",
              "      </script>\n",
              "    </div>\n",
              "  </div>\n",
              "  "
            ]
          },
          "metadata": {},
          "execution_count": 22
        }
      ]
    },
    {
      "cell_type": "markdown",
      "source": [
        "step1 일원분산분석 가정 확인"
      ],
      "metadata": {
        "id": "kE7D6zXVH9aV"
      }
    },
    {
      "cell_type": "code",
      "source": [
        "#정규성 확인 - 집단(수준)별로 실시\n",
        "\n",
        "from  scipy.stats import shapiro\n",
        "print(shapiro(data.sepal_width[data.target==0]))\n",
        "print(shapiro(data.sepal_width[data.target==1]))\n",
        "print(shapiro(data.sepal_width[data.target==2]))"
      ],
      "metadata": {
        "colab": {
          "base_uri": "https://localhost:8080/"
        },
        "id": "PrbPrpxFICgZ",
        "outputId": "d0acd4a2-aca4-4d66-f6d7-d6be37d69867"
      },
      "execution_count": 23,
      "outputs": [
        {
          "output_type": "stream",
          "name": "stdout",
          "text": [
            "ShapiroResult(statistic=0.971718966960907, pvalue=0.2715126574039459)\n",
            "ShapiroResult(statistic=0.9741329550743103, pvalue=0.3379843533039093)\n",
            "ShapiroResult(statistic=0.9673907160758972, pvalue=0.18089871108531952)\n"
          ]
        }
      ]
    },
    {
      "cell_type": "markdown",
      "source": [
        "모두 p-value가 0.05 보다 크므로 각 집단의 자료가 정규성을 만족한다고 볼 수 있음.\n",
        "\n",
        "(정규성 검정 귀무가설-> 정규성을 만족한다 이므로 위의 수치는 유의수준 0.05보다 크기 때문에 귀무가설을 기각하지 않는다. )"
      ],
      "metadata": {
        "id": "DanxuAufH_wZ"
      }
    },
    {
      "cell_type": "code",
      "source": [
        "#등분산성 확인 - 레빈 검증\n",
        "from scipy.stats import levene\n",
        "print(levene(data.sepal_width[data.target==0],\n",
        "      data.sepal_width[data.target==1],\n",
        "      data.sepal_width[data.target==2]))\n",
        "\n",
        "#등분산성 확인 - 바틀렛 검증\n",
        "from scipy.stats import bartlett\n",
        "print(bartlett(data.sepal_width[data.target==0],\n",
        "      data.sepal_width[data.target==1],\n",
        "      data.sepal_width[data.target==2]))"
      ],
      "metadata": {
        "colab": {
          "base_uri": "https://localhost:8080/"
        },
        "id": "dDt-VX1gIIfB",
        "outputId": "1c70e304-fddc-4b2e-87cf-d8bb67a9f2dc"
      },
      "execution_count": 24,
      "outputs": [
        {
          "output_type": "stream",
          "name": "stdout",
          "text": [
            "LeveneResult(statistic=0.5902115655853319, pvalue=0.5555178984739075)\n",
            "BartlettResult(statistic=2.0910752014392338, pvalue=0.35150280041580323)\n"
          ]
        }
      ]
    },
    {
      "cell_type": "markdown",
      "source": [
        "두 테스트 모두, 세 집단의 모분산에 유의미한 차이를 발견하지 못함. 등분산성 가정이 유지됨"
      ],
      "metadata": {
        "id": "dxTDIw1rIKgj"
      }
    },
    {
      "cell_type": "markdown",
      "source": [
        "step2 일원분산분석 수행"
      ],
      "metadata": {
        "id": "2aAEEIwmIODf"
      }
    },
    {
      "cell_type": "code",
      "source": [
        "model = ols('sepal_width ~ C(target)', data).fit()\n",
        "anova_lm(model)"
      ],
      "metadata": {
        "colab": {
          "base_uri": "https://localhost:8080/",
          "height": 112
        },
        "id": "_cXDzEFhIRvG",
        "outputId": "f1c420e3-c292-401b-db38-a762148fc3a2"
      },
      "execution_count": 25,
      "outputs": [
        {
          "output_type": "execute_result",
          "data": {
            "text/plain": [
              "              df     sum_sq   mean_sq         F        PR(>F)\n",
              "C(target)    2.0  11.344933  5.672467  49.16004  4.492017e-17\n",
              "Residual   147.0  16.962000  0.115388       NaN           NaN"
            ],
            "text/html": [
              "\n",
              "  <div id=\"df-73027e57-6096-4d61-a9ea-a0898064fc94\">\n",
              "    <div class=\"colab-df-container\">\n",
              "      <div>\n",
              "<style scoped>\n",
              "    .dataframe tbody tr th:only-of-type {\n",
              "        vertical-align: middle;\n",
              "    }\n",
              "\n",
              "    .dataframe tbody tr th {\n",
              "        vertical-align: top;\n",
              "    }\n",
              "\n",
              "    .dataframe thead th {\n",
              "        text-align: right;\n",
              "    }\n",
              "</style>\n",
              "<table border=\"1\" class=\"dataframe\">\n",
              "  <thead>\n",
              "    <tr style=\"text-align: right;\">\n",
              "      <th></th>\n",
              "      <th>df</th>\n",
              "      <th>sum_sq</th>\n",
              "      <th>mean_sq</th>\n",
              "      <th>F</th>\n",
              "      <th>PR(&gt;F)</th>\n",
              "    </tr>\n",
              "  </thead>\n",
              "  <tbody>\n",
              "    <tr>\n",
              "      <th>C(target)</th>\n",
              "      <td>2.0</td>\n",
              "      <td>11.344933</td>\n",
              "      <td>5.672467</td>\n",
              "      <td>49.16004</td>\n",
              "      <td>4.492017e-17</td>\n",
              "    </tr>\n",
              "    <tr>\n",
              "      <th>Residual</th>\n",
              "      <td>147.0</td>\n",
              "      <td>16.962000</td>\n",
              "      <td>0.115388</td>\n",
              "      <td>NaN</td>\n",
              "      <td>NaN</td>\n",
              "    </tr>\n",
              "  </tbody>\n",
              "</table>\n",
              "</div>\n",
              "      <button class=\"colab-df-convert\" onclick=\"convertToInteractive('df-73027e57-6096-4d61-a9ea-a0898064fc94')\"\n",
              "              title=\"Convert this dataframe to an interactive table.\"\n",
              "              style=\"display:none;\">\n",
              "        \n",
              "  <svg xmlns=\"http://www.w3.org/2000/svg\" height=\"24px\"viewBox=\"0 0 24 24\"\n",
              "       width=\"24px\">\n",
              "    <path d=\"M0 0h24v24H0V0z\" fill=\"none\"/>\n",
              "    <path d=\"M18.56 5.44l.94 2.06.94-2.06 2.06-.94-2.06-.94-.94-2.06-.94 2.06-2.06.94zm-11 1L8.5 8.5l.94-2.06 2.06-.94-2.06-.94L8.5 2.5l-.94 2.06-2.06.94zm10 10l.94 2.06.94-2.06 2.06-.94-2.06-.94-.94-2.06-.94 2.06-2.06.94z\"/><path d=\"M17.41 7.96l-1.37-1.37c-.4-.4-.92-.59-1.43-.59-.52 0-1.04.2-1.43.59L10.3 9.45l-7.72 7.72c-.78.78-.78 2.05 0 2.83L4 21.41c.39.39.9.59 1.41.59.51 0 1.02-.2 1.41-.59l7.78-7.78 2.81-2.81c.8-.78.8-2.07 0-2.86zM5.41 20L4 18.59l7.72-7.72 1.47 1.35L5.41 20z\"/>\n",
              "  </svg>\n",
              "      </button>\n",
              "      \n",
              "  <style>\n",
              "    .colab-df-container {\n",
              "      display:flex;\n",
              "      flex-wrap:wrap;\n",
              "      gap: 12px;\n",
              "    }\n",
              "\n",
              "    .colab-df-convert {\n",
              "      background-color: #E8F0FE;\n",
              "      border: none;\n",
              "      border-radius: 50%;\n",
              "      cursor: pointer;\n",
              "      display: none;\n",
              "      fill: #1967D2;\n",
              "      height: 32px;\n",
              "      padding: 0 0 0 0;\n",
              "      width: 32px;\n",
              "    }\n",
              "\n",
              "    .colab-df-convert:hover {\n",
              "      background-color: #E2EBFA;\n",
              "      box-shadow: 0px 1px 2px rgba(60, 64, 67, 0.3), 0px 1px 3px 1px rgba(60, 64, 67, 0.15);\n",
              "      fill: #174EA6;\n",
              "    }\n",
              "\n",
              "    [theme=dark] .colab-df-convert {\n",
              "      background-color: #3B4455;\n",
              "      fill: #D2E3FC;\n",
              "    }\n",
              "\n",
              "    [theme=dark] .colab-df-convert:hover {\n",
              "      background-color: #434B5C;\n",
              "      box-shadow: 0px 1px 3px 1px rgba(0, 0, 0, 0.15);\n",
              "      filter: drop-shadow(0px 1px 2px rgba(0, 0, 0, 0.3));\n",
              "      fill: #FFFFFF;\n",
              "    }\n",
              "  </style>\n",
              "\n",
              "      <script>\n",
              "        const buttonEl =\n",
              "          document.querySelector('#df-73027e57-6096-4d61-a9ea-a0898064fc94 button.colab-df-convert');\n",
              "        buttonEl.style.display =\n",
              "          google.colab.kernel.accessAllowed ? 'block' : 'none';\n",
              "\n",
              "        async function convertToInteractive(key) {\n",
              "          const element = document.querySelector('#df-73027e57-6096-4d61-a9ea-a0898064fc94');\n",
              "          const dataTable =\n",
              "            await google.colab.kernel.invokeFunction('convertToInteractive',\n",
              "                                                     [key], {});\n",
              "          if (!dataTable) return;\n",
              "\n",
              "          const docLinkHtml = 'Like what you see? Visit the ' +\n",
              "            '<a target=\"_blank\" href=https://colab.research.google.com/notebooks/data_table.ipynb>data table notebook</a>'\n",
              "            + ' to learn more about interactive tables.';\n",
              "          element.innerHTML = '';\n",
              "          dataTable['output_type'] = 'display_data';\n",
              "          await google.colab.output.renderOutput(dataTable, element);\n",
              "          const docLink = document.createElement('div');\n",
              "          docLink.innerHTML = docLinkHtml;\n",
              "          element.appendChild(docLink);\n",
              "        }\n",
              "      </script>\n",
              "    </div>\n",
              "  </div>\n",
              "  "
            ]
          },
          "metadata": {},
          "execution_count": 25
        }
      ]
    },
    {
      "cell_type": "markdown",
      "source": [
        "Pr(>F)가 p-value. 이 값이 유의수준 0.05하에서 귀무가설을 기각함. 따라서 세가지 종에따른 꽃받침 폭이 모두 동일하지는 않다고 결론내릴 수 있다. 즉, 종별 꽃받침 폭의 평균값들 중에서 적어도 어느 하나의 종은 통계적으로 유의한 차이가 있다.\n",
        "SSA의 자유도는 2(집단의 수-1=3-1), SST의 자유도는 147(관측값의 수-집단의 수=150-3)"
      ],
      "metadata": {
        "id": "eWsWJcSqITLe"
      }
    },
    {
      "cell_type": "markdown",
      "source": [
        "step3 사후분석\n",
        "\n",
        "분산분석의 결과 귀무가설이 기각되어 적어도 한 집단에서 평균의 차이가 있음이 통계적으로 증명되었을 경우, 어떤 집단들에 대해서 평균의 차이가 존재하는지를 알아보기 위해 실시하는 분석\n",
        "조합 가능한 모든 쌍에 대해 비교를 하므로 과잉검증으로 인한 FWER 증가\n",
        "널리 쓰이는 봉페로니 교정과 투키의 HSD를 소개\n",
        " "
      ],
      "metadata": {
        "id": "YGN5a_99IVXK"
      }
    },
    {
      "cell_type": "code",
      "source": [
        "#사후분석을 위한 준비\n",
        "from statsmodels.sandbox.stats.multicomp import MultiComparison\n",
        "import scipy.stats\n",
        "\n",
        "comp = MultiComparison(data.sepal_width, data.target)"
      ],
      "metadata": {
        "id": "-bcbYtpoIZe_"
      },
      "execution_count": 26,
      "outputs": []
    },
    {
      "cell_type": "code",
      "source": [
        "#봉페로니 교정\n",
        "\n",
        "result = comp.allpairtest(scipy.stats.ttest_ind, method='bonf')\n",
        "print(result[0])\n",
        "\n",
        "#투키의 HSD - Tuckey's Honestly Significant Difference = \"진정으로 유의미한 차이\"\n",
        "from statsmodels.stats.multicomp import pairwise_tukeyhsd\n",
        "hsd = pairwise_tukeyhsd(data['sepal_width'], data['target'], alpha=0.05)\n",
        "hsd.summary()"
      ],
      "metadata": {
        "colab": {
          "base_uri": "https://localhost:8080/",
          "height": 323
        },
        "id": "s4aTxA8_IXna",
        "outputId": "7ec6a929-bef8-4dbd-d75b-04e170b2ae82"
      },
      "execution_count": 27,
      "outputs": [
        {
          "output_type": "stream",
          "name": "stdout",
          "text": [
            "Test Multiple Comparison ttest_ind \n",
            "FWER=0.05 method=bonf\n",
            "alphacSidak=0.02, alphacBonf=0.017\n",
            "=============================================\n",
            "group1 group2   stat   pval  pval_corr reject\n",
            "---------------------------------------------\n",
            "     0      1   9.455    0.0       0.0   True\n",
            "     0      2  6.4503    0.0       0.0   True\n",
            "     1      2 -3.2058 0.0018    0.0055   True\n",
            "---------------------------------------------\n"
          ]
        },
        {
          "output_type": "execute_result",
          "data": {
            "text/plain": [
              "<class 'statsmodels.iolib.table.SimpleTable'>"
            ],
            "text/html": [
              "<table class=\"simpletable\">\n",
              "<caption>Multiple Comparison of Means - Tukey HSD, FWER=0.05</caption>\n",
              "<tr>\n",
              "  <th>group1</th> <th>group2</th> <th>meandiff</th>  <th>p-adj</th>  <th>lower</th>   <th>upper</th>  <th>reject</th>\n",
              "</tr>\n",
              "<tr>\n",
              "     <td>0</td>      <td>1</td>    <td>-0.658</td>    <td>0.0</td>  <td>-0.8189</td> <td>-0.4971</td>  <td>True</td> \n",
              "</tr>\n",
              "<tr>\n",
              "     <td>0</td>      <td>2</td>    <td>-0.454</td>    <td>0.0</td>  <td>-0.6149</td> <td>-0.2931</td>  <td>True</td> \n",
              "</tr>\n",
              "<tr>\n",
              "     <td>1</td>      <td>2</td>     <td>0.204</td>  <td>0.0088</td> <td>0.0431</td>  <td>0.3649</td>   <td>True</td> \n",
              "</tr>\n",
              "</table>"
            ]
          },
          "metadata": {},
          "execution_count": 27
        }
      ]
    },
    {
      "cell_type": "markdown",
      "source": [
        "pval=p-value 모든 종들에 대해서 꽃받침 폭의 평균값은 각각 통계적으로 유의한 차이가 있다는 것을 알 수 있음. 종 0과 1의 meandiff가 음수이기 때문에 꽃받침의 폭은 종이 0일때보다 1일때가 통계적으로 유의하게 큰 값을 가진다고 해석할 수 있음."
      ],
      "metadata": {
        "id": "2fPJMSOmIQme"
      }
    },
    {
      "cell_type": "markdown",
      "source": [
        "# 3. 일원배치 분산분석 (one-way ANOVA)\n",
        "\n",
        "독립변인의 수가 두 개 이상일 때 집단 간 차이가 유의한지를 검증하는 데 사용\n",
        "상호작용효과(Interaction effect), 한 변수의 변화가 결과에 미치는 영향이 다른 변수의 수준에 따라 달라지는지를 확인하기 위해 사용"
      ],
      "metadata": {
        "id": "VLUkNms1fb9m"
      }
    },
    {
      "cell_type": "markdown",
      "source": [
        "    Example) \n",
        "\n",
        "    태아의 머리 둘레 측정 데이터. 4명의 관측자가 3명의 태아를 대상으로 측정. \n",
        "    \n",
        "    이를 통해서 초음파로 태아의 머리 둘레측정 데이터가 재현성이 있는지를 조사"
      ],
      "metadata": {
        "id": "_twHIzM6fbJA"
      }
    },
    {
      "cell_type": "code",
      "source": [
        "import pandas as pd\n",
        "import numpy as np\n",
        "import urllib\n",
        "import matplotlib.pyplot as plt\n",
        "\n",
        "inFile = 'altman_12_6.txt'\n",
        "url_base = 'https://raw.githubusercontent.com/thomas-haslwanter/statsintro_python/master/ipynb/Data/data_altman/'\n",
        "url = url_base + inFile\n",
        "data = np.genfromtxt(urllib.request.urlopen(url), delimiter=',')\n",
        "\n",
        "data = pd.DataFrame(data, columns=['head_size','fetus','observer'])\n",
        "data.boxplot(column='head_size', by='fetus')\n",
        "plt.show()\n",
        " "
      ],
      "metadata": {
        "colab": {
          "base_uri": "https://localhost:8080/",
          "height": 478
        },
        "id": "Yq7Lf59BiQzd",
        "outputId": "e12abe25-78ce-496e-f09f-71469b1c4d8c"
      },
      "execution_count": 28,
      "outputs": [
        {
          "output_type": "display_data",
          "data": {
            "text/plain": [
              "<Figure size 640x480 with 1 Axes>"
            ],
            "image/png": "[encoded data removed]"
          },
          "metadata": {}
        }
      ]
    },
    {
      "cell_type": "markdown",
      "source": [
        "그림을 보면 태아fetus 3명의 머리둘레는 차이가 있어보이지만 이것이 관측자와 상호작용이 있는 것인지 분석을 통해 알아봐아야 함.\n",
        "\n",
        " \n"
      ],
      "metadata": {
        "id": "ZVAZqDvOiQ14"
      }
    },
    {
      "cell_type": "code",
      "source": [
        "from statsmodels.formula.api import ols\n",
        "from statsmodels.stats.anova import anova_lm\n",
        "\n",
        "formula = 'head_size ~ C(fetus)+C(observer)+C(fetus):C(observer)'\n",
        "lm = ols(formula, data).fit()\n",
        "print(anova_lm(lm))"
      ],
      "metadata": {
        "colab": {
          "base_uri": "https://localhost:8080/"
        },
        "id": "FzzEfAG8iXxy",
        "outputId": "b7990f32-f102-4c83-e6a4-84ea8b2b400f"
      },
      "execution_count": 29,
      "outputs": [
        {
          "output_type": "stream",
          "name": "stdout",
          "text": [
            "                        df      sum_sq     mean_sq            F        PR(>F)\n",
            "C(fetus)               2.0  324.008889  162.004444  2113.101449  1.051039e-27\n",
            "C(observer)            3.0    1.198611    0.399537     5.211353  6.497055e-03\n",
            "C(fetus):C(observer)   6.0    0.562222    0.093704     1.222222  3.295509e-01\n",
            "Residual              24.0    1.840000    0.076667          NaN           NaN\n"
          ]
        }
      ]
    },
    {
      "cell_type": "markdown",
      "source": [
        "p-value가 0.05이상. 귀무가설을 기각할 수 없고 측정자와 태아의 머리둘레값에는 연관성이 없다고 할 수 있다. 측정하는 사람이 달라도 머리 둘레값은 일정한 것으로 해석할 수 있음.\n"
      ],
      "metadata": {
        "id": "9u1CI0oufa-C"
      }
    },
    {
      "cell_type": "markdown",
      "source": [
        "#4. 교차분석\n",
        "\n",
        "교차분석은 두 범주 변인 간 관계가 상호 독립 관계인지 아니면 상호 연관성을 맺고 있는지를 검증하는 방법\n",
        "적합도 검정, 독립성 검정, 동일성 검정에 사용된다.\n",
        "카이제곱 검정 통계량을 이용\n",
        "이 중 카이제곱 교차분석은 실제로 나온 관찰빈도(observed frequency)와 각 셀에서 통계적으로 기대할 수 있는 빈도, 즉 기대빈도(expected frequency) 간에 얼마만큼의 차이가 있는지를 카이제곱 분포(chi-squared distribution)를 참조해 통계적으로 검증하는 통계 기법이다. 여기서 기대빈도는 모집단의 빈도 모수(parameter)와 일치하는 값이다."
      ],
      "metadata": {
        "id": "LnCpiI8ifbCd"
      }
    },
    {
      "cell_type": "markdown",
      "source": [
        "  1) 적합도 검정\n",
        "\n",
        "  k개의 범주 (혹은 계급)을 가지는 한 개의 요인(factor)에 대해서 어떤 이론적 분포를 따르고 있는지를 검정하는 방법\n",
        "관측값들이 어떠한 이론적 분포를 따르고 있는지를 알아볼 수 있음.\n",
        "모집단 분포에 대한 가정이 옳게 됐는지를 관측 자료와 비교하여 검정\n",
        "귀무가설 : 실제분포와 이론적 분포 간에는 차이가 없다. (두 분포가 일치한다.)\n",
        "대립가설 : 실제분포와 이론적 분포 간에는 차이가 있다. (두 분포가 일치하지 않는다.)"
      ],
      "metadata": {
        "id": "ZmjwwD8DiiQl"
      }
    },
    {
      "cell_type": "markdown",
      "source": [
        "    Example1) 일원카이제곱검정\n",
        "\n",
        "    제품 A,B,C의 보유대수를 조사하니 324대, 78대, 261대 -> 계:663\n",
        "    제품의 판매량 비율은 A56%, B12%, C32% -> 기대빈도는 663 * 0.56 ...\n",
        "    이 자료로 다음같은 관찰빈도와 기대빈도를 만들 수 있음\n",
        "    귀무가설은 관찰빈도는 기대빈도와 같다\n",
        "    대립가설은 관찰빈도와 기대빈도는 다르다"
      ],
      "metadata": {
        "id": "DSmbw8Zgk4Z7"
      }
    },
    {
      "cell_type": "code",
      "source": [
        "import pandas as pd\n",
        "\n",
        "xo, xe = [324,78,261], [371,80,212]\n",
        "xc = pd.DataFrame([xo,xe], columns=['ItemA','ItemB','ItemC'], index=['obs','exp'])\n",
        "xc"
      ],
      "metadata": {
        "colab": {
          "base_uri": "https://localhost:8080/",
          "height": 112
        },
        "id": "0-TctPORlADg",
        "outputId": "57127c86-d744-4c36-8177-ba87d12eedbe"
      },
      "execution_count": 31,
      "outputs": [
        {
          "output_type": "execute_result",
          "data": {
            "text/plain": [
              "     ItemA  ItemB  ItemC\n",
              "obs    324     78    261\n",
              "exp    371     80    212"
            ],
            "text/html": [
              "\n",
              "  <div id=\"df-5435edbe-9a74-4a19-9065-aa89c19c7798\">\n",
              "    <div class=\"colab-df-container\">\n",
              "      <div>\n",
              "<style scoped>\n",
              "    .dataframe tbody tr th:only-of-type {\n",
              "        vertical-align: middle;\n",
              "    }\n",
              "\n",
              "    .dataframe tbody tr th {\n",
              "        vertical-align: top;\n",
              "    }\n",
              "\n",
              "    .dataframe thead th {\n",
              "        text-align: right;\n",
              "    }\n",
              "</style>\n",
              "<table border=\"1\" class=\"dataframe\">\n",
              "  <thead>\n",
              "    <tr style=\"text-align: right;\">\n",
              "      <th></th>\n",
              "      <th>ItemA</th>\n",
              "      <th>ItemB</th>\n",
              "      <th>ItemC</th>\n",
              "    </tr>\n",
              "  </thead>\n",
              "  <tbody>\n",
              "    <tr>\n",
              "      <th>obs</th>\n",
              "      <td>324</td>\n",
              "      <td>78</td>\n",
              "      <td>261</td>\n",
              "    </tr>\n",
              "    <tr>\n",
              "      <th>exp</th>\n",
              "      <td>371</td>\n",
              "      <td>80</td>\n",
              "      <td>212</td>\n",
              "    </tr>\n",
              "  </tbody>\n",
              "</table>\n",
              "</div>\n",
              "      <button class=\"colab-df-convert\" onclick=\"convertToInteractive('df-5435edbe-9a74-4a19-9065-aa89c19c7798')\"\n",
              "              title=\"Convert this dataframe to an interactive table.\"\n",
              "              style=\"display:none;\">\n",
              "        \n",
              "  <svg xmlns=\"http://www.w3.org/2000/svg\" height=\"24px\"viewBox=\"0 0 24 24\"\n",
              "       width=\"24px\">\n",
              "    <path d=\"M0 0h24v24H0V0z\" fill=\"none\"/>\n",
              "    <path d=\"M18.56 5.44l.94 2.06.94-2.06 2.06-.94-2.06-.94-.94-2.06-.94 2.06-2.06.94zm-11 1L8.5 8.5l.94-2.06 2.06-.94-2.06-.94L8.5 2.5l-.94 2.06-2.06.94zm10 10l.94 2.06.94-2.06 2.06-.94-2.06-.94-.94-2.06-.94 2.06-2.06.94z\"/><path d=\"M17.41 7.96l-1.37-1.37c-.4-.4-.92-.59-1.43-.59-.52 0-1.04.2-1.43.59L10.3 9.45l-7.72 7.72c-.78.78-.78 2.05 0 2.83L4 21.41c.39.39.9.59 1.41.59.51 0 1.02-.2 1.41-.59l7.78-7.78 2.81-2.81c.8-.78.8-2.07 0-2.86zM5.41 20L4 18.59l7.72-7.72 1.47 1.35L5.41 20z\"/>\n",
              "  </svg>\n",
              "      </button>\n",
              "      \n",
              "  <style>\n",
              "    .colab-df-container {\n",
              "      display:flex;\n",
              "      flex-wrap:wrap;\n",
              "      gap: 12px;\n",
              "    }\n",
              "\n",
              "    .colab-df-convert {\n",
              "      background-color: #E8F0FE;\n",
              "      border: none;\n",
              "      border-radius: 50%;\n",
              "      cursor: pointer;\n",
              "      display: none;\n",
              "      fill: #1967D2;\n",
              "      height: 32px;\n",
              "      padding: 0 0 0 0;\n",
              "      width: 32px;\n",
              "    }\n",
              "\n",
              "    .colab-df-convert:hover {\n",
              "      background-color: #E2EBFA;\n",
              "      box-shadow: 0px 1px 2px rgba(60, 64, 67, 0.3), 0px 1px 3px 1px rgba(60, 64, 67, 0.15);\n",
              "      fill: #174EA6;\n",
              "    }\n",
              "\n",
              "    [theme=dark] .colab-df-convert {\n",
              "      background-color: #3B4455;\n",
              "      fill: #D2E3FC;\n",
              "    }\n",
              "\n",
              "    [theme=dark] .colab-df-convert:hover {\n",
              "      background-color: #434B5C;\n",
              "      box-shadow: 0px 1px 3px 1px rgba(0, 0, 0, 0.15);\n",
              "      filter: drop-shadow(0px 1px 2px rgba(0, 0, 0, 0.3));\n",
              "      fill: #FFFFFF;\n",
              "    }\n",
              "  </style>\n",
              "\n",
              "      <script>\n",
              "        const buttonEl =\n",
              "          document.querySelector('#df-5435edbe-9a74-4a19-9065-aa89c19c7798 button.colab-df-convert');\n",
              "        buttonEl.style.display =\n",
              "          google.colab.kernel.accessAllowed ? 'block' : 'none';\n",
              "\n",
              "        async function convertToInteractive(key) {\n",
              "          const element = document.querySelector('#df-5435edbe-9a74-4a19-9065-aa89c19c7798');\n",
              "          const dataTable =\n",
              "            await google.colab.kernel.invokeFunction('convertToInteractive',\n",
              "                                                     [key], {});\n",
              "          if (!dataTable) return;\n",
              "\n",
              "          const docLinkHtml = 'Like what you see? Visit the ' +\n",
              "            '<a target=\"_blank\" href=https://colab.research.google.com/notebooks/data_table.ipynb>data table notebook</a>'\n",
              "            + ' to learn more about interactive tables.';\n",
              "          element.innerHTML = '';\n",
              "          dataTable['output_type'] = 'display_data';\n",
              "          await google.colab.output.renderOutput(dataTable, element);\n",
              "          const docLink = document.createElement('div');\n",
              "          docLink.innerHTML = docLinkHtml;\n",
              "          element.appendChild(docLink);\n",
              "        }\n",
              "      </script>\n",
              "    </div>\n",
              "  </div>\n",
              "  "
            ]
          },
          "metadata": {},
          "execution_count": 31
        }
      ]
    },
    {
      "cell_type": "code",
      "source": [
        "import matplotlib.pyplot as plt\n",
        "%matplotlib inline\n",
        "\n",
        "xc.plot(kind='bar', title='Number of item', figsize=(8,6))\n",
        "plt.grid()"
      ],
      "metadata": {
        "colab": {
          "base_uri": "https://localhost:8080/",
          "height": 556
        },
        "id": "4aHrNGbHlCeQ",
        "outputId": "1e97cad9-d806-4ec7-a82d-fdbc2a221488"
      },
      "execution_count": 32,
      "outputs": [
        {
          "output_type": "display_data",
          "data": {
            "text/plain": [
              "<Figure size 800x600 with 1 Axes>"
            ],
            "image/png": "[encoded data removed]"
          },
          "metadata": {}
        }
      ]
    },
    {
      "cell_type": "code",
      "source": [
        "from scipy.stats import chisquare\n",
        "\n",
        "result = chisquare(xo, f_exp=xe)\n",
        "result"
      ],
      "metadata": {
        "colab": {
          "base_uri": "https://localhost:8080/"
        },
        "id": "-pebDWrnlEEI",
        "outputId": "f3f4383c-2440-441d-f037-1c6b2a808d38"
      },
      "execution_count": 33,
      "outputs": [
        {
          "output_type": "execute_result",
          "data": {
            "text/plain": [
              "Power_divergenceResult(statistic=17.329649595687332, pvalue=0.00017254977751013492)"
            ]
          },
          "metadata": {},
          "execution_count": 33
        }
      ]
    },
    {
      "cell_type": "markdown",
      "source": [
        "p-value가 유의수준 0.05보다 아주 작은 값이므로 귀무가설을 기각하고 대립가설을 지지한다. 즉, 연구가설이 지지된다."
      ],
      "metadata": {
        "id": "MksrJPf2lFvz"
      }
    },
    {
      "cell_type": "markdown",
      "source": [
        "    Example 2) 일원카이제곱검정\n",
        "\n",
        "    귀무가설 : 전체응답자 중 왼손잡이는 20%, 오른손잡이는 80%이다\n",
        "    대립가설 : 전체응답자 중 왼손잡이의 비율은 20%, 오른손잡이의 비율이 80%라고 할 수 없다."
      ],
      "metadata": {
        "id": "CjKwW-cClH27"
      }
    },
    {
      "cell_type": "code",
      "source": [
        "data = pd.DataFrame({'Left':[18], 'Right':[218]})\n",
        "data\n",
        "xo = [18,218]\n",
        "xe = [47.2,188.8]"
      ],
      "metadata": {
        "id": "zZZdB-YrlNVE"
      },
      "execution_count": 34,
      "outputs": []
    },
    {
      "cell_type": "code",
      "source": [
        "from scipy.stats import chisquare\n",
        "\n",
        "result = chisquare(xo , f_exp=xe)\n",
        "result"
      ],
      "metadata": {
        "colab": {
          "base_uri": "https://localhost:8080/"
        },
        "id": "XbwI9IEklPUn",
        "outputId": "884b2a07-9aa5-427d-f850-edae35a4bd39"
      },
      "execution_count": 35,
      "outputs": [
        {
          "output_type": "execute_result",
          "data": {
            "text/plain": [
              "Power_divergenceResult(statistic=22.58050847457627, pvalue=2.0151876969887844e-06)"
            ]
          },
          "metadata": {},
          "execution_count": 35
        }
      ]
    },
    {
      "cell_type": "markdown",
      "source": [
        "p-value가 유의수준 0.05보다 작으므로 전체응답자 중 왼손잡이는 20%, 오른손잡이는 80%라는 귀무가설을 기각한다."
      ],
      "metadata": {
        "id": "ygJTDtOYlQih"
      }
    },
    {
      "cell_type": "markdown",
      "source": [
        "2) 독립성 검정\n",
        " \n",
        "모집단이 두 개의 변수 A,B에 의해 범주화되었을 때, 이 두 변수들 사이의 관계가 독립인지 아닌지를 검정하는 것을 의미\n",
        "모집단을 범주화하는 기준이 되는 두 변수 A,B가 서로 독립적으로 관측값에 영향을 미치는지의 여부를 검정하는 것\n",
        "귀무가설 : 두 변수 사이에는 연관이 없다. (독립이다.)\n",
        "대립가설 : 두 변수 사이에는 연관이 있다. (종속이다.)\n"
      ],
      "metadata": {
        "id": "urNO5fmJlSnQ"
      }
    },
    {
      "cell_type": "markdown",
      "source": [
        "    Example1) 이원카이제곱검정\n",
        "\n",
        "    제품1 ~3까지 여성과 남성의 판매량 차이에 대해 카이제곱검정"
      ],
      "metadata": {
        "id": "3d3ueA8WlaLM"
      }
    },
    {
      "cell_type": "code",
      "source": [
        "xf, xm = [269, 83, 215], [155, 57, 181]\n",
        "x = pd.DataFrame([xf, xm], columns=['Item 1', 'Item 2', 'Item 3'], index=['Female', 'Male'])\n",
        "x"
      ],
      "metadata": {
        "colab": {
          "base_uri": "https://localhost:8080/",
          "height": 112
        },
        "id": "iJaIyTIElf2S",
        "outputId": "dd4ebb34-e84d-4160-e18f-d56da5206349"
      },
      "execution_count": 36,
      "outputs": [
        {
          "output_type": "execute_result",
          "data": {
            "text/plain": [
              "        Item 1  Item 2  Item 3\n",
              "Female     269      83     215\n",
              "Male       155      57     181"
            ],
            "text/html": [
              "\n",
              "  <div id=\"df-db2f9808-5fa5-4a58-8c2e-d10063ef0420\">\n",
              "    <div class=\"colab-df-container\">\n",
              "      <div>\n",
              "<style scoped>\n",
              "    .dataframe tbody tr th:only-of-type {\n",
              "        vertical-align: middle;\n",
              "    }\n",
              "\n",
              "    .dataframe tbody tr th {\n",
              "        vertical-align: top;\n",
              "    }\n",
              "\n",
              "    .dataframe thead th {\n",
              "        text-align: right;\n",
              "    }\n",
              "</style>\n",
              "<table border=\"1\" class=\"dataframe\">\n",
              "  <thead>\n",
              "    <tr style=\"text-align: right;\">\n",
              "      <th></th>\n",
              "      <th>Item 1</th>\n",
              "      <th>Item 2</th>\n",
              "      <th>Item 3</th>\n",
              "    </tr>\n",
              "  </thead>\n",
              "  <tbody>\n",
              "    <tr>\n",
              "      <th>Female</th>\n",
              "      <td>269</td>\n",
              "      <td>83</td>\n",
              "      <td>215</td>\n",
              "    </tr>\n",
              "    <tr>\n",
              "      <th>Male</th>\n",
              "      <td>155</td>\n",
              "      <td>57</td>\n",
              "      <td>181</td>\n",
              "    </tr>\n",
              "  </tbody>\n",
              "</table>\n",
              "</div>\n",
              "      <button class=\"colab-df-convert\" onclick=\"convertToInteractive('df-db2f9808-5fa5-4a58-8c2e-d10063ef0420')\"\n",
              "              title=\"Convert this dataframe to an interactive table.\"\n",
              "              style=\"display:none;\">\n",
              "        \n",
              "  <svg xmlns=\"http://www.w3.org/2000/svg\" height=\"24px\"viewBox=\"0 0 24 24\"\n",
              "       width=\"24px\">\n",
              "    <path d=\"M0 0h24v24H0V0z\" fill=\"none\"/>\n",
              "    <path d=\"M18.56 5.44l.94 2.06.94-2.06 2.06-.94-2.06-.94-.94-2.06-.94 2.06-2.06.94zm-11 1L8.5 8.5l.94-2.06 2.06-.94-2.06-.94L8.5 2.5l-.94 2.06-2.06.94zm10 10l.94 2.06.94-2.06 2.06-.94-2.06-.94-.94-2.06-.94 2.06-2.06.94z\"/><path d=\"M17.41 7.96l-1.37-1.37c-.4-.4-.92-.59-1.43-.59-.52 0-1.04.2-1.43.59L10.3 9.45l-7.72 7.72c-.78.78-.78 2.05 0 2.83L4 21.41c.39.39.9.59 1.41.59.51 0 1.02-.2 1.41-.59l7.78-7.78 2.81-2.81c.8-.78.8-2.07 0-2.86zM5.41 20L4 18.59l7.72-7.72 1.47 1.35L5.41 20z\"/>\n",
              "  </svg>\n",
              "      </button>\n",
              "      \n",
              "  <style>\n",
              "    .colab-df-container {\n",
              "      display:flex;\n",
              "      flex-wrap:wrap;\n",
              "      gap: 12px;\n",
              "    }\n",
              "\n",
              "    .colab-df-convert {\n",
              "      background-color: #E8F0FE;\n",
              "      border: none;\n",
              "      border-radius: 50%;\n",
              "      cursor: pointer;\n",
              "      display: none;\n",
              "      fill: #1967D2;\n",
              "      height: 32px;\n",
              "      padding: 0 0 0 0;\n",
              "      width: 32px;\n",
              "    }\n",
              "\n",
              "    .colab-df-convert:hover {\n",
              "      background-color: #E2EBFA;\n",
              "      box-shadow: 0px 1px 2px rgba(60, 64, 67, 0.3), 0px 1px 3px 1px rgba(60, 64, 67, 0.15);\n",
              "      fill: #174EA6;\n",
              "    }\n",
              "\n",
              "    [theme=dark] .colab-df-convert {\n",
              "      background-color: #3B4455;\n",
              "      fill: #D2E3FC;\n",
              "    }\n",
              "\n",
              "    [theme=dark] .colab-df-convert:hover {\n",
              "      background-color: #434B5C;\n",
              "      box-shadow: 0px 1px 3px 1px rgba(0, 0, 0, 0.15);\n",
              "      filter: drop-shadow(0px 1px 2px rgba(0, 0, 0, 0.3));\n",
              "      fill: #FFFFFF;\n",
              "    }\n",
              "  </style>\n",
              "\n",
              "      <script>\n",
              "        const buttonEl =\n",
              "          document.querySelector('#df-db2f9808-5fa5-4a58-8c2e-d10063ef0420 button.colab-df-convert');\n",
              "        buttonEl.style.display =\n",
              "          google.colab.kernel.accessAllowed ? 'block' : 'none';\n",
              "\n",
              "        async function convertToInteractive(key) {\n",
              "          const element = document.querySelector('#df-db2f9808-5fa5-4a58-8c2e-d10063ef0420');\n",
              "          const dataTable =\n",
              "            await google.colab.kernel.invokeFunction('convertToInteractive',\n",
              "                                                     [key], {});\n",
              "          if (!dataTable) return;\n",
              "\n",
              "          const docLinkHtml = 'Like what you see? Visit the ' +\n",
              "            '<a target=\"_blank\" href=https://colab.research.google.com/notebooks/data_table.ipynb>data table notebook</a>'\n",
              "            + ' to learn more about interactive tables.';\n",
              "          element.innerHTML = '';\n",
              "          dataTable['output_type'] = 'display_data';\n",
              "          await google.colab.output.renderOutput(dataTable, element);\n",
              "          const docLink = document.createElement('div');\n",
              "          docLink.innerHTML = docLinkHtml;\n",
              "          element.appendChild(docLink);\n",
              "        }\n",
              "      </script>\n",
              "    </div>\n",
              "  </div>\n",
              "  "
            ]
          },
          "metadata": {},
          "execution_count": 36
        }
      ]
    },
    {
      "cell_type": "code",
      "source": [
        "from scipy.stats import chi2_contingency\n",
        "chi2, p, dof, expected = chi2_contingency([xf,xm])\n",
        "\n",
        "msg = 'Test Statistic: {}\\np-value: {}\\nDegree of Freedom: {}'\n",
        "print(msg.format(chi2, p, dof))\n",
        "print(expected)"
      ],
      "metadata": {
        "colab": {
          "base_uri": "https://localhost:8080/"
        },
        "id": "wbHPwRjllh6h",
        "outputId": "b40e5b2f-6ecf-4b7e-f6f4-3f2d4ade166a"
      },
      "execution_count": 37,
      "outputs": [
        {
          "output_type": "stream",
          "name": "stdout",
          "text": [
            "Test Statistic: 7.094264414804222\n",
            "p-value: 0.028807134195296135\n",
            "Degree of Freedom: 2\n",
            "[[250.425   82.6875 233.8875]\n",
            " [173.575   57.3125 162.1125]]\n"
          ]
        }
      ]
    },
    {
      "cell_type": "markdown",
      "source": [
        "자유도는 (3-1) * (2-1) = 2이고, p-value는 유의수준 0.05보다 작은 값으로 2개 그룹간에 차이가 있다고 판단할 수 있음\n",
        "\n",
        " "
      ],
      "metadata": {
        "id": "75-A_k_AljPg"
      }
    },
    {
      "cell_type": "markdown",
      "source": [
        "    Example2) 이원카이제곱검정"
      ],
      "metadata": {
        "id": "RYaKOxnXllf7"
      }
    },
    {
      "cell_type": "code",
      "source": [
        "data = pd.DataFrame([[156,14,2,4],[124,20,5,4],[77,11,7,13],[82,36,15,7],[53,11,1,57]],\\\n",
        "                   columns=['wife','alternating','husband','jointly'], index=['landry','main_mean','dinner','breakfast','tidying'])\n",
        "data"
      ],
      "metadata": {
        "colab": {
          "base_uri": "https://localhost:8080/",
          "height": 206
        },
        "id": "9LdsuN0zlq-t",
        "outputId": "be0d5c29-5bdd-402d-bd75-69d2df623cc8"
      },
      "execution_count": 38,
      "outputs": [
        {
          "output_type": "execute_result",
          "data": {
            "text/plain": [
              "           wife  alternating  husband  jointly\n",
              "landry      156           14        2        4\n",
              "main_mean   124           20        5        4\n",
              "dinner       77           11        7       13\n",
              "breakfast    82           36       15        7\n",
              "tidying      53           11        1       57"
            ],
            "text/html": [
              "\n",
              "  <div id=\"df-0b128750-ab69-4f85-a0ba-d427005ef39d\">\n",
              "    <div class=\"colab-df-container\">\n",
              "      <div>\n",
              "<style scoped>\n",
              "    .dataframe tbody tr th:only-of-type {\n",
              "        vertical-align: middle;\n",
              "    }\n",
              "\n",
              "    .dataframe tbody tr th {\n",
              "        vertical-align: top;\n",
              "    }\n",
              "\n",
              "    .dataframe thead th {\n",
              "        text-align: right;\n",
              "    }\n",
              "</style>\n",
              "<table border=\"1\" class=\"dataframe\">\n",
              "  <thead>\n",
              "    <tr style=\"text-align: right;\">\n",
              "      <th></th>\n",
              "      <th>wife</th>\n",
              "      <th>alternating</th>\n",
              "      <th>husband</th>\n",
              "      <th>jointly</th>\n",
              "    </tr>\n",
              "  </thead>\n",
              "  <tbody>\n",
              "    <tr>\n",
              "      <th>landry</th>\n",
              "      <td>156</td>\n",
              "      <td>14</td>\n",
              "      <td>2</td>\n",
              "      <td>4</td>\n",
              "    </tr>\n",
              "    <tr>\n",
              "      <th>main_mean</th>\n",
              "      <td>124</td>\n",
              "      <td>20</td>\n",
              "      <td>5</td>\n",
              "      <td>4</td>\n",
              "    </tr>\n",
              "    <tr>\n",
              "      <th>dinner</th>\n",
              "      <td>77</td>\n",
              "      <td>11</td>\n",
              "      <td>7</td>\n",
              "      <td>13</td>\n",
              "    </tr>\n",
              "    <tr>\n",
              "      <th>breakfast</th>\n",
              "      <td>82</td>\n",
              "      <td>36</td>\n",
              "      <td>15</td>\n",
              "      <td>7</td>\n",
              "    </tr>\n",
              "    <tr>\n",
              "      <th>tidying</th>\n",
              "      <td>53</td>\n",
              "      <td>11</td>\n",
              "      <td>1</td>\n",
              "      <td>57</td>\n",
              "    </tr>\n",
              "  </tbody>\n",
              "</table>\n",
              "</div>\n",
              "      <button class=\"colab-df-convert\" onclick=\"convertToInteractive('df-0b128750-ab69-4f85-a0ba-d427005ef39d')\"\n",
              "              title=\"Convert this dataframe to an interactive table.\"\n",
              "              style=\"display:none;\">\n",
              "        \n",
              "  <svg xmlns=\"http://www.w3.org/2000/svg\" height=\"24px\"viewBox=\"0 0 24 24\"\n",
              "       width=\"24px\">\n",
              "    <path d=\"M0 0h24v24H0V0z\" fill=\"none\"/>\n",
              "    <path d=\"M18.56 5.44l.94 2.06.94-2.06 2.06-.94-2.06-.94-.94-2.06-.94 2.06-2.06.94zm-11 1L8.5 8.5l.94-2.06 2.06-.94-2.06-.94L8.5 2.5l-.94 2.06-2.06.94zm10 10l.94 2.06.94-2.06 2.06-.94-2.06-.94-.94-2.06-.94 2.06-2.06.94z\"/><path d=\"M17.41 7.96l-1.37-1.37c-.4-.4-.92-.59-1.43-.59-.52 0-1.04.2-1.43.59L10.3 9.45l-7.72 7.72c-.78.78-.78 2.05 0 2.83L4 21.41c.39.39.9.59 1.41.59.51 0 1.02-.2 1.41-.59l7.78-7.78 2.81-2.81c.8-.78.8-2.07 0-2.86zM5.41 20L4 18.59l7.72-7.72 1.47 1.35L5.41 20z\"/>\n",
              "  </svg>\n",
              "      </button>\n",
              "      \n",
              "  <style>\n",
              "    .colab-df-container {\n",
              "      display:flex;\n",
              "      flex-wrap:wrap;\n",
              "      gap: 12px;\n",
              "    }\n",
              "\n",
              "    .colab-df-convert {\n",
              "      background-color: #E8F0FE;\n",
              "      border: none;\n",
              "      border-radius: 50%;\n",
              "      cursor: pointer;\n",
              "      display: none;\n",
              "      fill: #1967D2;\n",
              "      height: 32px;\n",
              "      padding: 0 0 0 0;\n",
              "      width: 32px;\n",
              "    }\n",
              "\n",
              "    .colab-df-convert:hover {\n",
              "      background-color: #E2EBFA;\n",
              "      box-shadow: 0px 1px 2px rgba(60, 64, 67, 0.3), 0px 1px 3px 1px rgba(60, 64, 67, 0.15);\n",
              "      fill: #174EA6;\n",
              "    }\n",
              "\n",
              "    [theme=dark] .colab-df-convert {\n",
              "      background-color: #3B4455;\n",
              "      fill: #D2E3FC;\n",
              "    }\n",
              "\n",
              "    [theme=dark] .colab-df-convert:hover {\n",
              "      background-color: #434B5C;\n",
              "      box-shadow: 0px 1px 3px 1px rgba(0, 0, 0, 0.15);\n",
              "      filter: drop-shadow(0px 1px 2px rgba(0, 0, 0, 0.3));\n",
              "      fill: #FFFFFF;\n",
              "    }\n",
              "  </style>\n",
              "\n",
              "      <script>\n",
              "        const buttonEl =\n",
              "          document.querySelector('#df-0b128750-ab69-4f85-a0ba-d427005ef39d button.colab-df-convert');\n",
              "        buttonEl.style.display =\n",
              "          google.colab.kernel.accessAllowed ? 'block' : 'none';\n",
              "\n",
              "        async function convertToInteractive(key) {\n",
              "          const element = document.querySelector('#df-0b128750-ab69-4f85-a0ba-d427005ef39d');\n",
              "          const dataTable =\n",
              "            await google.colab.kernel.invokeFunction('convertToInteractive',\n",
              "                                                     [key], {});\n",
              "          if (!dataTable) return;\n",
              "\n",
              "          const docLinkHtml = 'Like what you see? Visit the ' +\n",
              "            '<a target=\"_blank\" href=https://colab.research.google.com/notebooks/data_table.ipynb>data table notebook</a>'\n",
              "            + ' to learn more about interactive tables.';\n",
              "          element.innerHTML = '';\n",
              "          dataTable['output_type'] = 'display_data';\n",
              "          await google.colab.output.renderOutput(dataTable, element);\n",
              "          const docLink = document.createElement('div');\n",
              "          docLink.innerHTML = docLinkHtml;\n",
              "          element.appendChild(docLink);\n",
              "        }\n",
              "      </script>\n",
              "    </div>\n",
              "  </div>\n",
              "  "
            ]
          },
          "metadata": {},
          "execution_count": 38
        }
      ]
    },
    {
      "cell_type": "code",
      "source": [
        "from scipy.stats import chi2_contingency\n",
        "chi2, pvalue, dof, expected = chi2_contingency(data)\n",
        "\n",
        "msg = 'Test Statistic: {}\\np-value: {}\\nDegree of Freedom: {}'\n",
        "print(msg.format(chi2, p, dof))\n",
        "print(expected)"
      ],
      "metadata": {
        "colab": {
          "base_uri": "https://localhost:8080/"
        },
        "id": "t6WMsp9DltTp",
        "outputId": "a5382d15-ff4d-4030-ad8d-83c8c3a52aeb"
      },
      "execution_count": 39,
      "outputs": [
        {
          "output_type": "stream",
          "name": "stdout",
          "text": [
            "Test Statistic: 222.77883846736816\n",
            "p-value: 0.028807134195296135\n",
            "Degree of Freedom: 12\n",
            "[[123.87982833  23.16452074   7.55364807  21.40200286]\n",
            " [107.69098712  20.13733906   6.56652361  18.60515021]\n",
            " [ 76.01716738  14.21459227   4.63519313  13.13304721]\n",
            " [ 98.54077253  18.42632332   6.00858369  17.02432046]\n",
            " [ 85.87124464  16.05722461   5.2360515   14.83547926]]\n"
          ]
        }
      ]
    },
    {
      "cell_type": "markdown",
      "source": [
        "3) 동질성 검정\n",
        " \n",
        "모집단이 임의의 변수에 따라 R개의 속성으로 범주화되었을 때, R개의 부분 모집단에서 추출한 각 표본인 C개으 범주화된 집단의 분포는 서로 동일한지 아닌지를 검정하는 것을 의미\n",
        "귀무가설 : p(1j) = p(2j) = p(3j).. = p(nj) (n=1,2,...,r)\n",
        "대립가설 : p(nj)중 다른 값이 하나이상 존재한다.\n",
        "계산법과 검정법은 모두 독립성 검정과 같은 방법으로 진행"
      ],
      "metadata": {
        "id": "40hvLSixlvvm"
      }
    },
    {
      "cell_type": "markdown",
      "source": [
        "    Example) \n",
        "\n",
        "    귀무가설: 교육방법에 따른 교육생들의 만족도 차이가 없다.\n",
        "    대립가설: 교육방법에 따른 교육생들의 만족도 차이가 있다.\n",
        "\n"
      ],
      "metadata": {
        "id": "13BRYvkOl2bl"
      }
    },
    {
      "cell_type": "code",
      "source": [
        "import pandas as pd\n",
        "\n",
        "data = pd.read_csv(\"https://raw.githubusercontent.com/wjddyd66/R/master/Data/survey_method.csv\")\n",
        "print(data.head(5))"
      ],
      "metadata": {
        "colab": {
          "base_uri": "https://localhost:8080/"
        },
        "id": "HfFfYZ0_mFkb",
        "outputId": "23e5fc04-2fa9-494c-fe78-23a60973d62f"
      },
      "execution_count": 40,
      "outputs": [
        {
          "output_type": "stream",
          "name": "stdout",
          "text": [
            "   no  method  survey\n",
            "0   1       1       1\n",
            "1   2       2       2\n",
            "2   3       3       3\n",
            "3   4       1       4\n",
            "4   5       2       5\n"
          ]
        }
      ]
    },
    {
      "cell_type": "code",
      "source": [
        "ctab = pd.crosstab(index=data[\"method\"], columns=data[\"survey\"])\n",
        "print(ctab)"
      ],
      "metadata": {
        "colab": {
          "base_uri": "https://localhost:8080/"
        },
        "id": "SvWjaCB3mIsv",
        "outputId": "83f04fd4-3be8-4a20-d1d1-707e1ca699cf"
      },
      "execution_count": 41,
      "outputs": [
        {
          "output_type": "stream",
          "name": "stdout",
          "text": [
            "survey  1   2   3   4  5\n",
            "method                  \n",
            "1       5   8  15  16  6\n",
            "2       8  14  11  11  6\n",
            "3       8   7  11  15  9\n"
          ]
        }
      ]
    },
    {
      "cell_type": "code",
      "source": [
        "from scipy import stats\n",
        "chi2, p, dof, expected = stats.chi2_contingency(ctab)\n",
        "msg = \"chi2:{}, p-value:{}, df:{}\"\n",
        "print(msg.format(chi2, p, dof))"
      ],
      "metadata": {
        "id": "gqH0RYFimKem",
        "outputId": "ffaabc3e-7480-4808-e3a4-5510eea3fec9",
        "colab": {
          "base_uri": "https://localhost:8080/"
        }
      },
      "execution_count": 42,
      "outputs": [
        {
          "output_type": "stream",
          "name": "stdout",
          "text": [
            "chi2:6.544667820529891, p-value:0.5864574374550608, df:8\n"
          ]
        }
      ]
    },
    {
      "cell_type": "markdown",
      "source": [
        "p-value(0.58) > 0.05(95% 신뢰확률에서의 유의수준) 이므로 귀무가설을 채택한다.\n",
        "\n",
        "즉, 교육방법에 따른 교육생들의 만족도에 차이가 없다고 할 수 있다."
      ],
      "metadata": {
        "id": "uzIThzbZmMWD"
      }
    }
  ]
}