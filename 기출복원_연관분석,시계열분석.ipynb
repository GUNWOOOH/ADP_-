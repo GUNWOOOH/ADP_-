{
  "nbformat": 4,
  "nbformat_minor": 0,
  "metadata": {
    "colab": {
      "provenance": [],
      "authorship_tag": "ABX9TyP6Y12hp5BaNwm2hucNbZEH",
      "include_colab_link": true
    },
    "kernelspec": {
      "name": "python3",
      "display_name": "Python 3"
    },
    "language_info": {
      "name": "python"
    }
  },
  "cells": [
    {
      "cell_type": "markdown",
      "metadata": {
        "id": "view-in-github",
        "colab_type": "text"
      },
      "source": [
        "<a href=\"https://colab.research.google.com/github/GUNWOOOH/ADP_Practice/blob/main/%EA%B8%B0%EC%B6%9C%EB%B3%B5%EC%9B%90_%EC%97%B0%EA%B4%80%EB%B6%84%EC%84%9D%2C%EC%8B%9C%EA%B3%84%EC%97%B4%EB%B6%84%EC%84%9D.ipynb\" target=\"_parent\"><img src=\"https://colab.research.google.com/assets/colab-badge.svg\" alt=\"Open In Colab\"/></a>"
      ]
    },
    {
      "cell_type": "markdown",
      "source": [
        "#연관분석 및 시계열분석 ADP 기출 및 예제\n",
        "\n",
        "1. 연관분석\n",
        "\n",
        "1) 연관규칙분석을 수행하기 위해 lotto 데이터셋을 transaction 데이터로 변환하시오. (단, 본 분석에서 로또번호가 추첨된 순서는 고려하지 않고 분석을 수행하도록 한다.) 그리고 변환된 데이터에서 가장 많이 등장한 상위 10개의 로또번호를 막대그래프로 출력하고 이에 대해 설명하시오."
      ],
      "metadata": {
        "id": "tktZhgo2_xnI"
      }
    },
    {
      "cell_type": "code",
      "source": [
        "import pandas as pd\n",
        "from mlxtend.preprocessing import TransactionEncoder\n",
        "from mlxtend.frequent_patterns import apriori, association_rules\n",
        "from collections import Counter\n",
        "import matplotlib.pyplot as plt\n",
        "from apyori import apriori\n",
        "\n",
        "path = './모의고사 1회/lotto.csv'\n",
        "data= pd.read_csv(path)\n",
        "ddata=data[['num1','num2','num3','num4','num5','num6']]\n",
        "ddata"
      ],
      "metadata": {
        "id": "efxav7V7_8hr"
      },
      "execution_count": null,
      "outputs": []
    },
    {
      "cell_type": "markdown",
      "source": [
        "R에서는 데이터 형태를 변형하기 위해 'reshape2' 라이브러리를 설치하여 '트랜잭션'데이터의 형태를 변환한다.\n",
        "\n",
        "하지만 python에서 대체할 수 있는 'reshape' 형태의 라이브러리가 없다. 가장 비슷한 라이브러리는 TransactionEncoder()이다. "
      ],
      "metadata": {
        "id": "U9AxHWeaAIT-"
      }
    },
    {
      "cell_type": "code",
      "source": [
        "ddata= ddata.astype('string')\n",
        "df_list=ddata.values.tolist()\n",
        "te = TransactionEncoder()\n",
        "te_ary = te.fit(df_list).transform(df_list)\n",
        "df = pd.DataFrame(te_ary, columns=te.columns_)"
      ],
      "metadata": {
        "id": "Qtmni_x5AKMV"
      },
      "execution_count": null,
      "outputs": []
    },
    {
      "cell_type": "code",
      "source": [
        "df"
      ],
      "metadata": {
        "id": "NB892wUPAMpl"
      },
      "execution_count": null,
      "outputs": []
    },
    {
      "cell_type": "markdown",
      "source": [
        "가장 많이 나온 숫자 상위 10개를 뽑습니다."
      ],
      "metadata": {
        "id": "iUO0gLmsAP43"
      }
    },
    {
      "cell_type": "code",
      "source": [
        "import numpy as np\n",
        "list_count = np.array(df_list).flatten().tolist()\n",
        "count=Counter(list_count)\n",
        "sorted_C_union = sorted(count.items(), key=lambda x: (-x[1], x[0]))\n",
        "d = pd.DataFrame.from_dict(sorted_C_union)\n",
        "#가장 많이 뽑힌 숫자 상위 10개 뽑기\n",
        "d.rename(columns={0:'num', 1:'count'}, inplace=True)\n",
        "d=d.sort_values(by='count', ascending=False)[:10]\n",
        "\n",
        "plt.figure(figsize=(20,16))\n",
        "plt.xticks(fontsize = 18 )\n",
        "plt.bar(d['num'].values, d['count'].values)"
      ],
      "metadata": {
        "id": "x6s8vkrxAQxW"
      },
      "execution_count": null,
      "outputs": []
    },
    {
      "cell_type": "markdown",
      "source": [
        "2) 변환한 데이터에 대해 apriori함수를 사용하여 다음 괄호 안의 조건을 반영하여 연관규칙을 생성하고, 이를 'rules_1'이라는 변수에 저장하여 결과를 해석하시오(최소 지지도: 0.002, 최소 신뢰도: 0.8, 최소조합 항목수: 2개, 최대조합 항목 수 :6개) 그리고 도출된 연관규칙들을 향상도를 기준으로 내림차순 정렬하여 상위 30개의 규칙을 확인하고, 이를 데이터프레임으로 변환하여 csv파일로 출력하시오."
      ],
      "metadata": {
        "id": "-kLer90jAUU4"
      }
    },
    {
      "cell_type": "code",
      "source": [
        "from mlxtend.frequent_patterns import apriori\n",
        "#최소 지지도 0.002 \n",
        "frequent_itemsets = apriori(df, min_support=0.002, use_colnames=True)\n",
        "\n",
        "#최소 신뢰도 0.8를 위한 작업\n",
        "frequent_ = association_rules(frequent_itemsets, metric=\"confidence\", min_threshold=0.8)"
      ],
      "metadata": {
        "id": "-LmW-R0wAYlt"
      },
      "execution_count": null,
      "outputs": []
    },
    {
      "cell_type": "code",
      "source": [
        "#최대 조합수 6개 최소 조합수 2개 \n",
        "freq=frequent_[ (frequent_['antecedent_len'] >= 2) &  (frequent_['antecedent_len'] <= 6)]\n",
        "freq"
      ],
      "metadata": {
        "id": "STPSDSfcAo0s"
      },
      "execution_count": null,
      "outputs": []
    },
    {
      "cell_type": "markdown",
      "source": [
        "향상도인 \"lift\"를 기준으로 규칙들을 내림차순 정렬한 후, 상위 30개의 규칙을 확인한다. "
      ],
      "metadata": {
        "id": "WHfqkG1JAXKK"
      }
    },
    {
      "cell_type": "code",
      "source": [
        "result = freq.sort_values(by='lift', ascending=False)[:30]\n",
        "result"
      ],
      "metadata": {
        "id": "AWWgoY7RAqwk"
      },
      "execution_count": null,
      "outputs": []
    },
    {
      "cell_type": "markdown",
      "source": [
        "2. 연관분석\n",
        "\n",
        " 음식 메뉴 주문 연관분석 ( A, AAA, BB, AAA, BBBB, B, AA, BBBB, AAAA 이런식의 데이터)\n",
        "- 데이터 셋을 따로 주지는 않음\n",
        "- A, B 메뉴 주문 연관분석 수행"
      ],
      "metadata": {
        "id": "uR5rUPbqBaeq"
      }
    },
    {
      "cell_type": "code",
      "source": [
        "import pandas as pd\n",
        "from mlxtend.preprocessing import TransactionEncoder\n",
        "\n",
        "dataset = [['A'],\n",
        "           ['A','A','A'],\n",
        "           ['B', 'B'],\n",
        "           ['A','A','A'],\n",
        "           ['B','B','B','B'],\n",
        "           ['B'],\n",
        "           ['A','B'],\n",
        "           ['B','B','A'],\n",
        "           ]\n",
        "          \n",
        "te = TransactionEncoder()\n",
        "te_ary = te.fit_transform(dataset)\n",
        "te_ary\n"
      ],
      "metadata": {
        "colab": {
          "base_uri": "https://localhost:8080/"
        },
        "id": "E2D3ydlEBd27",
        "outputId": "38d04265-ca43-4ae8-ee74-a74196f8652d"
      },
      "execution_count": 1,
      "outputs": [
        {
          "output_type": "execute_result",
          "data": {
            "text/plain": [
              "array([[ True, False],\n",
              "       [ True, False],\n",
              "       [False,  True],\n",
              "       [ True, False],\n",
              "       [False,  True],\n",
              "       [False,  True],\n",
              "       [ True,  True],\n",
              "       [ True,  True]])"
            ]
          },
          "metadata": {},
          "execution_count": 1
        }
      ]
    },
    {
      "cell_type": "code",
      "source": [],
      "metadata": {
        "id": "aqTMeizbCWOm"
      },
      "execution_count": null,
      "outputs": []
    }
  ]
}