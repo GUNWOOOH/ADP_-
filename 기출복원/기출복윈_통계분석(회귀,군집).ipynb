{
  "nbformat": 4,
  "nbformat_minor": 0,
  "metadata": {
    "colab": {
      "provenance": [],
      "authorship_tag": "ABX9TyPQdtp4i0cImAt5RjS25xn6",
      "include_colab_link": true
    },
    "kernelspec": {
      "name": "python3",
      "display_name": "Python 3"
    },
    "language_info": {
      "name": "python"
    }
  },
  "cells": [
    {
      "cell_type": "markdown",
      "metadata": {
        "id": "view-in-github",
        "colab_type": "text"
      },
      "source": [
        "<a href=\"https://colab.research.google.com/github/GUNWOOOH/ADP_Practice/blob/main/%EA%B8%B0%EC%B6%9C%EB%B3%B5%EC%9C%88_%ED%86%B5%EA%B3%84%EB%B6%84%EC%84%9D(%ED%9A%8C%EA%B7%80%2C%EA%B5%B0%EC%A7%91).ipynb\" target=\"_parent\"><img src=\"https://colab.research.google.com/assets/colab-badge.svg\" alt=\"Open In Colab\"/></a>"
      ]
    },
    {
      "cell_type": "markdown",
      "source": [
        "#기출 복원(회귀, 군집 통계분석 PART)\n",
        "\n",
        "1. Quantile 회귀(27회)\n",
        "\n",
        "\n",
        " (1) 분위수 회귀분석 (Quantile Regression) 을 사용하여 회귀 계수를 구하시오. (반올림하여 소수점 아래 둘째자리까지 표기하시오.)\n",
        "\n",
        "(2) (1)의 모델의 회귀계수를 활용하여 temperature : 10.5 , wind : 8.2 , precipitation : 3.5 일때 user_counts를 예측하시오\n",
        "\n"
      ],
      "metadata": {
        "id": "FSLqNtAi3un8"
      }
    },
    {
      "cell_type": "code",
      "source": [
        "import pandas as pd\n",
        "\n",
        "df= pd.read_csv('https://raw.githubusercontent.com/Datamanim/datarepo/main/adp/27/problem8.csv')\n",
        "df.head()"
      ],
      "metadata": {
        "id": "THAaS9Q178-S"
      },
      "execution_count": null,
      "outputs": []
    },
    {
      "cell_type": "code",
      "source": [],
      "metadata": {
        "id": "biTHGEJZ793s"
      },
      "execution_count": null,
      "outputs": []
    },
    {
      "cell_type": "markdown",
      "source": [
        "**2. 베이지안 회귀(26회)**\n",
        "\n",
        "(1) height(키), weight(몸무게), waist(허리둘레) 컬럼을 가진 problem7.csv파일을 가지고 다음을 분석하라.\n",
        "\n",
        "A시의 20대 남성 411명을 임의로 추출하여 키, 몸무게, 허리둘레를 조사하여 기록한 데이터이다.\n",
        "\n",
        "이 데이터를 이용하여 20대 남성의 키와 허리둘레가 체중에 영향을 미치는지 알아보고자 한다\n",
        "\n",
        "(2) 아래 조건을 참고하여 회귀계수(반올림하여 소수점 두자리)를 구하시오.\n",
        "\n",
        "시드넘버 1234로 지정\n",
        "\n",
        "1000번의 burn-in 이후 10,000의 MCMC를 수행\n",
        "\n",
        "회귀계수의 사전분포는 부적절한 균일분포(inproper uniform prior distribution), 오차항의 분산의 사전분포는 역감마 분포로 지정. 이때, 형상(Shape)모수와 척도(Scale)모수는 각각 0.005로 지정.\n",
        "\n"
      ],
      "metadata": {
        "id": "QqXdfnSq7-mQ"
      }
    },
    {
      "cell_type": "code",
      "source": [],
      "metadata": {
        "id": "Cndnke3-8zmR"
      },
      "execution_count": null,
      "outputs": []
    },
    {
      "cell_type": "markdown",
      "source": [
        "**3. 다중선형회귀 방정식(24회)**\n",
        "\n",
        "광고비(범주형 변수, 높음과 낮음으로 적혀있음), 연구개발비(수치형 변수, 수치 적혀있음), 판매액(수치형 변수, 수치 적혀있음), 전체 관측치는 10개로 소규모 데이터. 광고비와 연구개발비가 독립변수, 판매액이 종속변수.\n",
        "\n",
        "광고비를 가변수화해서 다중선형회귀방정식을 만들고 회귀계수를 검정하기\n",
        "\n",
        "회귀 모형을 검정하기\n"
      ],
      "metadata": {
        "id": "gKOYbMI38ZW4"
      }
    },
    {
      "cell_type": "code",
      "source": [],
      "metadata": {
        "id": "CD8yjRWo9FKJ"
      },
      "execution_count": null,
      "outputs": []
    },
    {
      "cell_type": "markdown",
      "source": [
        "**4. 머신러닝에 회귀와 군집분석 동시등장 (20회)**\n",
        "\n",
        "\n",
        "(1) 군집분석(data: 가구별 15분 단위의 전력사용량; 년월일, 시간, 가구코드, 전력사용량 등 포함)\n",
        "\n",
        "가구별, 15분 단위 전력 사용량의 합을 구하고, 이 데이터를 군집화하여 표 완성시키기 (가구코드, Date, 전력사용량의합, Cluster)\n",
        "\n",
        "히트맵으로 시각화: 그룹별로 15분마다 전력 사용량을 요일별로 평균낸 것을 시각화\n",
        "\n",
        "(2) 회귀분석\n",
        "\n",
        "train/test 7:3 분할 및 검증 후 R2 score, RMSE, 정확도(공식 주어짐) 지표 계산\n"
      ],
      "metadata": {
        "id": "ubCD9BY69TAP"
      }
    },
    {
      "cell_type": "markdown",
      "source": [
        "**5. 계층적 군집분석 (23회)**\n",
        "\n",
        "코로나 시계열 데이터\n",
        "데이터 출처(후처리과정 미포함) :https://www.kaggle.com/antgoldbloom/covid19panels?select=country_panel.csv\n",
        "\n",
        "데이터 경로 : /kaggle/input/adp-kr-p1/problem3_covid2.csv\n",
        "\n",
        " (1) 데이터는 일자별 각 나라의 일일 확진자수를 나타낸다. 각 나라의 일자별 누적확진자 수를 나타내는 데이터 프레임을 생성하라"
      ],
      "metadata": {
        "id": "JgX5VwM09aS5"
      }
    },
    {
      "cell_type": "code",
      "source": [
        "df = pd.read_csv('/kaggle/input/adp-kr-p1/problem3_covid2.csv')\n",
        "\n",
        "target = df.groupby(['location','date']).sum().groupby(level=0).cumsum()\n",
        "target.columns = ['cumulative sum']\n",
        "target = target.reset_index()\n",
        "target"
      ],
      "metadata": {
        "colab": {
          "base_uri": "https://localhost:8080/",
          "height": 248
        },
        "id": "g3UDNlPl997X",
        "outputId": "8e8365dc-09e8-475a-c65e-4bcf0ccb152f"
      },
      "execution_count": 1,
      "outputs": [
        {
          "output_type": "error",
          "ename": "NameError",
          "evalue": "ignored",
          "traceback": [
            "\u001b[0;31m---------------------------------------------------------------------------\u001b[0m",
            "\u001b[0;31mNameError\u001b[0m                                 Traceback (most recent call last)",
            "\u001b[0;32m<ipython-input-1-363374c47aad>\u001b[0m in \u001b[0;36m<cell line: 1>\u001b[0;34m()\u001b[0m\n\u001b[0;32m----> 1\u001b[0;31m \u001b[0mdf\u001b[0m \u001b[0;34m=\u001b[0m \u001b[0mpd\u001b[0m\u001b[0;34m.\u001b[0m\u001b[0mread_csv\u001b[0m\u001b[0;34m(\u001b[0m\u001b[0;34m'/kaggle/input/adp-kr-p1/problem3_covid2.csv'\u001b[0m\u001b[0;34m)\u001b[0m\u001b[0;34m\u001b[0m\u001b[0;34m\u001b[0m\u001b[0m\n\u001b[0m\u001b[1;32m      2\u001b[0m \u001b[0;34m\u001b[0m\u001b[0m\n\u001b[1;32m      3\u001b[0m \u001b[0mtarget\u001b[0m \u001b[0;34m=\u001b[0m \u001b[0mdf\u001b[0m\u001b[0;34m.\u001b[0m\u001b[0mgroupby\u001b[0m\u001b[0;34m(\u001b[0m\u001b[0;34m[\u001b[0m\u001b[0;34m'location'\u001b[0m\u001b[0;34m,\u001b[0m\u001b[0;34m'date'\u001b[0m\u001b[0;34m]\u001b[0m\u001b[0;34m)\u001b[0m\u001b[0;34m.\u001b[0m\u001b[0msum\u001b[0m\u001b[0;34m(\u001b[0m\u001b[0;34m)\u001b[0m\u001b[0;34m.\u001b[0m\u001b[0mgroupby\u001b[0m\u001b[0;34m(\u001b[0m\u001b[0mlevel\u001b[0m\u001b[0;34m=\u001b[0m\u001b[0;36m0\u001b[0m\u001b[0;34m)\u001b[0m\u001b[0;34m.\u001b[0m\u001b[0mcumsum\u001b[0m\u001b[0;34m(\u001b[0m\u001b[0;34m)\u001b[0m\u001b[0;34m\u001b[0m\u001b[0;34m\u001b[0m\u001b[0m\n\u001b[1;32m      4\u001b[0m \u001b[0mtarget\u001b[0m\u001b[0;34m.\u001b[0m\u001b[0mcolumns\u001b[0m \u001b[0;34m=\u001b[0m \u001b[0;34m[\u001b[0m\u001b[0;34m'cumulative sum'\u001b[0m\u001b[0;34m]\u001b[0m\u001b[0;34m\u001b[0m\u001b[0;34m\u001b[0m\u001b[0m\n\u001b[1;32m      5\u001b[0m \u001b[0mtarget\u001b[0m \u001b[0;34m=\u001b[0m \u001b[0mtarget\u001b[0m\u001b[0;34m.\u001b[0m\u001b[0mreset_index\u001b[0m\u001b[0;34m(\u001b[0m\u001b[0;34m)\u001b[0m\u001b[0;34m\u001b[0m\u001b[0;34m\u001b[0m\u001b[0m\n",
            "\u001b[0;31mNameError\u001b[0m: name 'pd' is not defined"
          ]
        }
      ]
    },
    {
      "cell_type": "markdown",
      "source": [
        "(2) 1에서 구한 데이터를 각 나라별로 acf값을 구하고(lag는 50개까지 구하고 첫번째 값을 제외하라) 국가를 기준으로 유클리디안 거리를 기준으로 클러스터링을 진행 후 계층적 군집 분석을 위해 덴드로그램 작성하라"
      ],
      "metadata": {
        "id": "F2H8JjpT-AKR"
      }
    },
    {
      "cell_type": "code",
      "source": [
        "from scipy.spatial import distance\n",
        "import statsmodels.api as sm\n",
        "\n",
        "name =[]\n",
        "for lo in target.location.unique():\n",
        "    \n",
        "    v = sm.tsa.stattools.acf(target[target.location==lo]['cumulative sum'], nlags=50, fft=False)\n",
        "    name.append([lo]+list(v[1:]))\n",
        "\n",
        "v = pd.DataFrame(name)\n",
        "\n",
        "import seaborn as sns\n",
        "import scipy\n",
        "import matplotlib.pyplot as plt\n",
        "import scipy.cluster.hierarchy as sch\n",
        "\n",
        "\n",
        "data =v.set_index(0)\n",
        "label = np.array(data.index)\n",
        "\n",
        "datav = data.values\n",
        "\n",
        "fig = plt.figure(figsize=(17,10))\n",
        "\n",
        "ax3 = fig.add_subplot(1,1,1)\n",
        "dend3 = sch.linkage(datav, method='average', metric='euclidean')\n",
        "cutoff = 0.3*max(dend3[:,2])\n",
        "dend_res3 = sch.dendrogram(dend3, color_threshold=cutoff)\n",
        "ax3.set_xticklabels(label[dend_res3['leaves']], minor=False)\n",
        "\n",
        "plt.show()"
      ],
      "metadata": {
        "id": "cFKOb7rh-HhA"
      },
      "execution_count": null,
      "outputs": []
    },
    {
      "cell_type": "markdown",
      "source": [
        "**6. 군집분석 (20회)**\n",
        "\n",
        "(1) 5분간격의 가구별 전력 사용량의 데이터\n",
        "데이터 출처 : 자체생성\n",
        "데이터 경로 : /kaggle/input/adp-kr-p2/problem2.csv\n",
        "\n",
        "(2) 데이터 전처리\n",
        "각 가구의 15분간격의 전력량의 합을 구하고 해당데이터를 바탕으로 총 5개의 군집으로 군집화를 진행한 후 아래의 그림과 같은 형태로 출력하라.\n",
        "군집화를 위한 데이터 구성의 이유를 설명하라\n",
        "(군집 방식에 따라 Cluster컬럼의 값은 달라질수 있음)"
      ],
      "metadata": {
        "id": "HQGBDDSj-NNI"
      }
    },
    {
      "cell_type": "code",
      "source": [
        "import matplotlib.pyplot as plt\n",
        "ttt= pd.read_csv('/kaggle/input/adp-kr-p2/problem2.csv')\n",
        "tt = ttt.sort_values(['houseCode','date']).reset_index(drop=True)\n",
        "\n",
        "tt['date'] = pd.to_datetime(tt['date'])\n",
        "\n",
        "tg = tt.groupby(['houseCode']).resample('15min', on='date')['power consumption'].sum().reset_index()\n",
        "\n",
        "tg = tg.rename(columns= {'power consumption':'power consumption sum'})\n",
        "\n",
        "tgg = tg.copy()\n",
        "\n",
        "tgg['c'] =tgg['houseCode'].str[-2:].astype('int')\n",
        "tgg['d'] =tgg['date'].dt.hour\n",
        "tgg['e'] =tgg['date'].dt.day\n",
        "\n",
        "from sklearn.cluster import KMeans \n",
        "\n",
        "# k-means clustering 실행\n",
        "kmeans = KMeans(n_clusters=5)\n",
        "kmeans.fit(tgg.iloc[:,2:].values)\n",
        "\n",
        "tg['Cluster'] =kmeans.labels_\n",
        "\n",
        "tg"
      ],
      "metadata": {
        "id": "iSSsgQ1n-dif"
      },
      "execution_count": null,
      "outputs": []
    },
    {
      "cell_type": "markdown",
      "source": [
        "(3) (2)의 데이터를 바탕으로 각 군집의 요일, 15분간격별 전력사용량의 합을 구한 후 아래와 같이 시각화 하여라\n",
        "(수치는 동일하지 않을 수 있음 2-1의 데이터가 정확하게 아래와 같은 이미지로 변환 됐는지 주로 확인)"
      ],
      "metadata": {
        "id": "W6bDSRKf-ngr"
      }
    },
    {
      "cell_type": "code",
      "source": [
        "import seaborn as sns\n",
        "import matplotlib.pyplot as plt\n",
        "\n",
        "tg['day'] = tg.date.dt.day_name()\n",
        "\n",
        "tg['min'] = tg.date.dt.strftime('%H:%M')\n",
        "\n",
        "pv = tg.groupby(['Cluster','day','min'],as_index=False).sum()\n",
        "for v in range(5):\n",
        "    plt.figure(figsize=(20,3))\n",
        "    target = pv.loc[pv.Cluster==v]\n",
        "    pvt = target.pivot(index='day',columns='min',values='power consumption sum').reindex(['Sunday','Saturday','Friday','Thursday','Wednesday','Tuesday','Monday'])\n",
        "    plt.pcolor(pvt)\n",
        "    plt.title('Cluster'+str(v))\n",
        "    plt.xticks(range(len(pvt.columns)),pvt.columns,rotation=90)\n",
        "    plt.yticks(np.arange(len(pvt.index))+0.5,pvt.index)"
      ],
      "metadata": {
        "id": "Uaqb2xOK-q4Q"
      },
      "execution_count": null,
      "outputs": []
    }
  ]
}
