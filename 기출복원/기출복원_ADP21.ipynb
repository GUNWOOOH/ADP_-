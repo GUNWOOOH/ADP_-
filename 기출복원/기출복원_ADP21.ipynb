{
  "nbformat": 4,
  "nbformat_minor": 0,
  "metadata": {
    "colab": {
      "provenance": [],
      "authorship_tag": "ABX9TyM1UOb+FE8Id7+T+xQo1SVf",
      "include_colab_link": true
    },
    "kernelspec": {
      "name": "python3",
      "display_name": "Python 3"
    },
    "language_info": {
      "name": "python"
    }
  },
  "cells": [
    {
      "cell_type": "markdown",
      "metadata": {
        "id": "view-in-github",
        "colab_type": "text"
      },
      "source": [
        "<a href=\"https://colab.research.google.com/github/GUNWOOOH/ADP_Practice/blob/main/%EA%B8%B0%EC%B6%9C%EB%B3%B5%EC%9B%90/%EA%B8%B0%EC%B6%9C%EB%B3%B5%EC%9B%90_ADP21.ipynb\" target=\"_parent\"><img src=\"https://colab.research.google.com/assets/colab-badge.svg\" alt=\"Open In Colab\"/></a>"
      ]
    },
    {
      "cell_type": "markdown",
      "source": [
        "#1-1.  시각화 포함 탐색적 자료분석\n",
        "\n",
        "1-2. 결측치 식별하고 결측치를 예측하는 두 가지 방법 정도를 쓰고, 선택한 이유를 설명.(대충 채우라고 알아들음) \n",
        "\n",
        "1-3. 범주형 변수 인코딩이 필요한 경우를 식별하고, 변환을 적용하시오. 선택한 이유를 설명.\n",
        "\n",
        "1.4. 데이터 분할 방법을 2가지 쓰고 적절한 데이터 분할을 적용. 선택한 이유 설명.\n",
        "\n",
        "1.5. svm, xgboost, randomforest 3개의 알고리즘 공통점을 쓰고 이 예측 분석에 적합한 알고리즘인지 설명.\n",
        "\n",
        "1.6. 3모델 모두 모델링 해보고 가장 적합한 알고리즘 선택하고 이유 설명. 한계점 설명하고 보완 가능한 부분 설명. 현업에서 사용시 주의할 점 등에 대해 기술.\n",
        "\n",
        "​"
      ],
      "metadata": {
        "id": "RX6Pojpacy1_"
      }
    },
    {
      "cell_type": "code",
      "source": [],
      "metadata": {
        "id": "NGJmmc4EdBSY"
      },
      "execution_count": null,
      "outputs": []
    },
    {
      "cell_type": "markdown",
      "source": [
        "#2. 릿지 라쏘\n",
        "\n",
        "\n",
        "2. 연속형 독립변수 여러개의 소규모 데이터. 변수명은 순서대로 x1~x10 이라 의미 없음\n",
        "\n",
        "​\n",
        "\n",
        "2-1. 데이터 8:2로 분할하고 선형회귀 적용하시오. 결정계수와 rmse 구하시오\n",
        "\n",
        "​\n",
        "\n",
        "2-2. 데이터 8:2로 분할하고 릿지 회귀 적용하시오. alpha 값을 0부터 1까지 0.1단위로 모두 탐색해서 결정계수가 가장 높을때의 알파를 찾고, 해당 알파로 다시 모델을 학습해서 결정계수와 rmse를 계산\n",
        "\n",
        "​\n",
        "\n",
        "2-3. 라쏘 회귀로 2-2과 동일한 문제\n",
        "\n",
        "​\n",
        "\n",
        "3. 독립변수 하나 종속변수 하나 소규모 데이터.\n",
        "\n",
        "​"
      ],
      "metadata": {
        "id": "MCTKZLMDdHxK"
      }
    },
    {
      "cell_type": "code",
      "source": [],
      "metadata": {
        "id": "lc6RAvGhdNqJ"
      },
      "execution_count": null,
      "outputs": []
    },
    {
      "cell_type": "markdown",
      "source": [
        "#3. 3차 다항회귀\n",
        "\n",
        "독립변수 하나 종속변수 하나 소규모 데이터.\n",
        "\n",
        "\n",
        "다항 회귀를 3차까지 적용하고 각 차수별 데이터포인트 스캐터 플롯과 계수와 기울기 선을 그리라고 함(12점) . \n",
        "\n",
        "​"
      ],
      "metadata": {
        "id": "OgGD46B3dN-6"
      }
    },
    {
      "cell_type": "code",
      "source": [],
      "metadata": {
        "id": "bKukIaETdbbx"
      },
      "execution_count": null,
      "outputs": []
    },
    {
      "cell_type": "code",
      "source": [],
      "metadata": {
        "id": "FS108pP0dRa7"
      },
      "execution_count": null,
      "outputs": []
    },
    {
      "cell_type": "markdown",
      "source": [
        "4. 이원분산분석\n",
        "\n",
        "하나는 abcde 각각을 값으로 갖는 범주형 변수\n",
        "\n",
        "나머지 두 개는 수치형 연속변수\n",
        "\n",
        "​\n",
        "\n",
        "이원분산분석을 수행하고 통계표를 작성하시오."
      ],
      "metadata": {
        "id": "JGPOzrUedRwK"
      }
    }
  ]
}