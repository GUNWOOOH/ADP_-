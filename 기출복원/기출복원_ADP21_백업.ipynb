{
  "nbformat": 4,
  "nbformat_minor": 0,
  "metadata": {
    "colab": {
      "provenance": [],
      "authorship_tag": "ABX9TyPbu9KXezhaLGe9fUmPYtfP",
      "include_colab_link": true
    },
    "kernelspec": {
      "name": "python3",
      "display_name": "Python 3"
    },
    "language_info": {
      "name": "python"
    }
  },
  "cells": [
    {
      "cell_type": "markdown",
      "metadata": {
        "id": "view-in-github",
        "colab_type": "text"
      },
      "source": [
        "<a href=\"https://colab.research.google.com/github/GUNWOOOH/ADP_Practice/blob/main/%EA%B8%B0%EC%B6%9C%EB%B3%B5%EC%9B%90/%EA%B8%B0%EC%B6%9C%EB%B3%B5%EC%9B%90_ADP21_%EB%B0%B1%EC%97%85.ipynb\" target=\"_parent\"><img src=\"https://colab.research.google.com/assets/colab-badge.svg\" alt=\"Open In Colab\"/></a>"
      ]
    },
    {
      "cell_type": "markdown",
      "source": [
        "#1-1.  시각화 포함 탐색적 자료분석\n",
        "\n",
        "1-2. 결측치 식별하고 결측치를 예측하는 두 가지 방법 정도를 쓰고, 선택한 이유를 설명.(대충 채우라고 알아들음) \n",
        "\n",
        "1-3. 범주형 변수 인코딩이 필요한 경우를 식별하고, 변환을 적용하시오. 선택한 이유를 설명.\n",
        "\n",
        "1.4. 데이터 분할 방법을 2가지 쓰고 적절한 데이터 분할을 적용. 선택한 이유 설명.\n",
        "\n",
        "1.5. svm, xgboost, randomforest 3개의 알고리즘 공통점을 쓰고 이 예측 분석에 적합한 알고리즘인지 설명.\n",
        "\n",
        "1.6. 3모델 모두 모델링 해보고 가장 적합한 알고리즘 선택하고 이유 설명. 한계점 설명하고 보완 가능한 부분 설명. 현업에서 사용시 주의할 점 등에 대해 기술.\n",
        "\n",
        "​"
      ],
      "metadata": {
        "id": "RX6Pojpacy1_"
      }
    },
    {
      "cell_type": "code",
      "source": [
        "import numpy as np\n",
        "import pandas as pd\n",
        "import matplotlib.pyplot as plt\n",
        "%matplotlib inline\n",
        "import seaborn as sns\n",
        "sns.set_style('whitegrid')\n",
        "import statsmodels.api as sm\n",
        "from sklearn import metrics\n",
        "from sklearn.metrics import classification_report\n",
        "# load datasets for two subjects, Math and Portuguese\n",
        "mat = pd.read_csv(\"https://raw.githubusercontent.com/sarthak-srivastava/Student-Performance-Dataset/master/student-mat.csv\")\n",
        "por = pd.read_csv(\"https://raw.githubusercontent.com/sarthak-srivastava/Student-Performance-Dataset/master/student-por.csv\")"
      ],
      "metadata": {
        "id": "NGJmmc4EdBSY"
      },
      "execution_count": 1,
      "outputs": []
    },
    {
      "cell_type": "markdown",
      "source": [
        "# Attributes for both student-mat.csv (Math course) and student-por.csv (Portuguese language course) datasets:\n",
        "1 school - student's school (binary: \"GP\" - Gabriel Pereira or \"MS\" - Mousinho da Silveira)\n",
        "\n",
        "2 sex - student's sex (binary: \"F\" - female or \"M\" - male)\n",
        "\n",
        "3 age - student's age (numeric: from 15 to 22)\n",
        "\n",
        "4 address - student's home address type (binary: \"U\" - urban or \"R\" - rural)\n",
        "\n",
        "5 famsize - family size (binary: \"LE3\" - less or equal to 3 or \"GT3\" - greater than 3)\n",
        "\n",
        "6 Pstatus - parent's cohabitation status (binary: \"T\" - living together or \"A\" - apart)\n",
        "\n",
        "7 Medu - mother's education (numeric: 0 - none,  1 - primary education (4th grade), 2 – 5th to 9th grade, 3 – secondary education or 4 – higher education)\n",
        "\n",
        "8 Fedu - father's education (numeric: 0 - none,  1 - primary education (4th grade), 2 – 5th to 9th grade, 3 – secondary education or 4 – higher education)\n",
        "\n",
        "9 Mjob - mother's job (nominal: \"teacher\", \"health\" care related, civil \"services\" (e.g. administrative or police), \"at_home\" or \"other\")\n",
        "\n",
        "10 Fjob - father's job (nominal: \"teacher\", \"health\" care related, civil \"services\" (e.g. administrative or police), \"at_home\" or \"other\")\n",
        "\n",
        "11 reason - reason to choose this school (nominal: close to \"home\", school \"reputation\", \"course\" preference or \"other\")\n",
        "\n",
        "12 guardian - student's guardian (nominal: \"mother\", \"father\" or \"other\")\n",
        "\n",
        "13 traveltime - home to school travel time (numeric: 1 - <15 min., 2 - 15 to 30 min., 3 - 30 min. to 1 hour, or 4 - >1 hour)\n",
        "\n",
        "14 studytime - weekly study time (numeric: 1 - <2 hours, 2 - 2 to 5 hours, 3 - 5 to 10 hours, or 4 - >10 hours)\n",
        "\n",
        "15 failures - number of past class failures (numeric: n if 1<=n<3, else 4)\n",
        "\n",
        "16 schoolsup - extra educational support (binary: yes or no)\n",
        "\n",
        "17 famsup - family educational support (binary: yes or no)\n",
        "\n",
        "18 paid - extra paid classes within the course subject (Math or Portuguese) \n",
        "(binary: yes or no)\n",
        "\n",
        "19 activities - extra-curricular activities (binary: yes or no)\n",
        "\n",
        "20 nursery - attended nursery school (binary: yes or no)\n",
        "\n",
        "21 higher - wants to take higher education (binary: yes or no)\n",
        "\n",
        "22 internet - Internet access at home (binary: yes or no)\n",
        "\n",
        "23 romantic - with a romantic relationship (binary: yes or no)\n",
        "\n",
        "24 famrel - quality of family relationships (numeric: from 1 - very bad to 5 - excellent)\n",
        "\n",
        "25 freetime - free time after school (numeric: from 1 - very low to 5 - very high)\n",
        "\n",
        "26 goout - going out with friends (numeric: from 1 - very low to 5 - very high)\n",
        "\n",
        "27 Dalc - workday alcohol consumption (numeric: from 1 - very low to 5 - very high)\n",
        "\n",
        "28 Walc - weekend alcohol consumption (numeric: from 1 - very low to 5 - very high)\n",
        "\n",
        "29 health - current health status (numeric: from 1 - very bad to 5 - very good)\n",
        "\n",
        "30 absences - number of school absences (numeric: from 0 to 93)\n",
        "\n",
        "# these grades are related with the course subject, Math or Portuguese:\n",
        "31 G1 - first period grade (numeric: from 0 to 20)\n",
        "\n",
        "31 G2 - second period grade (numeric: from 0 to 20)\n",
        "\n",
        "32 G3 - final grade (numeric: from 0 to 20, output target)\n",
        "\n",
        "\n",
        "Additional note: there are several (382) students that belong to both datasets . \n",
        "These students can be identified by searching for identical attributes\n",
        "that characterize each student, as shown in the annexed R file.\n"
      ],
      "metadata": {
        "id": "l_GKE9aQQnPx"
      }
    },
    {
      "cell_type": "code",
      "source": [
        "# merge datasets\n",
        "df = pd.concat([mat,por])\n",
        "df.head()"
      ],
      "metadata": {
        "colab": {
          "base_uri": "https://localhost:8080/",
          "height": 300
        },
        "id": "sGbmOC81QQbh",
        "outputId": "bffbffee-09e0-4dfd-c989-abe559e29c94"
      },
      "execution_count": 3,
      "outputs": [
        {
          "output_type": "execute_result",
          "data": {
            "text/plain": [
              "  school sex  age address famsize Pstatus  Medu  Fedu     Mjob      Fjob  ...  \\\n",
              "0     GP   F   18       U     GT3       A     4     4  at_home   teacher  ...   \n",
              "1     GP   F   17       U     GT3       T     1     1  at_home     other  ...   \n",
              "2     GP   F   15       U     LE3       T     1     1  at_home     other  ...   \n",
              "3     GP   F   15       U     GT3       T     4     2   health  services  ...   \n",
              "4     GP   F   16       U     GT3       T     3     3    other     other  ...   \n",
              "\n",
              "  famrel freetime  goout  Dalc  Walc health absences  G1  G2  G3  \n",
              "0      4        3      4     1     1      3        6   5   6   6  \n",
              "1      5        3      3     1     1      3        4   5   5   6  \n",
              "2      4        3      2     2     3      3       10   7   8  10  \n",
              "3      3        2      2     1     1      5        2  15  14  15  \n",
              "4      4        3      2     1     2      5        4   6  10  10  \n",
              "\n",
              "[5 rows x 33 columns]"
            ],
            "text/html": [
              "\n",
              "  <div id=\"df-f647eec6-d52d-4002-9105-5bbd0af0075f\">\n",
              "    <div class=\"colab-df-container\">\n",
              "      <div>\n",
              "<style scoped>\n",
              "    .dataframe tbody tr th:only-of-type {\n",
              "        vertical-align: middle;\n",
              "    }\n",
              "\n",
              "    .dataframe tbody tr th {\n",
              "        vertical-align: top;\n",
              "    }\n",
              "\n",
              "    .dataframe thead th {\n",
              "        text-align: right;\n",
              "    }\n",
              "</style>\n",
              "<table border=\"1\" class=\"dataframe\">\n",
              "  <thead>\n",
              "    <tr style=\"text-align: right;\">\n",
              "      <th></th>\n",
              "      <th>school</th>\n",
              "      <th>sex</th>\n",
              "      <th>age</th>\n",
              "      <th>address</th>\n",
              "      <th>famsize</th>\n",
              "      <th>Pstatus</th>\n",
              "      <th>Medu</th>\n",
              "      <th>Fedu</th>\n",
              "      <th>Mjob</th>\n",
              "      <th>Fjob</th>\n",
              "      <th>...</th>\n",
              "      <th>famrel</th>\n",
              "      <th>freetime</th>\n",
              "      <th>goout</th>\n",
              "      <th>Dalc</th>\n",
              "      <th>Walc</th>\n",
              "      <th>health</th>\n",
              "      <th>absences</th>\n",
              "      <th>G1</th>\n",
              "      <th>G2</th>\n",
              "      <th>G3</th>\n",
              "    </tr>\n",
              "  </thead>\n",
              "  <tbody>\n",
              "    <tr>\n",
              "      <th>0</th>\n",
              "      <td>GP</td>\n",
              "      <td>F</td>\n",
              "      <td>18</td>\n",
              "      <td>U</td>\n",
              "      <td>GT3</td>\n",
              "      <td>A</td>\n",
              "      <td>4</td>\n",
              "      <td>4</td>\n",
              "      <td>at_home</td>\n",
              "      <td>teacher</td>\n",
              "      <td>...</td>\n",
              "      <td>4</td>\n",
              "      <td>3</td>\n",
              "      <td>4</td>\n",
              "      <td>1</td>\n",
              "      <td>1</td>\n",
              "      <td>3</td>\n",
              "      <td>6</td>\n",
              "      <td>5</td>\n",
              "      <td>6</td>\n",
              "      <td>6</td>\n",
              "    </tr>\n",
              "    <tr>\n",
              "      <th>1</th>\n",
              "      <td>GP</td>\n",
              "      <td>F</td>\n",
              "      <td>17</td>\n",
              "      <td>U</td>\n",
              "      <td>GT3</td>\n",
              "      <td>T</td>\n",
              "      <td>1</td>\n",
              "      <td>1</td>\n",
              "      <td>at_home</td>\n",
              "      <td>other</td>\n",
              "      <td>...</td>\n",
              "      <td>5</td>\n",
              "      <td>3</td>\n",
              "      <td>3</td>\n",
              "      <td>1</td>\n",
              "      <td>1</td>\n",
              "      <td>3</td>\n",
              "      <td>4</td>\n",
              "      <td>5</td>\n",
              "      <td>5</td>\n",
              "      <td>6</td>\n",
              "    </tr>\n",
              "    <tr>\n",
              "      <th>2</th>\n",
              "      <td>GP</td>\n",
              "      <td>F</td>\n",
              "      <td>15</td>\n",
              "      <td>U</td>\n",
              "      <td>LE3</td>\n",
              "      <td>T</td>\n",
              "      <td>1</td>\n",
              "      <td>1</td>\n",
              "      <td>at_home</td>\n",
              "      <td>other</td>\n",
              "      <td>...</td>\n",
              "      <td>4</td>\n",
              "      <td>3</td>\n",
              "      <td>2</td>\n",
              "      <td>2</td>\n",
              "      <td>3</td>\n",
              "      <td>3</td>\n",
              "      <td>10</td>\n",
              "      <td>7</td>\n",
              "      <td>8</td>\n",
              "      <td>10</td>\n",
              "    </tr>\n",
              "    <tr>\n",
              "      <th>3</th>\n",
              "      <td>GP</td>\n",
              "      <td>F</td>\n",
              "      <td>15</td>\n",
              "      <td>U</td>\n",
              "      <td>GT3</td>\n",
              "      <td>T</td>\n",
              "      <td>4</td>\n",
              "      <td>2</td>\n",
              "      <td>health</td>\n",
              "      <td>services</td>\n",
              "      <td>...</td>\n",
              "      <td>3</td>\n",
              "      <td>2</td>\n",
              "      <td>2</td>\n",
              "      <td>1</td>\n",
              "      <td>1</td>\n",
              "      <td>5</td>\n",
              "      <td>2</td>\n",
              "      <td>15</td>\n",
              "      <td>14</td>\n",
              "      <td>15</td>\n",
              "    </tr>\n",
              "    <tr>\n",
              "      <th>4</th>\n",
              "      <td>GP</td>\n",
              "      <td>F</td>\n",
              "      <td>16</td>\n",
              "      <td>U</td>\n",
              "      <td>GT3</td>\n",
              "      <td>T</td>\n",
              "      <td>3</td>\n",
              "      <td>3</td>\n",
              "      <td>other</td>\n",
              "      <td>other</td>\n",
              "      <td>...</td>\n",
              "      <td>4</td>\n",
              "      <td>3</td>\n",
              "      <td>2</td>\n",
              "      <td>1</td>\n",
              "      <td>2</td>\n",
              "      <td>5</td>\n",
              "      <td>4</td>\n",
              "      <td>6</td>\n",
              "      <td>10</td>\n",
              "      <td>10</td>\n",
              "    </tr>\n",
              "  </tbody>\n",
              "</table>\n",
              "<p>5 rows × 33 columns</p>\n",
              "</div>\n",
              "      <button class=\"colab-df-convert\" onclick=\"convertToInteractive('df-f647eec6-d52d-4002-9105-5bbd0af0075f')\"\n",
              "              title=\"Convert this dataframe to an interactive table.\"\n",
              "              style=\"display:none;\">\n",
              "        \n",
              "  <svg xmlns=\"http://www.w3.org/2000/svg\" height=\"24px\"viewBox=\"0 0 24 24\"\n",
              "       width=\"24px\">\n",
              "    <path d=\"M0 0h24v24H0V0z\" fill=\"none\"/>\n",
              "    <path d=\"M18.56 5.44l.94 2.06.94-2.06 2.06-.94-2.06-.94-.94-2.06-.94 2.06-2.06.94zm-11 1L8.5 8.5l.94-2.06 2.06-.94-2.06-.94L8.5 2.5l-.94 2.06-2.06.94zm10 10l.94 2.06.94-2.06 2.06-.94-2.06-.94-.94-2.06-.94 2.06-2.06.94z\"/><path d=\"M17.41 7.96l-1.37-1.37c-.4-.4-.92-.59-1.43-.59-.52 0-1.04.2-1.43.59L10.3 9.45l-7.72 7.72c-.78.78-.78 2.05 0 2.83L4 21.41c.39.39.9.59 1.41.59.51 0 1.02-.2 1.41-.59l7.78-7.78 2.81-2.81c.8-.78.8-2.07 0-2.86zM5.41 20L4 18.59l7.72-7.72 1.47 1.35L5.41 20z\"/>\n",
              "  </svg>\n",
              "      </button>\n",
              "      \n",
              "  <style>\n",
              "    .colab-df-container {\n",
              "      display:flex;\n",
              "      flex-wrap:wrap;\n",
              "      gap: 12px;\n",
              "    }\n",
              "\n",
              "    .colab-df-convert {\n",
              "      background-color: #E8F0FE;\n",
              "      border: none;\n",
              "      border-radius: 50%;\n",
              "      cursor: pointer;\n",
              "      display: none;\n",
              "      fill: #1967D2;\n",
              "      height: 32px;\n",
              "      padding: 0 0 0 0;\n",
              "      width: 32px;\n",
              "    }\n",
              "\n",
              "    .colab-df-convert:hover {\n",
              "      background-color: #E2EBFA;\n",
              "      box-shadow: 0px 1px 2px rgba(60, 64, 67, 0.3), 0px 1px 3px 1px rgba(60, 64, 67, 0.15);\n",
              "      fill: #174EA6;\n",
              "    }\n",
              "\n",
              "    [theme=dark] .colab-df-convert {\n",
              "      background-color: #3B4455;\n",
              "      fill: #D2E3FC;\n",
              "    }\n",
              "\n",
              "    [theme=dark] .colab-df-convert:hover {\n",
              "      background-color: #434B5C;\n",
              "      box-shadow: 0px 1px 3px 1px rgba(0, 0, 0, 0.15);\n",
              "      filter: drop-shadow(0px 1px 2px rgba(0, 0, 0, 0.3));\n",
              "      fill: #FFFFFF;\n",
              "    }\n",
              "  </style>\n",
              "\n",
              "      <script>\n",
              "        const buttonEl =\n",
              "          document.querySelector('#df-f647eec6-d52d-4002-9105-5bbd0af0075f button.colab-df-convert');\n",
              "        buttonEl.style.display =\n",
              "          google.colab.kernel.accessAllowed ? 'block' : 'none';\n",
              "\n",
              "        async function convertToInteractive(key) {\n",
              "          const element = document.querySelector('#df-f647eec6-d52d-4002-9105-5bbd0af0075f');\n",
              "          const dataTable =\n",
              "            await google.colab.kernel.invokeFunction('convertToInteractive',\n",
              "                                                     [key], {});\n",
              "          if (!dataTable) return;\n",
              "\n",
              "          const docLinkHtml = 'Like what you see? Visit the ' +\n",
              "            '<a target=\"_blank\" href=https://colab.research.google.com/notebooks/data_table.ipynb>data table notebook</a>'\n",
              "            + ' to learn more about interactive tables.';\n",
              "          element.innerHTML = '';\n",
              "          dataTable['output_type'] = 'display_data';\n",
              "          await google.colab.output.renderOutput(dataTable, element);\n",
              "          const docLink = document.createElement('div');\n",
              "          docLink.innerHTML = docLinkHtml;\n",
              "          element.appendChild(docLink);\n",
              "        }\n",
              "      </script>\n",
              "    </div>\n",
              "  </div>\n",
              "  "
            ]
          },
          "metadata": {},
          "execution_count": 3
        }
      ]
    },
    {
      "cell_type": "code",
      "source": [
        "df['grade_sum'] = df['G1'] + df['G2'] + df['G3']\n",
        "df['final_grade'] = 'na'\n",
        "df.loc[(df.grade_sum > 30) & (df.grade_sum <= 60), 'final_grade'] = 1 \n",
        "df.loc[(df.grade_sum > 0) & (df.grade_sum <= 30), 'final_grade'] = 0\n",
        "df.head(5)"
      ],
      "metadata": {
        "colab": {
          "base_uri": "https://localhost:8080/",
          "height": 300
        },
        "id": "PLdGHLZonH6k",
        "outputId": "75f1c434-4919-4a58-83cb-63c0a6feef89"
      },
      "execution_count": 85,
      "outputs": [
        {
          "output_type": "execute_result",
          "data": {
            "text/plain": [
              "  school sex  age address famsize Pstatus  Medu  Fedu     Mjob      Fjob  ...  \\\n",
              "0     GP   F   18       U     GT3       A     4     4  at_home   teacher  ...   \n",
              "1     GP   F   17       U     GT3       T     1     1  at_home     other  ...   \n",
              "2     GP   F   15       U     LE3       T     1     1  at_home     other  ...   \n",
              "3     GP   F   15       U     GT3       T     4     2   health  services  ...   \n",
              "4     GP   F   16       U     GT3       T     3     3    other     other  ...   \n",
              "\n",
              "  goout Dalc  Walc  health  absences  G1  G2  G3 grade_sum final_grade  \n",
              "0     4    1     1       3         6   5   6   6        17           0  \n",
              "1     3    1     1       3         4   5   5   6        16           0  \n",
              "2     2    2     3       3        10   7   8  10        25           0  \n",
              "3     2    1     1       5         2  15  14  15        44           1  \n",
              "4     2    1     2       5         4   6  10  10        26           0  \n",
              "\n",
              "[5 rows x 35 columns]"
            ],
            "text/html": [
              "\n",
              "  <div id=\"df-0ad95e8d-0a16-4893-bd70-5ab06b1385d8\">\n",
              "    <div class=\"colab-df-container\">\n",
              "      <div>\n",
              "<style scoped>\n",
              "    .dataframe tbody tr th:only-of-type {\n",
              "        vertical-align: middle;\n",
              "    }\n",
              "\n",
              "    .dataframe tbody tr th {\n",
              "        vertical-align: top;\n",
              "    }\n",
              "\n",
              "    .dataframe thead th {\n",
              "        text-align: right;\n",
              "    }\n",
              "</style>\n",
              "<table border=\"1\" class=\"dataframe\">\n",
              "  <thead>\n",
              "    <tr style=\"text-align: right;\">\n",
              "      <th></th>\n",
              "      <th>school</th>\n",
              "      <th>sex</th>\n",
              "      <th>age</th>\n",
              "      <th>address</th>\n",
              "      <th>famsize</th>\n",
              "      <th>Pstatus</th>\n",
              "      <th>Medu</th>\n",
              "      <th>Fedu</th>\n",
              "      <th>Mjob</th>\n",
              "      <th>Fjob</th>\n",
              "      <th>...</th>\n",
              "      <th>goout</th>\n",
              "      <th>Dalc</th>\n",
              "      <th>Walc</th>\n",
              "      <th>health</th>\n",
              "      <th>absences</th>\n",
              "      <th>G1</th>\n",
              "      <th>G2</th>\n",
              "      <th>G3</th>\n",
              "      <th>grade_sum</th>\n",
              "      <th>final_grade</th>\n",
              "    </tr>\n",
              "  </thead>\n",
              "  <tbody>\n",
              "    <tr>\n",
              "      <th>0</th>\n",
              "      <td>GP</td>\n",
              "      <td>F</td>\n",
              "      <td>18</td>\n",
              "      <td>U</td>\n",
              "      <td>GT3</td>\n",
              "      <td>A</td>\n",
              "      <td>4</td>\n",
              "      <td>4</td>\n",
              "      <td>at_home</td>\n",
              "      <td>teacher</td>\n",
              "      <td>...</td>\n",
              "      <td>4</td>\n",
              "      <td>1</td>\n",
              "      <td>1</td>\n",
              "      <td>3</td>\n",
              "      <td>6</td>\n",
              "      <td>5</td>\n",
              "      <td>6</td>\n",
              "      <td>6</td>\n",
              "      <td>17</td>\n",
              "      <td>0</td>\n",
              "    </tr>\n",
              "    <tr>\n",
              "      <th>1</th>\n",
              "      <td>GP</td>\n",
              "      <td>F</td>\n",
              "      <td>17</td>\n",
              "      <td>U</td>\n",
              "      <td>GT3</td>\n",
              "      <td>T</td>\n",
              "      <td>1</td>\n",
              "      <td>1</td>\n",
              "      <td>at_home</td>\n",
              "      <td>other</td>\n",
              "      <td>...</td>\n",
              "      <td>3</td>\n",
              "      <td>1</td>\n",
              "      <td>1</td>\n",
              "      <td>3</td>\n",
              "      <td>4</td>\n",
              "      <td>5</td>\n",
              "      <td>5</td>\n",
              "      <td>6</td>\n",
              "      <td>16</td>\n",
              "      <td>0</td>\n",
              "    </tr>\n",
              "    <tr>\n",
              "      <th>2</th>\n",
              "      <td>GP</td>\n",
              "      <td>F</td>\n",
              "      <td>15</td>\n",
              "      <td>U</td>\n",
              "      <td>LE3</td>\n",
              "      <td>T</td>\n",
              "      <td>1</td>\n",
              "      <td>1</td>\n",
              "      <td>at_home</td>\n",
              "      <td>other</td>\n",
              "      <td>...</td>\n",
              "      <td>2</td>\n",
              "      <td>2</td>\n",
              "      <td>3</td>\n",
              "      <td>3</td>\n",
              "      <td>10</td>\n",
              "      <td>7</td>\n",
              "      <td>8</td>\n",
              "      <td>10</td>\n",
              "      <td>25</td>\n",
              "      <td>0</td>\n",
              "    </tr>\n",
              "    <tr>\n",
              "      <th>3</th>\n",
              "      <td>GP</td>\n",
              "      <td>F</td>\n",
              "      <td>15</td>\n",
              "      <td>U</td>\n",
              "      <td>GT3</td>\n",
              "      <td>T</td>\n",
              "      <td>4</td>\n",
              "      <td>2</td>\n",
              "      <td>health</td>\n",
              "      <td>services</td>\n",
              "      <td>...</td>\n",
              "      <td>2</td>\n",
              "      <td>1</td>\n",
              "      <td>1</td>\n",
              "      <td>5</td>\n",
              "      <td>2</td>\n",
              "      <td>15</td>\n",
              "      <td>14</td>\n",
              "      <td>15</td>\n",
              "      <td>44</td>\n",
              "      <td>1</td>\n",
              "    </tr>\n",
              "    <tr>\n",
              "      <th>4</th>\n",
              "      <td>GP</td>\n",
              "      <td>F</td>\n",
              "      <td>16</td>\n",
              "      <td>U</td>\n",
              "      <td>GT3</td>\n",
              "      <td>T</td>\n",
              "      <td>3</td>\n",
              "      <td>3</td>\n",
              "      <td>other</td>\n",
              "      <td>other</td>\n",
              "      <td>...</td>\n",
              "      <td>2</td>\n",
              "      <td>1</td>\n",
              "      <td>2</td>\n",
              "      <td>5</td>\n",
              "      <td>4</td>\n",
              "      <td>6</td>\n",
              "      <td>10</td>\n",
              "      <td>10</td>\n",
              "      <td>26</td>\n",
              "      <td>0</td>\n",
              "    </tr>\n",
              "  </tbody>\n",
              "</table>\n",
              "<p>5 rows × 35 columns</p>\n",
              "</div>\n",
              "      <button class=\"colab-df-convert\" onclick=\"convertToInteractive('df-0ad95e8d-0a16-4893-bd70-5ab06b1385d8')\"\n",
              "              title=\"Convert this dataframe to an interactive table.\"\n",
              "              style=\"display:none;\">\n",
              "        \n",
              "  <svg xmlns=\"http://www.w3.org/2000/svg\" height=\"24px\"viewBox=\"0 0 24 24\"\n",
              "       width=\"24px\">\n",
              "    <path d=\"M0 0h24v24H0V0z\" fill=\"none\"/>\n",
              "    <path d=\"M18.56 5.44l.94 2.06.94-2.06 2.06-.94-2.06-.94-.94-2.06-.94 2.06-2.06.94zm-11 1L8.5 8.5l.94-2.06 2.06-.94-2.06-.94L8.5 2.5l-.94 2.06-2.06.94zm10 10l.94 2.06.94-2.06 2.06-.94-2.06-.94-.94-2.06-.94 2.06-2.06.94z\"/><path d=\"M17.41 7.96l-1.37-1.37c-.4-.4-.92-.59-1.43-.59-.52 0-1.04.2-1.43.59L10.3 9.45l-7.72 7.72c-.78.78-.78 2.05 0 2.83L4 21.41c.39.39.9.59 1.41.59.51 0 1.02-.2 1.41-.59l7.78-7.78 2.81-2.81c.8-.78.8-2.07 0-2.86zM5.41 20L4 18.59l7.72-7.72 1.47 1.35L5.41 20z\"/>\n",
              "  </svg>\n",
              "      </button>\n",
              "      \n",
              "  <style>\n",
              "    .colab-df-container {\n",
              "      display:flex;\n",
              "      flex-wrap:wrap;\n",
              "      gap: 12px;\n",
              "    }\n",
              "\n",
              "    .colab-df-convert {\n",
              "      background-color: #E8F0FE;\n",
              "      border: none;\n",
              "      border-radius: 50%;\n",
              "      cursor: pointer;\n",
              "      display: none;\n",
              "      fill: #1967D2;\n",
              "      height: 32px;\n",
              "      padding: 0 0 0 0;\n",
              "      width: 32px;\n",
              "    }\n",
              "\n",
              "    .colab-df-convert:hover {\n",
              "      background-color: #E2EBFA;\n",
              "      box-shadow: 0px 1px 2px rgba(60, 64, 67, 0.3), 0px 1px 3px 1px rgba(60, 64, 67, 0.15);\n",
              "      fill: #174EA6;\n",
              "    }\n",
              "\n",
              "    [theme=dark] .colab-df-convert {\n",
              "      background-color: #3B4455;\n",
              "      fill: #D2E3FC;\n",
              "    }\n",
              "\n",
              "    [theme=dark] .colab-df-convert:hover {\n",
              "      background-color: #434B5C;\n",
              "      box-shadow: 0px 1px 3px 1px rgba(0, 0, 0, 0.15);\n",
              "      filter: drop-shadow(0px 1px 2px rgba(0, 0, 0, 0.3));\n",
              "      fill: #FFFFFF;\n",
              "    }\n",
              "  </style>\n",
              "\n",
              "      <script>\n",
              "        const buttonEl =\n",
              "          document.querySelector('#df-0ad95e8d-0a16-4893-bd70-5ab06b1385d8 button.colab-df-convert');\n",
              "        buttonEl.style.display =\n",
              "          google.colab.kernel.accessAllowed ? 'block' : 'none';\n",
              "\n",
              "        async function convertToInteractive(key) {\n",
              "          const element = document.querySelector('#df-0ad95e8d-0a16-4893-bd70-5ab06b1385d8');\n",
              "          const dataTable =\n",
              "            await google.colab.kernel.invokeFunction('convertToInteractive',\n",
              "                                                     [key], {});\n",
              "          if (!dataTable) return;\n",
              "\n",
              "          const docLinkHtml = 'Like what you see? Visit the ' +\n",
              "            '<a target=\"_blank\" href=https://colab.research.google.com/notebooks/data_table.ipynb>data table notebook</a>'\n",
              "            + ' to learn more about interactive tables.';\n",
              "          element.innerHTML = '';\n",
              "          dataTable['output_type'] = 'display_data';\n",
              "          await google.colab.output.renderOutput(dataTable, element);\n",
              "          const docLink = document.createElement('div');\n",
              "          docLink.innerHTML = docLinkHtml;\n",
              "          element.appendChild(docLink);\n",
              "        }\n",
              "      </script>\n",
              "    </div>\n",
              "  </div>\n",
              "  "
            ]
          },
          "metadata": {},
          "execution_count": 85
        }
      ]
    },
    {
      "cell_type": "code",
      "source": [
        "df['final_grade'] = df['final_grade'].astype(dtype='category')\n",
        "df.info()\n"
      ],
      "metadata": {
        "colab": {
          "base_uri": "https://localhost:8080/"
        },
        "id": "8_tyvTFHQTCM",
        "outputId": "542d0a3f-9cb7-4d99-96b0-e611724e4141"
      },
      "execution_count": 90,
      "outputs": [
        {
          "output_type": "stream",
          "name": "stdout",
          "text": [
            "<class 'pandas.core.frame.DataFrame'>\n",
            "Int64Index: 1044 entries, 0 to 648\n",
            "Data columns (total 35 columns):\n",
            " #   Column       Non-Null Count  Dtype   \n",
            "---  ------       --------------  -----   \n",
            " 0   school       1044 non-null   object  \n",
            " 1   sex          1044 non-null   object  \n",
            " 2   age          1044 non-null   int64   \n",
            " 3   address      1044 non-null   object  \n",
            " 4   famsize      1044 non-null   object  \n",
            " 5   Pstatus      1044 non-null   object  \n",
            " 6   Medu         1044 non-null   int64   \n",
            " 7   Fedu         1044 non-null   int64   \n",
            " 8   Mjob         1044 non-null   object  \n",
            " 9   Fjob         1044 non-null   object  \n",
            " 10  reason       1044 non-null   object  \n",
            " 11  guardian     1044 non-null   object  \n",
            " 12  traveltime   1044 non-null   int64   \n",
            " 13  studytime    1044 non-null   int64   \n",
            " 14  failures     1044 non-null   int64   \n",
            " 15  schoolsup    1044 non-null   object  \n",
            " 16  famsup       1044 non-null   object  \n",
            " 17  paid         1044 non-null   object  \n",
            " 18  activities   1044 non-null   object  \n",
            " 19  nursery      1044 non-null   object  \n",
            " 20  higher       1044 non-null   object  \n",
            " 21  internet     1044 non-null   object  \n",
            " 22  romantic     1044 non-null   object  \n",
            " 23  famrel       1044 non-null   int64   \n",
            " 24  freetime     1044 non-null   int64   \n",
            " 25  goout        1044 non-null   int64   \n",
            " 26  Dalc         1044 non-null   int64   \n",
            " 27  Walc         1044 non-null   int64   \n",
            " 28  health       1044 non-null   int64   \n",
            " 29  absences     1044 non-null   int64   \n",
            " 30  G1           1044 non-null   int64   \n",
            " 31  G2           1044 non-null   int64   \n",
            " 32  G3           1044 non-null   int64   \n",
            " 33  grade_sum    1044 non-null   int64   \n",
            " 34  final_grade  1044 non-null   category\n",
            "dtypes: category(1), int64(17), object(17)\n",
            "memory usage: 286.6+ KB\n"
          ]
        }
      ]
    },
    {
      "cell_type": "code",
      "source": [
        "df.isnull().sum()"
      ],
      "metadata": {
        "id": "mp1ankP7XrCL"
      },
      "execution_count": null,
      "outputs": []
    },
    {
      "cell_type": "markdown",
      "source": [
        "1-2. 결측치 식별하고 결측치를 예측하는 두 가지 방법 정도를 쓰고, 선택한 이유를 설명.(대충 채우라고 알아들음) \n"
      ],
      "metadata": {
        "id": "pZT5M0xLQRdH"
      }
    },
    {
      "cell_type": "code",
      "source": [
        "#결측치 행 제거\n",
        "df = df.dropna(axis = 0)\n",
        "#결측치 포함 열 제거\n",
        "df = df.dropna(axis = 1)\n",
        "#0으로 채우기\n",
        "df = df.fillna(0)\n",
        "#위에서 아래 방향으로 채우기(시계열)\n",
        "df = df.fillna(method='ffill') \n",
        "#컬럼별 mean으로 채우기\n",
        "df = df.fillna(df.mean())"
      ],
      "metadata": {
        "id": "TH_z1A6ZS78H"
      },
      "execution_count": null,
      "outputs": []
    },
    {
      "cell_type": "markdown",
      "source": [
        "1-3. 범주형 변수 인코딩이 필요한 경우를 식별하고, 변환을 적용하시오. 선택한 이유를 설명."
      ],
      "metadata": {
        "id": "FP88tqmoXkhd"
      }
    },
    {
      "cell_type": "code",
      "source": [
        "all_columns = df.columns.tolist()\n",
        "y_col = ['final_grade']\n",
        "no_use_col = ['G1','G2','G3','grade_sum']\n",
        "num_columns = df._get_numeric_data().columns.tolist()\n",
        "cat_columns = list(set(all_columns) - set(num_columns))\n",
        "X_col = list(set(all_columns) - set(y_col) - set(no_use_col))\n",
        "# nom_* 변수는 고유값의 수가 많으므로 개수만 출력해보자\n",
        "for ind, col in enumerate(df[cat_columns]):\n",
        "    print(col, '의 고유값 개수는: ', df[col].nunique())"
      ],
      "metadata": {
        "colab": {
          "base_uri": "https://localhost:8080/"
        },
        "id": "dOPddYKPX0Ie",
        "outputId": "b134cc2e-1239-4ae0-c024-df8daffdd07f"
      },
      "execution_count": 92,
      "outputs": [
        {
          "output_type": "stream",
          "name": "stdout",
          "text": [
            "schoolsup 의 고유값 개수는:  2\n",
            "Mjob 의 고유값 개수는:  5\n",
            "activities 의 고유값 개수는:  2\n",
            "internet 의 고유값 개수는:  2\n",
            "school 의 고유값 개수는:  2\n",
            "Fjob 의 고유값 개수는:  5\n",
            "paid 의 고유값 개수는:  2\n",
            "final_grade 의 고유값 개수는:  2\n",
            "romantic 의 고유값 개수는:  2\n",
            "sex 의 고유값 개수는:  2\n",
            "higher 의 고유값 개수는:  2\n",
            "guardian 의 고유값 개수는:  3\n",
            "reason 의 고유값 개수는:  4\n",
            "famsup 의 고유값 개수는:  2\n",
            "address 의 고유값 개수는:  2\n",
            "famsize 의 고유값 개수는:  2\n",
            "Pstatus 의 고유값 개수는:  2\n",
            "nursery 의 고유값 개수는:  2\n"
          ]
        }
      ]
    },
    {
      "cell_type": "code",
      "source": [
        "def bar_chart(feature):\n",
        "  good = df[df['final_grade'] == '1'][feature].value_counts()\n",
        "  bed = df[df['final_grade'] == '0'][feature].value_counts()\n",
        "  df1 = pd.DataFrame([good,bed])\n",
        "  df1.index = ['1','0']\n",
        "  df1.plot(kind='bar',stacked = True, figsize= (10,5), title = feature)"
      ],
      "metadata": {
        "id": "l1CztPXOk6wW"
      },
      "execution_count": 29,
      "outputs": []
    },
    {
      "cell_type": "code",
      "source": [
        "for i in cat_columns:\n",
        "  bar_chart(i)"
      ],
      "metadata": {
        "id": "m4_QYTsKlgaP"
      },
      "execution_count": null,
      "outputs": []
    },
    {
      "cell_type": "code",
      "source": [
        "h = df[num_columns].hist(figsize=(12, 12))\n",
        "#구간이 딱딱 나뉘어져있는 변수들은 범주형변수로 인코딩을 고려할 수 있다."
      ],
      "metadata": {
        "colab": {
          "base_uri": "https://localhost:8080/",
          "height": 828
        },
        "id": "J7AMDLhaqpwR",
        "outputId": "4a1ae90f-d8a1-4b90-b30b-ded293e975e2"
      },
      "execution_count": 34,
      "outputs": [
        {
          "output_type": "display_data",
          "data": {
            "text/plain": [
              "<Figure size 1200x1200 with 20 Axes>"
            ],
            "image/png": "[encoded data removed]"
          },
          "metadata": {}
        }
      ]
    },
    {
      "cell_type": "markdown",
      "source": [
        "1.4. 데이터 분할 방법을 2가지 쓰고 적절한 데이터 분할을 적용. 선택한 이유 설명.\n",
        "\n",
        "가. 부트스트랩\n",
        "  -  모집단에서 추출한 표본에 대해서 또 다시 재표본을 여러번 추출하여 모델을 평가하거나 데이터의 분포를 파악하는 재표본 추출방법이다. 샘플링을 할 때는 단순랜덤 복원 추출법을 사용하여 동일한 크기의 표본을 여러개 생성하므로, 특정 데이터가 여러 샘플에 포함될 수도 있고 혹은 어떠한 샘플에도 포함되지 않을수도 있다.\n",
        "\n",
        "나. 일반적인 데이터 분할 및 홀드아웃방법\n",
        "  - 일반적으로 데이터 분할은 train data(70%), test data(30%)로 비율에 따라 랜덤으로 데이터를 분할한다.\n",
        "\n",
        "다. K-fold 교차분석 (k-fold cross validation)\n",
        "  - 데이터를 k개의 집단으로 나눈 뒤 k-1개의 집단으로 분류기를 학습시키고, 나머지 1개의 집단으로 분류기의 성능을 테스트하는 방법이다. 이 과정을 k번 반복하여 모든 데이터가 학습과 검증에 사용될 수 있도록 하고, 최종적으로 k번의 테스트를 통해 얻은 MSE(평균제곱오차)값들의 평균을 해당 모델의 MSE값으로 사용한다."
      ],
      "metadata": {
        "id": "N8-Tz8Jurk6-"
      }
    },
    {
      "cell_type": "code",
      "source": [
        "#부트스트랩\n",
        "train_samp = df.sample(frac = 0.7)\n",
        "\n",
        "#일반적인 데이터 분할\n",
        "from sklearn.model_selection import train_test_split\n",
        "X = df[X_col]\n",
        "y = df[y_col]\n",
        "X_train, X_test, y_train, y_test = train_test_split(X,y,test_size = 0.3, random_state=42)\n",
        "\n",
        "#K-fold \n",
        "from sklearn.model_selection import KFold\n",
        "X = df[X_col]\n",
        "y = df[y_col]\n",
        "\n",
        "# split 개수, 셔플 여부 및 seed 설정\n",
        "kf = KFold(n_splits = 5, shuffle = True, random_state = 50)\n",
        "# split 개수 스텝 만큼 train, test 데이터셋을 매번 분할\n",
        "#for train_index, test_index in kf.split(X):\n",
        "#    X_train, X_test = X[train_index], X[test_index]\n",
        "#    y_train, y_test = y[train_index], y[test_index]\n",
        "\n",
        "from sklearn.ensemble import RandomForestClassifier\n",
        "from sklearn.metrics import accuracy_score\n",
        "accuracy_history = []\n",
        "# K-fold 검증 과정으로 실제 랜덤 포레스트 모델을 학습하여 정확도 평균을 내는 방법\n",
        "for train_index, test_index in kf.split(X):\n",
        "    X_train, X_test = X[train_index], X[test_index]\n",
        "    y_train, y_test = y[train_index], y[test_index]\n",
        "    model = RandomForestClassifier(n_estimators=5, random_state=0) # 모델 선언\n",
        "    model.fit(X_train, y_train) # 모델 학습\n",
        "    y_pred = model.predict(X_test) # 예측 라벨\n",
        "    accuracy_history.append(accuracy_score(y_pred, y_test)) # 정확도 측정 및 기록\n",
        "print(\"각 분할의 정확도 기록 :\", accuracy_history)\n",
        "print(\"평균 정확도 :\", np.mean(accuracy_history))\n",
        "\n"
      ],
      "metadata": {
        "id": "3f7qBA8Vrn5F"
      },
      "execution_count": null,
      "outputs": []
    },
    {
      "cell_type": "code",
      "source": [
        "#일반적인 데이터 분할\n",
        "from sklearn.model_selection import train_test_split\n",
        "X = df[X_col]\n",
        "y = df[y_col]\n",
        "X_train, X_test, y_train, y_test = train_test_split(X,y,test_size = 0.3, random_state=42)\n"
      ],
      "metadata": {
        "id": "Aw4rcJ4TuCzh"
      },
      "execution_count": 38,
      "outputs": []
    },
    {
      "cell_type": "markdown",
      "source": [],
      "metadata": {
        "id": "8VVsyf1eAqyG"
      }
    },
    {
      "cell_type": "markdown",
      "source": [
        "1.5. svm, xgboost, randomforest 3개의 알고리즘 공통점을 쓰고 이 예측 분석에 적합한 알고리즘인지 설명.\n",
        "\n",
        "=> 세 알고리즘 모두 Classifier와 Regression을 가지고 있다. \n",
        "\n",
        "\n",
        "SVM은 차원 수가 많아서 다른 머신러닝 모델이 잘 적용하지 않는 데이터셋에서 좋은 성능을 보여준다.\n",
        "\n",
        "XGBOOST는 과적합 규제 기능이 있으며 분류와 회귀 영억에서 뛰어난 강점을 가진다. 또한 병렬처리로 속도가 빠르다.\n",
        "\n",
        "RF는 앙상블 모델으로, 분류에 강하다.\n"
      ],
      "metadata": {
        "id": "K3J8Ao0muFrn"
      }
    },
    {
      "cell_type": "code",
      "source": [
        "#One hot encoding\n",
        "\n",
        "from sklearn.model_selection import train_test_split\n",
        "\n",
        "\n",
        "X = df[X_col]\n",
        "X_one_hot = pd.get_dummies(X)\n",
        "y = df[y_col]\n",
        "X_train, X_test, y_train, y_test = train_test_split(X_one_hot,y,test_size = 0.3, random_state=42)\n"
      ],
      "metadata": {
        "id": "7n37X6BqyMNT"
      },
      "execution_count": 95,
      "outputs": []
    },
    {
      "cell_type": "code",
      "source": [
        "from sklearn.ensemble import RandomForestRegressor, RandomForestClassifier\n",
        "from sklearn.metrics import classification_report, confusion_matrix, accuracy_score\n",
        "import matplotlib.pyplot as plt\n",
        "\n",
        "rf = RandomForestClassifier(oob_score=True)\n",
        "rf.fit(X_train, y_train)\n",
        "\n",
        "predictions_rf = pd.DataFrame(rf.predict(X_test))\n",
        "plt.figure(figsize=(12, 8))\n",
        "conf_mat = confusion_matrix(y_true=y_test, y_pred=predictions_rf[0])\n",
        "sns.heatmap(conf_mat, annot=True, fmt='g')\n",
        "plt.title('Confusion Matrix of the Test Data (Edible Class Based)', fontsize=14)\n",
        "plt.ylabel('Real Class', fontsize=12)\n",
        "plt.xlabel('Predicted Class', fontsize=12)\n",
        "plt.show()\n"
      ],
      "metadata": {
        "colab": {
          "base_uri": "https://localhost:8080/",
          "height": 691
        },
        "id": "jpmjDybquJWZ",
        "outputId": "a72d59d6-ee6e-404b-84be-9ca396a37c96"
      },
      "execution_count": 96,
      "outputs": [
        {
          "output_type": "stream",
          "name": "stderr",
          "text": [
            "<ipython-input-96-a5fb0866f1d0>:6: DataConversionWarning: A column-vector y was passed when a 1d array was expected. Please change the shape of y to (n_samples,), for example using ravel().\n",
            "  rf.fit(X_train, y_train)\n"
          ]
        },
        {
          "output_type": "display_data",
          "data": {
            "text/plain": [
              "<Figure size 1200x800 with 2 Axes>"
            ],
            "image/png": "[encoded data removed]"
          },
          "metadata": {}
        }
      ]
    },
    {
      "cell_type": "code",
      "source": [
        "print(classification_report(y_test, predictions_rf[0], target_names=['class 0', 'class 1']))"
      ],
      "metadata": {
        "colab": {
          "base_uri": "https://localhost:8080/"
        },
        "id": "VvKKTPKlzmrY",
        "outputId": "bc11cc7c-583f-4f6d-dde7-0322df1fbc76"
      },
      "execution_count": 97,
      "outputs": [
        {
          "output_type": "stream",
          "name": "stdout",
          "text": [
            "              precision    recall  f1-score   support\n",
            "\n",
            "     class 0       0.70      0.54      0.61       119\n",
            "     class 1       0.75      0.86      0.80       195\n",
            "\n",
            "    accuracy                           0.74       314\n",
            "   macro avg       0.72      0.70      0.70       314\n",
            "weighted avg       0.73      0.74      0.73       314\n",
            "\n"
          ]
        }
      ]
    },
    {
      "cell_type": "code",
      "source": [
        "from sklearn.metrics import roc_curve\n",
        "\n",
        "fpr, tpr, thresholds = roc_curve(y_test, rf.predict_proba(X_test)[:, 1])\n",
        "plt.plot(fpr, tpr, 'o-', label=\"RandomForest\")\n",
        "plt.plot([0, 1], [0, 1], 'k--', label=\"random guess\")\n",
        "plt.xlabel('위양성률(Fall-Out)')\n",
        "plt.ylabel('재현률(Recall)')\n",
        "plt.title('Receiver operating characteristic example')\n",
        "plt.show()"
      ],
      "metadata": {
        "colab": {
          "base_uri": "https://localhost:8080/",
          "height": 712
        },
        "id": "A5QFy-VPz5J2",
        "outputId": "7a4f8dbc-296f-4b26-ec7f-98444a033352"
      },
      "execution_count": 99,
      "outputs": [
        {
          "output_type": "stream",
          "name": "stderr",
          "text": [
            "/usr/local/lib/python3.10/dist-packages/IPython/core/pylabtools.py:151: UserWarning: Glyph 50948 (\\N{HANGUL SYLLABLE WI}) missing from current font.\n",
            "  fig.canvas.print_figure(bytes_io, **kw)\n",
            "/usr/local/lib/python3.10/dist-packages/IPython/core/pylabtools.py:151: UserWarning: Glyph 50577 (\\N{HANGUL SYLLABLE YANG}) missing from current font.\n",
            "  fig.canvas.print_figure(bytes_io, **kw)\n",
            "/usr/local/lib/python3.10/dist-packages/IPython/core/pylabtools.py:151: UserWarning: Glyph 49457 (\\N{HANGUL SYLLABLE SEONG}) missing from current font.\n",
            "  fig.canvas.print_figure(bytes_io, **kw)\n",
            "/usr/local/lib/python3.10/dist-packages/IPython/core/pylabtools.py:151: UserWarning: Glyph 47456 (\\N{HANGUL SYLLABLE RYUL}) missing from current font.\n",
            "  fig.canvas.print_figure(bytes_io, **kw)\n",
            "/usr/local/lib/python3.10/dist-packages/IPython/core/pylabtools.py:151: UserWarning: Glyph 51116 (\\N{HANGUL SYLLABLE JAE}) missing from current font.\n",
            "  fig.canvas.print_figure(bytes_io, **kw)\n",
            "/usr/local/lib/python3.10/dist-packages/IPython/core/pylabtools.py:151: UserWarning: Glyph 54788 (\\N{HANGUL SYLLABLE HYEON}) missing from current font.\n",
            "  fig.canvas.print_figure(bytes_io, **kw)\n"
          ]
        },
        {
          "output_type": "display_data",
          "data": {
            "text/plain": [
              "<Figure size 640x480 with 1 Axes>"
            ],
            "image/png": "[encoded data removed]"
          },
          "metadata": {}
        }
      ]
    },
    {
      "cell_type": "code",
      "source": [
        "#Import svm model\n",
        "from sklearn import svm\n",
        "\n",
        "#Create a svm Classifier\n",
        "clf = svm.SVC(kernel='linear') # Linear Kernel\n",
        "\n",
        "#Train the model using the training sets\n",
        "clf.fit(X_train, y_train)\n",
        "\n",
        "#Predict the response for test dataset\n",
        "y_pred = clf.predict(X_test)\n",
        "\n",
        "#Import scikit-learn metrics module for accuracy calculation\n",
        "from sklearn import metrics\n",
        "\n",
        "# Model Accuracy: how often is the classifier correct?\n",
        "print(\"Accuracy:\",metrics.accuracy_score(y_test, y_pred))\n",
        "print(classification_report(y_test, y_pred))"
      ],
      "metadata": {
        "colab": {
          "base_uri": "https://localhost:8080/"
        },
        "id": "tWVETLTw61Yb",
        "outputId": "696be0e1-51ef-4cc2-84f3-b6de79021a13"
      },
      "execution_count": 101,
      "outputs": [
        {
          "output_type": "stream",
          "name": "stderr",
          "text": [
            "/usr/local/lib/python3.10/dist-packages/sklearn/utils/validation.py:1143: DataConversionWarning: A column-vector y was passed when a 1d array was expected. Please change the shape of y to (n_samples, ), for example using ravel().\n",
            "  y = column_or_1d(y, warn=True)\n"
          ]
        },
        {
          "output_type": "stream",
          "name": "stdout",
          "text": [
            "Accuracy: 0.7484076433121019\n",
            "              precision    recall  f1-score   support\n",
            "\n",
            "           0       0.76      0.49      0.59       119\n",
            "           1       0.74      0.91      0.82       195\n",
            "\n",
            "    accuracy                           0.75       314\n",
            "   macro avg       0.75      0.70      0.71       314\n",
            "weighted avg       0.75      0.75      0.73       314\n",
            "\n"
          ]
        }
      ]
    },
    {
      "cell_type": "code",
      "source": [
        "from xgboost import XGBClassifier # model\n",
        "\n",
        "model = XGBClassifier()\n",
        "model.fit(X=X_train, y=y_train)\n",
        "y_pred = model.predict(X_test) # 예측치\n",
        "print(classification_report(y_test, y_pred))"
      ],
      "metadata": {
        "colab": {
          "base_uri": "https://localhost:8080/"
        },
        "id": "7ztih6Xw7cQs",
        "outputId": "4b1e749d-5df9-4e72-bd1c-fdf755b3d2e5"
      },
      "execution_count": 104,
      "outputs": [
        {
          "output_type": "stream",
          "name": "stdout",
          "text": [
            "              precision    recall  f1-score   support\n",
            "\n",
            "           0       0.62      0.53      0.57       119\n",
            "           1       0.74      0.81      0.77       195\n",
            "\n",
            "    accuracy                           0.70       314\n",
            "   macro avg       0.68      0.67      0.67       314\n",
            "weighted avg       0.69      0.70      0.69       314\n",
            "\n"
          ]
        }
      ]
    },
    {
      "cell_type": "markdown",
      "source": [
        "# 각 방법론에 대한 parameter tuning은 추후 업로드하겠습니다 !"
      ],
      "metadata": {
        "id": "opCY-NdfBDBY"
      }
    },
    {
      "cell_type": "markdown",
      "source": [
        "#2. 릿지 라쏘\n",
        "\n",
        "\n",
        "2. 연속형 독립변수 여러개의 소규모 데이터. 변수명은 순서대로 x1~x10 이라 의미 없음\n",
        "\n",
        "​\n",
        "\n",
        "2-1. 데이터 8:2로 분할하고 선형회귀 적용하시오. 결정계수와 rmse 구하시오\n",
        "\n",
        "​\n",
        "\n",
        "2-2. 데이터 8:2로 분할하고 릿지 회귀 적용하시오. alpha 값을 0부터 1까지 0.1단위로 모두 탐색해서 결정계수가 가장 높을때의 알파를 찾고, 해당 알파로 다시 모델을 학습해서 결정계수와 rmse를 계산\n",
        "\n",
        "​\n",
        "\n",
        "2-3. 라쏘 회귀로 2-2과 동일한 문제\n",
        "\n",
        "​\n",
        "\n",
        "\n",
        "​"
      ],
      "metadata": {
        "id": "MCTKZLMDdHxK"
      }
    },
    {
      "cell_type": "code",
      "source": [
        "import pandas as pd\n",
        "import numpy as np\n",
        "from sklearn.model_selection import train_test_split\n",
        "from sklearn.linear_model import LinearRegression\n",
        "\n",
        "# 공부시간에 따른 점수 표\n",
        "df = pd.DataFrame({'Study time':[3,4,5,8,10,5,8,6,3,6,10,9,7,0,1,2],\n",
        "\t\t   'Score':[76,74,74,89,92,75,84,82,73,81,89,88,83,40,70,69]})\n",
        "\n",
        "# 데이터셋 분리\n",
        "train, test = train_test_split(df, test_size = 0.2, random_state = 2)\n",
        "X_train = train[['Study time']]\n",
        "y_train = train['Score']\n",
        "X_test = test[['Study time']]\n",
        "y_test = test['Score']\n",
        "\n",
        "# LinearRegression 진행\n",
        "model = LinearRegression()\n",
        "model.fit(X_train, y_train)\n",
        "y_pred = model.predict(X_test)\n",
        "\n",
        "\n",
        "# 잔차 구하기\n",
        "y_mean = np.mean(y_test) # y 평균값\n",
        "\n",
        "from sklearn.metrics import r2_score\n",
        "# r-square 함수사용\n",
        "r2_score(y_test, y_pred)"
      ],
      "metadata": {
        "id": "lc6RAvGhdNqJ",
        "colab": {
          "base_uri": "https://localhost:8080/"
        },
        "outputId": "7a280ce7-803f-48a3-ec4a-e92e6915c362"
      },
      "execution_count": 108,
      "outputs": [
        {
          "output_type": "execute_result",
          "data": {
            "text/plain": [
              "0.656822938843801"
            ]
          },
          "metadata": {},
          "execution_count": 108
        }
      ]
    },
    {
      "cell_type": "code",
      "source": [
        "# $\\sum(y 관측값 - y 예측값)^2$ = 예측값에 대한 편차\n",
        "nomerator = np.sum(np.square(y_test - y_pred)) \n",
        "\n",
        "# $sum(y 관측값 - y 평균값)^2$\n",
        "denominator = np.sum(np.square(y_test - y_mean))\n",
        "r2 = 1 - nomerator / denominator\n",
        "rmse = np.sqrt(nomerator/len(y_test))\n",
        "rmse"
      ],
      "metadata": {
        "colab": {
          "base_uri": "https://localhost:8080/"
        },
        "id": "fyqgMc8YB4-b",
        "outputId": "40213fbd-4a9c-4d9b-a938-9daabc4ff81e"
      },
      "execution_count": 109,
      "outputs": [
        {
          "output_type": "execute_result",
          "data": {
            "text/plain": [
              "3.983960225513578"
            ]
          },
          "metadata": {},
          "execution_count": 109
        }
      ]
    },
    {
      "cell_type": "code",
      "source": [
        "\n",
        "from sklearn.linear_model import Ridge\n",
        "from sklearn.model_selection import cross_val_score\n",
        "from sklearn.metrics import r2_score\n",
        "\n",
        "# Ridge에 사용될 alpha 파라미터의 값들을 정의\n",
        "alphas = [0, 0.1, 0.2, 0.3, 0.4, 0.5, 0.6, 0.7, 0.8, 0.9, 1]\n",
        "\n",
        "# 각 alpha에 따른 회귀 계수 값을 시각화하기 위해 5개의 열로 된 맷플롯립 축 생성  \n",
        "fig, axs = plt.subplots(figsize=(18,6), nrows=1, ncols=11)\n",
        "# 각 alpha에 따른 회귀 계수 값을 데이터로 저장하기 위한 DataFrame 생성  \n",
        "coeff_df = pd.DataFrame()\n",
        "\n",
        "# alphas list 값을 iteration하면서 alpha에 따른 평균 rmse 구하고, 회귀 계수 값 시각화 및 데이터 저장. pos는 axis의 위치 지정\n",
        "for pos, alpha in enumerate(alphas):\n",
        "    ridge = Ridge(alpha = alpha)\n",
        "    ridge.fit(X_train, y_train)\n",
        "  \n",
        "    #cross_val_score를 이용하여 5 fold의 평균 RMSE 계산\n",
        "    neg_mse_scores = cross_val_score(ridge, X_train, y_train, scoring=\"neg_mean_squared_error\", cv = 5)\n",
        "    avg_rmse = np.mean(np.sqrt(-1 * neg_mse_scores))\n",
        "    print('alpha {0} 일 때 5 folds 의 평균 RMSE : {1:.3f} '.format(alpha,avg_rmse))\n",
        "    y_pred = ridge.predict(X_test)\n",
        "    print('r2값:', r2_score(y_test, y_pred))\n",
        "    # alpha에 따른 피처별 회귀 계수를 Series로 변환하고 이를 DataFrame의 컬럼으로 추가.  \n",
        "    coeff = pd.Series(data=ridge.coef_, index=X_train.columns )\n",
        "    colname='alpha:'+str(alpha)\n",
        "    coeff_df[colname] = coeff\n",
        "    # 막대 그래프로 각 alpha 값에서의 회귀 계수를 시각화. 회귀 계수값이 높은 순으로 표현\n",
        "    coeff = coeff.sort_values(ascending=False)\n",
        "    axs[pos].set_title(colname)\n",
        "    axs[pos].set_xlim(-3,6)\n",
        "    sns.barplot(x=coeff.values, y=coeff.index, ax=axs[pos])\n",
        "\n",
        "# for 문 바깥에서 맷플롯립의 show 호출 및 alpha에 따른 피처별 회귀 계수를 DataFrame으로 표시\n",
        "plt.show()\n",
        "\n",
        "# alpha 값에 따른 컬럼별 회귀계수 출력\n",
        "sort_column = 'alpha:'+str(alphas[0])\n",
        "coeff_df.sort_values(by=sort_column, ascending=False)"
      ],
      "metadata": {
        "colab": {
          "base_uri": "https://localhost:8080/",
          "height": 850
        },
        "id": "-NtbsUwVC85H",
        "outputId": "17ac9469-fd6f-4e2f-cf6d-d2c193ba93b9"
      },
      "execution_count": 114,
      "outputs": [
        {
          "output_type": "stream",
          "name": "stdout",
          "text": [
            "alpha 0 일 때 5 folds 의 평균 RMSE : 7.251 \n",
            "r2값: 0.6568229388438008\n",
            "alpha 0.1 일 때 5 folds 의 평균 RMSE : 7.246 \n",
            "r2값: 0.657640224624422\n",
            "alpha 0.2 일 때 5 folds 의 평균 RMSE : 7.242 \n",
            "r2값: 0.6584527665784667\n",
            "alpha 0.3 일 때 5 folds 의 평균 RMSE : 7.237 \n",
            "r2값: 0.6592605855930836\n",
            "alpha 0.4 일 때 5 folds 의 평균 RMSE : 7.233 \n",
            "r2값: 0.6600637024537767\n",
            "alpha 0.5 일 때 5 folds 의 평균 RMSE : 7.228 \n",
            "r2값: 0.6608621378449644\n",
            "alpha 0.6 일 때 5 folds 의 평균 RMSE : 7.224 \n",
            "r2값: 0.6616559123505454\n",
            "alpha 0.7 일 때 5 folds 의 평균 RMSE : 7.219 \n",
            "r2값: 0.6624450464544531\n",
            "alpha 0.8 일 때 5 folds 의 평균 RMSE : 7.215 \n",
            "r2값: 0.6632295605412158\n",
            "alpha 0.9 일 때 5 folds 의 평균 RMSE : 7.211 \n",
            "r2값: 0.6640094748965006\n",
            "alpha 1 일 때 5 folds 의 평균 RMSE : 7.206 \n",
            "r2값: 0.6647848097076672\n"
          ]
        },
        {
          "output_type": "display_data",
          "data": {
            "text/plain": [
              "<Figure size 1800x600 with 11 Axes>"
            ],
            "image/png": "[encoded data removed]"
          },
          "metadata": {}
        },
        {
          "output_type": "execute_result",
          "data": {
            "text/plain": [
              "             alpha:0  alpha:0.1  alpha:0.2  alpha:0.3  alpha:0.4  alpha:0.5  \\\n",
              "Study time  3.629683   3.626548   3.623418   3.620293   3.617174    3.61406   \n",
              "\n",
              "            alpha:0.6  alpha:0.7  alpha:0.8  alpha:0.9   alpha:1  \n",
              "Study time   3.610952   3.607849   3.604751   3.601659  3.598571  "
            ],
            "text/html": [
              "\n",
              "  <div id=\"df-f255f5a8-7a3a-47b5-a6ad-fc585ae4553d\">\n",
              "    <div class=\"colab-df-container\">\n",
              "      <div>\n",
              "<style scoped>\n",
              "    .dataframe tbody tr th:only-of-type {\n",
              "        vertical-align: middle;\n",
              "    }\n",
              "\n",
              "    .dataframe tbody tr th {\n",
              "        vertical-align: top;\n",
              "    }\n",
              "\n",
              "    .dataframe thead th {\n",
              "        text-align: right;\n",
              "    }\n",
              "</style>\n",
              "<table border=\"1\" class=\"dataframe\">\n",
              "  <thead>\n",
              "    <tr style=\"text-align: right;\">\n",
              "      <th></th>\n",
              "      <th>alpha:0</th>\n",
              "      <th>alpha:0.1</th>\n",
              "      <th>alpha:0.2</th>\n",
              "      <th>alpha:0.3</th>\n",
              "      <th>alpha:0.4</th>\n",
              "      <th>alpha:0.5</th>\n",
              "      <th>alpha:0.6</th>\n",
              "      <th>alpha:0.7</th>\n",
              "      <th>alpha:0.8</th>\n",
              "      <th>alpha:0.9</th>\n",
              "      <th>alpha:1</th>\n",
              "    </tr>\n",
              "  </thead>\n",
              "  <tbody>\n",
              "    <tr>\n",
              "      <th>Study time</th>\n",
              "      <td>3.629683</td>\n",
              "      <td>3.626548</td>\n",
              "      <td>3.623418</td>\n",
              "      <td>3.620293</td>\n",
              "      <td>3.617174</td>\n",
              "      <td>3.61406</td>\n",
              "      <td>3.610952</td>\n",
              "      <td>3.607849</td>\n",
              "      <td>3.604751</td>\n",
              "      <td>3.601659</td>\n",
              "      <td>3.598571</td>\n",
              "    </tr>\n",
              "  </tbody>\n",
              "</table>\n",
              "</div>\n",
              "      <button class=\"colab-df-convert\" onclick=\"convertToInteractive('df-f255f5a8-7a3a-47b5-a6ad-fc585ae4553d')\"\n",
              "              title=\"Convert this dataframe to an interactive table.\"\n",
              "              style=\"display:none;\">\n",
              "        \n",
              "  <svg xmlns=\"http://www.w3.org/2000/svg\" height=\"24px\"viewBox=\"0 0 24 24\"\n",
              "       width=\"24px\">\n",
              "    <path d=\"M0 0h24v24H0V0z\" fill=\"none\"/>\n",
              "    <path d=\"M18.56 5.44l.94 2.06.94-2.06 2.06-.94-2.06-.94-.94-2.06-.94 2.06-2.06.94zm-11 1L8.5 8.5l.94-2.06 2.06-.94-2.06-.94L8.5 2.5l-.94 2.06-2.06.94zm10 10l.94 2.06.94-2.06 2.06-.94-2.06-.94-.94-2.06-.94 2.06-2.06.94z\"/><path d=\"M17.41 7.96l-1.37-1.37c-.4-.4-.92-.59-1.43-.59-.52 0-1.04.2-1.43.59L10.3 9.45l-7.72 7.72c-.78.78-.78 2.05 0 2.83L4 21.41c.39.39.9.59 1.41.59.51 0 1.02-.2 1.41-.59l7.78-7.78 2.81-2.81c.8-.78.8-2.07 0-2.86zM5.41 20L4 18.59l7.72-7.72 1.47 1.35L5.41 20z\"/>\n",
              "  </svg>\n",
              "      </button>\n",
              "      \n",
              "  <style>\n",
              "    .colab-df-container {\n",
              "      display:flex;\n",
              "      flex-wrap:wrap;\n",
              "      gap: 12px;\n",
              "    }\n",
              "\n",
              "    .colab-df-convert {\n",
              "      background-color: #E8F0FE;\n",
              "      border: none;\n",
              "      border-radius: 50%;\n",
              "      cursor: pointer;\n",
              "      display: none;\n",
              "      fill: #1967D2;\n",
              "      height: 32px;\n",
              "      padding: 0 0 0 0;\n",
              "      width: 32px;\n",
              "    }\n",
              "\n",
              "    .colab-df-convert:hover {\n",
              "      background-color: #E2EBFA;\n",
              "      box-shadow: 0px 1px 2px rgba(60, 64, 67, 0.3), 0px 1px 3px 1px rgba(60, 64, 67, 0.15);\n",
              "      fill: #174EA6;\n",
              "    }\n",
              "\n",
              "    [theme=dark] .colab-df-convert {\n",
              "      background-color: #3B4455;\n",
              "      fill: #D2E3FC;\n",
              "    }\n",
              "\n",
              "    [theme=dark] .colab-df-convert:hover {\n",
              "      background-color: #434B5C;\n",
              "      box-shadow: 0px 1px 3px 1px rgba(0, 0, 0, 0.15);\n",
              "      filter: drop-shadow(0px 1px 2px rgba(0, 0, 0, 0.3));\n",
              "      fill: #FFFFFF;\n",
              "    }\n",
              "  </style>\n",
              "\n",
              "      <script>\n",
              "        const buttonEl =\n",
              "          document.querySelector('#df-f255f5a8-7a3a-47b5-a6ad-fc585ae4553d button.colab-df-convert');\n",
              "        buttonEl.style.display =\n",
              "          google.colab.kernel.accessAllowed ? 'block' : 'none';\n",
              "\n",
              "        async function convertToInteractive(key) {\n",
              "          const element = document.querySelector('#df-f255f5a8-7a3a-47b5-a6ad-fc585ae4553d');\n",
              "          const dataTable =\n",
              "            await google.colab.kernel.invokeFunction('convertToInteractive',\n",
              "                                                     [key], {});\n",
              "          if (!dataTable) return;\n",
              "\n",
              "          const docLinkHtml = 'Like what you see? Visit the ' +\n",
              "            '<a target=\"_blank\" href=https://colab.research.google.com/notebooks/data_table.ipynb>data table notebook</a>'\n",
              "            + ' to learn more about interactive tables.';\n",
              "          element.innerHTML = '';\n",
              "          dataTable['output_type'] = 'display_data';\n",
              "          await google.colab.output.renderOutput(dataTable, element);\n",
              "          const docLink = document.createElement('div');\n",
              "          docLink.innerHTML = docLinkHtml;\n",
              "          element.appendChild(docLink);\n",
              "        }\n",
              "      </script>\n",
              "    </div>\n",
              "  </div>\n",
              "  "
            ]
          },
          "metadata": {},
          "execution_count": 114
        }
      ]
    },
    {
      "cell_type": "code",
      "source": [
        "\n",
        "from sklearn.linear_model import Lasso\n",
        "from sklearn.model_selection import cross_val_score\n",
        "from sklearn.metrics import r2_score\n",
        "\n",
        "# Lasso 사용될 alpha 파라미터의 값들을 정의\n",
        "alphas = [0, 0.1, 0.2, 0.3, 0.4, 0.5, 0.6, 0.7, 0.8, 0.9, 1]\n",
        "\n",
        "# 각 alpha에 따른 회귀 계수 값을 시각화하기 위해 5개의 열로 된 맷플롯립 축 생성  \n",
        "fig, axs = plt.subplots(figsize=(18,6), nrows=1, ncols=11)\n",
        "# 각 alpha에 따른 회귀 계수 값을 데이터로 저장하기 위한 DataFrame 생성  \n",
        "coeff_df = pd.DataFrame()\n",
        "\n",
        "# alphas list 값을 iteration하면서 alpha에 따른 평균 rmse 구하고, 회귀 계수 값 시각화 및 데이터 저장. pos는 axis의 위치 지정\n",
        "for pos, alpha in enumerate(alphas):\n",
        "    lasso = Lasso(alpha = alpha)\n",
        "    lasso.fit(X_train, y_train)\n",
        "  \n",
        "    #cross_val_score를 이용하여 5 fold의 평균 RMSE 계산\n",
        "    neg_mse_scores = cross_val_score(lasso, X_train, y_train, scoring=\"neg_mean_squared_error\", cv = 5)\n",
        "    avg_rmse = np.mean(np.sqrt(-1 * neg_mse_scores))\n",
        "    print('alpha {0} 일 때 5 folds 의 평균 RMSE : {1:.3f} '.format(alpha,avg_rmse))\n",
        "    y_pred = lasso.predict(X_test)\n",
        "    print('r2값:', r2_score(y_test, y_pred))\n",
        "    # alpha에 따른 피처별 회귀 계수를 Series로 변환하고 이를 DataFrame의 컬럼으로 추가.  \n",
        "    coeff = pd.Series(data=lasso.coef_, index=X_train.columns )\n",
        "    colname='alpha:'+str(alpha)\n",
        "    coeff_df[colname] = coeff\n",
        "    # 막대 그래프로 각 alpha 값에서의 회귀 계수를 시각화. 회귀 계수값이 높은 순으로 표현\n",
        "    coeff = coeff.sort_values(ascending=False)\n",
        "    axs[pos].set_title(colname)\n",
        "    axs[pos].set_xlim(-3,6)\n",
        "    sns.barplot(x=coeff.values, y=coeff.index, ax=axs[pos])\n",
        "\n",
        "# for 문 바깥에서 맷플롯립의 show 호출 및 alpha에 따른 피처별 회귀 계수를 DataFrame으로 표시\n",
        "plt.show()\n",
        "\n",
        "# alpha 값에 따른 컬럼별 회귀계수 출력\n",
        "sort_column = 'alpha:'+str(alphas[0])\n",
        "coeff_df.sort_values(by=sort_column, ascending=False)"
      ],
      "metadata": {
        "colab": {
          "base_uri": "https://localhost:8080/",
          "height": 1000
        },
        "id": "M4WwBvesGfL6",
        "outputId": "43264eca-48c5-4898-aadd-508760498811"
      },
      "execution_count": 117,
      "outputs": [
        {
          "output_type": "stream",
          "name": "stderr",
          "text": [
            "<ipython-input-117-7b5308fd1bf3>:16: UserWarning: With alpha=0, this algorithm does not converge well. You are advised to use the LinearRegression estimator\n",
            "  lasso.fit(X_train, y_train)\n",
            "/usr/local/lib/python3.10/dist-packages/sklearn/linear_model/_coordinate_descent.py:631: UserWarning: Coordinate descent with no regularization may lead to unexpected results and is discouraged.\n",
            "  model = cd_fast.enet_coordinate_descent(\n",
            "/usr/local/lib/python3.10/dist-packages/sklearn/linear_model/_coordinate_descent.py:631: ConvergenceWarning: Objective did not converge. You might want to increase the number of iterations, check the scale of the features or consider increasing regularisation. Duality gap: 2.405e+02, tolerance: 2.005e-01 Linear regression models with null weight for the l1 regularization term are more efficiently fitted using one of the solvers implemented in sklearn.linear_model.Ridge/RidgeCV instead.\n",
            "  model = cd_fast.enet_coordinate_descent(\n",
            "/usr/local/lib/python3.10/dist-packages/sklearn/model_selection/_validation.py:686: UserWarning: With alpha=0, this algorithm does not converge well. You are advised to use the LinearRegression estimator\n",
            "  estimator.fit(X_train, y_train, **fit_params)\n",
            "/usr/local/lib/python3.10/dist-packages/sklearn/linear_model/_coordinate_descent.py:631: UserWarning: Coordinate descent with no regularization may lead to unexpected results and is discouraged.\n",
            "  model = cd_fast.enet_coordinate_descent(\n",
            "/usr/local/lib/python3.10/dist-packages/sklearn/linear_model/_coordinate_descent.py:631: ConvergenceWarning: Objective did not converge. You might want to increase the number of iterations, check the scale of the features or consider increasing regularisation. Duality gap: 2.301e+02, tolerance: 1.782e-01 Linear regression models with null weight for the l1 regularization term are more efficiently fitted using one of the solvers implemented in sklearn.linear_model.Ridge/RidgeCV instead.\n",
            "  model = cd_fast.enet_coordinate_descent(\n",
            "/usr/local/lib/python3.10/dist-packages/sklearn/model_selection/_validation.py:686: UserWarning: With alpha=0, this algorithm does not converge well. You are advised to use the LinearRegression estimator\n",
            "  estimator.fit(X_train, y_train, **fit_params)\n",
            "/usr/local/lib/python3.10/dist-packages/sklearn/linear_model/_coordinate_descent.py:631: UserWarning: Coordinate descent with no regularization may lead to unexpected results and is discouraged.\n",
            "  model = cd_fast.enet_coordinate_descent(\n",
            "/usr/local/lib/python3.10/dist-packages/sklearn/linear_model/_coordinate_descent.py:631: ConvergenceWarning: Objective did not converge. You might want to increase the number of iterations, check the scale of the features or consider increasing regularisation. Duality gap: 1.603e+02, tolerance: 1.748e-01 Linear regression models with null weight for the l1 regularization term are more efficiently fitted using one of the solvers implemented in sklearn.linear_model.Ridge/RidgeCV instead.\n",
            "  model = cd_fast.enet_coordinate_descent(\n",
            "/usr/local/lib/python3.10/dist-packages/sklearn/model_selection/_validation.py:686: UserWarning: With alpha=0, this algorithm does not converge well. You are advised to use the LinearRegression estimator\n",
            "  estimator.fit(X_train, y_train, **fit_params)\n",
            "/usr/local/lib/python3.10/dist-packages/sklearn/linear_model/_coordinate_descent.py:631: UserWarning: Coordinate descent with no regularization may lead to unexpected results and is discouraged.\n",
            "  model = cd_fast.enet_coordinate_descent(\n",
            "/usr/local/lib/python3.10/dist-packages/sklearn/linear_model/_coordinate_descent.py:631: ConvergenceWarning: Objective did not converge. You might want to increase the number of iterations, check the scale of the features or consider increasing regularisation. Duality gap: 2.365e+02, tolerance: 1.849e-01 Linear regression models with null weight for the l1 regularization term are more efficiently fitted using one of the solvers implemented in sklearn.linear_model.Ridge/RidgeCV instead.\n",
            "  model = cd_fast.enet_coordinate_descent(\n",
            "/usr/local/lib/python3.10/dist-packages/sklearn/model_selection/_validation.py:686: UserWarning: With alpha=0, this algorithm does not converge well. You are advised to use the LinearRegression estimator\n",
            "  estimator.fit(X_train, y_train, **fit_params)\n",
            "/usr/local/lib/python3.10/dist-packages/sklearn/linear_model/_coordinate_descent.py:631: UserWarning: Coordinate descent with no regularization may lead to unexpected results and is discouraged.\n",
            "  model = cd_fast.enet_coordinate_descent(\n",
            "/usr/local/lib/python3.10/dist-packages/sklearn/linear_model/_coordinate_descent.py:631: ConvergenceWarning: Objective did not converge. You might want to increase the number of iterations, check the scale of the features or consider increasing regularisation. Duality gap: 2.256e+02, tolerance: 1.892e-01 Linear regression models with null weight for the l1 regularization term are more efficiently fitted using one of the solvers implemented in sklearn.linear_model.Ridge/RidgeCV instead.\n",
            "  model = cd_fast.enet_coordinate_descent(\n",
            "/usr/local/lib/python3.10/dist-packages/sklearn/model_selection/_validation.py:686: UserWarning: With alpha=0, this algorithm does not converge well. You are advised to use the LinearRegression estimator\n",
            "  estimator.fit(X_train, y_train, **fit_params)\n",
            "/usr/local/lib/python3.10/dist-packages/sklearn/linear_model/_coordinate_descent.py:631: UserWarning: Coordinate descent with no regularization may lead to unexpected results and is discouraged.\n",
            "  model = cd_fast.enet_coordinate_descent(\n",
            "/usr/local/lib/python3.10/dist-packages/sklearn/linear_model/_coordinate_descent.py:631: ConvergenceWarning: Objective did not converge. You might want to increase the number of iterations, check the scale of the features or consider increasing regularisation. Duality gap: 2.156e+01, tolerance: 5.400e-02 Linear regression models with null weight for the l1 regularization term are more efficiently fitted using one of the solvers implemented in sklearn.linear_model.Ridge/RidgeCV instead.\n",
            "  model = cd_fast.enet_coordinate_descent(\n"
          ]
        },
        {
          "output_type": "stream",
          "name": "stdout",
          "text": [
            "alpha 0 일 때 5 folds 의 평균 RMSE : 7.251 \n",
            "r2값: 0.6568229388438008\n",
            "alpha 0.1 일 때 5 folds 의 평균 RMSE : 7.245 \n",
            "r2값: 0.659514516401643\n",
            "alpha 0.2 일 때 5 folds 의 평균 RMSE : 7.238 \n",
            "r2값: 0.6621695051528198\n",
            "alpha 0.3 일 때 5 folds 의 평균 RMSE : 7.232 \n",
            "r2값: 0.6647879050973335\n",
            "alpha 0.4 일 때 5 folds 의 평균 RMSE : 7.226 \n",
            "r2값: 0.6673697162351819\n",
            "alpha 0.5 일 때 5 folds 의 평균 RMSE : 7.220 \n",
            "r2값: 0.6699149385663687\n",
            "alpha 0.6 일 때 5 folds 의 평균 RMSE : 7.214 \n",
            "r2값: 0.6724235720908891\n",
            "alpha 0.7 일 때 5 folds 의 평균 RMSE : 7.208 \n",
            "r2값: 0.6748956168087452\n",
            "alpha 0.8 일 때 5 folds 의 평균 RMSE : 7.202 \n",
            "r2값: 0.6773310727199382\n",
            "alpha 0.9 일 때 5 folds 의 평균 RMSE : 7.196 \n",
            "r2값: 0.6797299398244672\n",
            "alpha 1 일 때 5 folds 의 평균 RMSE : 7.190 \n",
            "r2값: 0.6820922181223319\n"
          ]
        },
        {
          "output_type": "display_data",
          "data": {
            "text/plain": [
              "<Figure size 1800x600 with 11 Axes>"
            ],
            "image/png": "[encoded data removed]"
          },
          "metadata": {}
        },
        {
          "output_type": "execute_result",
          "data": {
            "text/plain": [
              "             alpha:0  alpha:0.1  alpha:0.2  alpha:0.3  alpha:0.4  alpha:0.5  \\\n",
              "Study time  3.629683   3.619308   3.608934   3.598559   3.588184    3.57781   \n",
              "\n",
              "            alpha:0.6  alpha:0.7  alpha:0.8  alpha:0.9   alpha:1  \n",
              "Study time   3.567435   3.557061   3.546686   3.536311  3.525937  "
            ],
            "text/html": [
              "\n",
              "  <div id=\"df-d9727384-e27d-4e8d-9c40-f41369ac1e35\">\n",
              "    <div class=\"colab-df-container\">\n",
              "      <div>\n",
              "<style scoped>\n",
              "    .dataframe tbody tr th:only-of-type {\n",
              "        vertical-align: middle;\n",
              "    }\n",
              "\n",
              "    .dataframe tbody tr th {\n",
              "        vertical-align: top;\n",
              "    }\n",
              "\n",
              "    .dataframe thead th {\n",
              "        text-align: right;\n",
              "    }\n",
              "</style>\n",
              "<table border=\"1\" class=\"dataframe\">\n",
              "  <thead>\n",
              "    <tr style=\"text-align: right;\">\n",
              "      <th></th>\n",
              "      <th>alpha:0</th>\n",
              "      <th>alpha:0.1</th>\n",
              "      <th>alpha:0.2</th>\n",
              "      <th>alpha:0.3</th>\n",
              "      <th>alpha:0.4</th>\n",
              "      <th>alpha:0.5</th>\n",
              "      <th>alpha:0.6</th>\n",
              "      <th>alpha:0.7</th>\n",
              "      <th>alpha:0.8</th>\n",
              "      <th>alpha:0.9</th>\n",
              "      <th>alpha:1</th>\n",
              "    </tr>\n",
              "  </thead>\n",
              "  <tbody>\n",
              "    <tr>\n",
              "      <th>Study time</th>\n",
              "      <td>3.629683</td>\n",
              "      <td>3.619308</td>\n",
              "      <td>3.608934</td>\n",
              "      <td>3.598559</td>\n",
              "      <td>3.588184</td>\n",
              "      <td>3.57781</td>\n",
              "      <td>3.567435</td>\n",
              "      <td>3.557061</td>\n",
              "      <td>3.546686</td>\n",
              "      <td>3.536311</td>\n",
              "      <td>3.525937</td>\n",
              "    </tr>\n",
              "  </tbody>\n",
              "</table>\n",
              "</div>\n",
              "      <button class=\"colab-df-convert\" onclick=\"convertToInteractive('df-d9727384-e27d-4e8d-9c40-f41369ac1e35')\"\n",
              "              title=\"Convert this dataframe to an interactive table.\"\n",
              "              style=\"display:none;\">\n",
              "        \n",
              "  <svg xmlns=\"http://www.w3.org/2000/svg\" height=\"24px\"viewBox=\"0 0 24 24\"\n",
              "       width=\"24px\">\n",
              "    <path d=\"M0 0h24v24H0V0z\" fill=\"none\"/>\n",
              "    <path d=\"M18.56 5.44l.94 2.06.94-2.06 2.06-.94-2.06-.94-.94-2.06-.94 2.06-2.06.94zm-11 1L8.5 8.5l.94-2.06 2.06-.94-2.06-.94L8.5 2.5l-.94 2.06-2.06.94zm10 10l.94 2.06.94-2.06 2.06-.94-2.06-.94-.94-2.06-.94 2.06-2.06.94z\"/><path d=\"M17.41 7.96l-1.37-1.37c-.4-.4-.92-.59-1.43-.59-.52 0-1.04.2-1.43.59L10.3 9.45l-7.72 7.72c-.78.78-.78 2.05 0 2.83L4 21.41c.39.39.9.59 1.41.59.51 0 1.02-.2 1.41-.59l7.78-7.78 2.81-2.81c.8-.78.8-2.07 0-2.86zM5.41 20L4 18.59l7.72-7.72 1.47 1.35L5.41 20z\"/>\n",
              "  </svg>\n",
              "      </button>\n",
              "      \n",
              "  <style>\n",
              "    .colab-df-container {\n",
              "      display:flex;\n",
              "      flex-wrap:wrap;\n",
              "      gap: 12px;\n",
              "    }\n",
              "\n",
              "    .colab-df-convert {\n",
              "      background-color: #E8F0FE;\n",
              "      border: none;\n",
              "      border-radius: 50%;\n",
              "      cursor: pointer;\n",
              "      display: none;\n",
              "      fill: #1967D2;\n",
              "      height: 32px;\n",
              "      padding: 0 0 0 0;\n",
              "      width: 32px;\n",
              "    }\n",
              "\n",
              "    .colab-df-convert:hover {\n",
              "      background-color: #E2EBFA;\n",
              "      box-shadow: 0px 1px 2px rgba(60, 64, 67, 0.3), 0px 1px 3px 1px rgba(60, 64, 67, 0.15);\n",
              "      fill: #174EA6;\n",
              "    }\n",
              "\n",
              "    [theme=dark] .colab-df-convert {\n",
              "      background-color: #3B4455;\n",
              "      fill: #D2E3FC;\n",
              "    }\n",
              "\n",
              "    [theme=dark] .colab-df-convert:hover {\n",
              "      background-color: #434B5C;\n",
              "      box-shadow: 0px 1px 3px 1px rgba(0, 0, 0, 0.15);\n",
              "      filter: drop-shadow(0px 1px 2px rgba(0, 0, 0, 0.3));\n",
              "      fill: #FFFFFF;\n",
              "    }\n",
              "  </style>\n",
              "\n",
              "      <script>\n",
              "        const buttonEl =\n",
              "          document.querySelector('#df-d9727384-e27d-4e8d-9c40-f41369ac1e35 button.colab-df-convert');\n",
              "        buttonEl.style.display =\n",
              "          google.colab.kernel.accessAllowed ? 'block' : 'none';\n",
              "\n",
              "        async function convertToInteractive(key) {\n",
              "          const element = document.querySelector('#df-d9727384-e27d-4e8d-9c40-f41369ac1e35');\n",
              "          const dataTable =\n",
              "            await google.colab.kernel.invokeFunction('convertToInteractive',\n",
              "                                                     [key], {});\n",
              "          if (!dataTable) return;\n",
              "\n",
              "          const docLinkHtml = 'Like what you see? Visit the ' +\n",
              "            '<a target=\"_blank\" href=https://colab.research.google.com/notebooks/data_table.ipynb>data table notebook</a>'\n",
              "            + ' to learn more about interactive tables.';\n",
              "          element.innerHTML = '';\n",
              "          dataTable['output_type'] = 'display_data';\n",
              "          await google.colab.output.renderOutput(dataTable, element);\n",
              "          const docLink = document.createElement('div');\n",
              "          docLink.innerHTML = docLinkHtml;\n",
              "          element.appendChild(docLink);\n",
              "        }\n",
              "      </script>\n",
              "    </div>\n",
              "  </div>\n",
              "  "
            ]
          },
          "metadata": {},
          "execution_count": 117
        }
      ]
    },
    {
      "cell_type": "markdown",
      "source": [
        "#3. 3차 다항회귀\n",
        "\n",
        "독립변수 하나 종속변수 하나 소규모 데이터.\n",
        "\n",
        "\n",
        "다항 회귀를 3차까지 적용하고 각 차수별 데이터포인트 스캐터 플롯과 계수와 기울기 선을 그리라고 함(12점) . \n",
        "\n",
        "​"
      ],
      "metadata": {
        "id": "OgGD46B3dN-6"
      }
    },
    {
      "cell_type": "code",
      "source": [
        "import matplotlib.pyplot as plt\n",
        "import numpy as np\n",
        " \n",
        "def make_data(size=100, noise=1):\n",
        "    x = np.linspace(-5, 11, size).reshape(-1, 1)\n",
        "    y = 3*x**2 + 3*x\n",
        " \n",
        "    noise = np.random.uniform(-abs(noise), abs(noise), size=y.shape)\n",
        "    yy = y + noise  # 노이즈 추가\n",
        " \n",
        "    plt.scatter(x, y)\n",
        "    plt.suptitle(\"Sample Data\", size=24)\n",
        "    plt.show()\n",
        " \n",
        "    return x, yy"
      ],
      "metadata": {
        "id": "bKukIaETdbbx"
      },
      "execution_count": 118,
      "outputs": []
    },
    {
      "cell_type": "code",
      "source": [
        "from sklearn.preprocessing import PolynomialFeatures\n",
        "from sklearn.metrics import r2_score\n",
        " \n",
        "def poly(x, degree=2):\n",
        "    model = PolynomialFeatures(degree=degree, include_bias=False)\n",
        "    x_poly = model.fit_transform(x)\n",
        "    return x, x_poly"
      ],
      "metadata": {
        "id": "FS108pP0dRa7"
      },
      "execution_count": 119,
      "outputs": []
    },
    {
      "cell_type": "code",
      "source": [
        "import matplotlib.pyplot as plt\n",
        "import numpy as np\n",
        "import pandas as pd\n",
        "from sklearn.metrics import mean_squared_error\n",
        "from sklearn.linear_model import LinearRegression\n",
        " \n",
        "def LR(poly_x, x, y):\n",
        "    SLR_model = LinearRegression()\n",
        "    model = LinearRegression()\n",
        " \n",
        "    SLR_model.fit(x, y)\n",
        "    model.fit(poly_x, y)\n",
        " \n",
        "    print(\"w1: \", model.coef_[0][0])\n",
        "    print(\"w2: \", model.coef_[0][1])\n",
        "    print(\"b: \",  model.intercept_[0])\n",
        " \n",
        "    SLR_result = SLR_model.predict(x)\n",
        "    result = model.predict(poly_x)\n",
        " \n",
        "    plt.figure(figsize=(10, 7))\n",
        "    plt.scatter(x, y)\n",
        "    plt.plot(x, result, color='red', label='Polynomial Regression')\n",
        "    plt.plot(x, SLR_result, color='green', label='Simple Linear Regression')\n",
        "    plt.suptitle(\"LR function\", size=24)\n",
        "    plt.legend()\n",
        "    plt.show()\n",
        " \n",
        "    return result\n",
        " \n",
        "x, y = make_data(size=100, noise=6)\n",
        "x, x_poly = poly(x)\n",
        "result = LR(x_poly, x, y)\n",
        "data = np.concatenate((x, y, result), axis=1)\n",
        "df = pd.DataFrame(data, columns=['x', 'y', 'predict'])\n",
        " \n",
        "print(\"결정계수: \", r2_score(y, result))\n",
        "print(\"상관계수: \\n\", df.corr())\n",
        "print(\"MSE: \", mean_squared_error(y, result))"
      ],
      "metadata": {
        "colab": {
          "base_uri": "https://localhost:8080/",
          "height": 1000
        },
        "id": "aSRjLUe1KCE_",
        "outputId": "2ba24a1f-b92f-406e-be42-c2913d2a24a7"
      },
      "execution_count": 120,
      "outputs": [
        {
          "output_type": "display_data",
          "data": {
            "text/plain": [
              "<Figure size 640x480 with 1 Axes>"
            ],
            "image/png": "[encoded data removed]"
          },
          "metadata": {}
        },
        {
          "output_type": "stream",
          "name": "stdout",
          "text": [
            "w1:  3.068232334319652\n",
            "w2:  2.991639145506056\n",
            "b:  -0.04188413043556238\n"
          ]
        },
        {
          "output_type": "display_data",
          "data": {
            "text/plain": [
              "<Figure size 1000x700 with 1 Axes>"
            ],
            "image/png": "[encoded data removed]"
          },
          "metadata": {}
        },
        {
          "output_type": "stream",
          "name": "stdout",
          "text": [
            "결정계수:  0.9991018426661836\n",
            "상관계수: \n",
            "                 x         y   predict\n",
            "x        1.000000  0.859435  0.859821\n",
            "y        0.859435  1.000000  0.999551\n",
            "predict  0.859821  0.999551  1.000000\n",
            "MSE:  11.69114007449578\n"
          ]
        }
      ]
    },
    {
      "cell_type": "markdown",
      "source": [
        "# 4. 이원분산분석\n",
        "\n",
        "하나는 abcde 각각을 값으로 갖는 범주형 변수\n",
        "\n",
        "나머지 두 개는 수치형 연속변수\n",
        "\n",
        "​\n",
        "\n",
        "이원분산분석을 수행하고 통계표를 작성하시오."
      ],
      "metadata": {
        "id": "JGPOzrUedRwK"
      }
    }
  ]
}