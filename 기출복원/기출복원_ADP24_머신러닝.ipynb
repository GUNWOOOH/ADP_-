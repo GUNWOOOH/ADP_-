{
  "nbformat": 4,
  "nbformat_minor": 0,
  "metadata": {
    "colab": {
      "provenance": [],
      "authorship_tag": "ABX9TyOTejJsbWdf0ZBvLw68Jb7q",
      "include_colab_link": true
    },
    "kernelspec": {
      "name": "python3",
      "display_name": "Python 3"
    },
    "language_info": {
      "name": "python"
    }
  },
  "cells": [
    {
      "cell_type": "markdown",
      "metadata": {
        "id": "view-in-github",
        "colab_type": "text"
      },
      "source": [
        "<a href=\"https://colab.research.google.com/github/GUNWOOOH/ADP_Practice/blob/main/%EA%B8%B0%EC%B6%9C%EB%B3%B5%EC%9B%90/%EA%B8%B0%EC%B6%9C%EB%B3%B5%EC%9B%90_ADP24_%EB%A8%B8%EC%8B%A0%EB%9F%AC%EB%8B%9D.ipynb\" target=\"_parent\"><img src=\"https://colab.research.google.com/assets/colab-badge.svg\" alt=\"Open In Colab\"/></a>"
      ]
    },
    {
      "cell_type": "markdown",
      "source": [
        "# ADP 24회 기출복원\n",
        "\n",
        "출처: https://lovelydiary.tistory.com/381\n",
        "\n",
        "# 1. 머신러닝\n",
        "\n",
        " (data: 학생 결석일수 관련 데이터, 독립변수 12개 - 성별, 나이, 부모와 같이 사는지 여부, 아버지 학력, 어머니 학력, 보호자, 집학교 거리, 공부 시간, F학점 맞은 횟수, 가족 관계, 여가시간, 총 395개의 관측치) -50점\n",
        "\n",
        "1-1. 시각화 포함하여 탐색적 분석하기\n",
        "  - 1-1.1 시각화 포함하여 전처리 하기\n",
        "\n",
        "\n",
        "  - 1-1.2 이밖에 추가할 수 있는 전처리를 하고, 그 이유와 기대효과를 쓰기\n"
      ],
      "metadata": {
        "id": "wXmYls_hMLZv"
      }
    },
    {
      "cell_type": "code",
      "source": [],
      "metadata": {
        "id": "ODaLsH65NXQH"
      },
      "execution_count": null,
      "outputs": []
    },
    {
      "cell_type": "markdown",
      "source": [
        "\n",
        "# 알고리즘 적용 (1번이어서)\n",
        "\n",
        "\n",
        "  - 1-2.1 해당 데이터셋에서 학생결석 일수를 예측하는데에 적용 가능한 알고리즘 3개를 언급하고 그 중 2개를 선택하고, 그 이유를 설명하기\n",
        "\n",
        "\n",
        "  - 1-2.2 해당 모델에 성능 평가 지표를 뭘로 쓸건지 그 이유를 설명하기\n",
        "\n",
        "\n",
        "  - 1-2.3 선정한 2개 알고리즘으로 실제 코딩한 후 성능 평가를 통해 비교하고 설명하기 (시각화 포함)\n",
        "\n",
        "\n"
      ],
      "metadata": {
        "id": "FHCbS18ONYkj"
      }
    },
    {
      "cell_type": "code",
      "source": [],
      "metadata": {
        "id": "nDgyzk_tNY51"
      },
      "execution_count": null,
      "outputs": []
    },
    {
      "cell_type": "markdown",
      "source": [
        "\n",
        "# 모델 설명 \n",
        "\n",
        "  - 1-3.1 실제로 사용가능한 모델인지 설명\n",
        "\n",
        "  - 1-3.2 다양한 환경에서 적용할 수 있는 방안 설명\n",
        "\n",
        "  - 1-3.3 추가적으로 모델 개선할 수 있는 방안 설명"
      ],
      "metadata": {
        "id": "b3qj8BS4Nc9t"
      }
    },
    {
      "cell_type": "code",
      "source": [],
      "metadata": {
        "id": "2COaJz0R97K1"
      },
      "execution_count": null,
      "outputs": []
    },
    {
      "cell_type": "markdown",
      "source": [
        "# Part 2 통계분석\n",
        "\n",
        "# 2. 회귀 계수 검정\n",
        "\n",
        "광고비(범주형 변수, 높음과 낮음으로 적혀있음), 연구개발비(수치형 변수, 수치 적혀있음), 판매액(수치형 변수, 수치 적혀있음), 전체 관측치는 10개로 소규모 데이터. 광고비와 연구개발비가 독립변수, 판매액이 종속변수.\n",
        "\n",
        " - 광고비를 가변수화해서 다중선형회귀방정식을 만들고 회귀계수를 검정하기\n",
        " - 회귀 모형을 검정하기"
      ],
      "metadata": {
        "id": "TMdibixTRG2p"
      }
    },
    {
      "cell_type": "code",
      "source": [],
      "metadata": {
        "id": "Zl2TcqM_-GAv"
      },
      "execution_count": null,
      "outputs": []
    },
    {
      "cell_type": "markdown",
      "source": [
        "# 3번 T검정 이표본 평균\n",
        "\n",
        "A생산라인의 제품 평균은 5.7mm이고 표준편차는 0.03, B생산라인의 제품 평균은 5.6mm이고 표준편차는 0.04라면 5%유의수준으로 두 제품의 평균이 차이가 있는지 여부를 검정하기 (Z통계량도 제공 - Z(0.05) = 1.65, 위의 구체적인 숫자는 실제 시험 때 숫자랑 정확하게 맞지는 않음)\n",
        "\n",
        " - 귀무가설과 대립가설 세우기\n",
        " - 두 평균이 차이가 있는지 검정 하기 "
      ],
      "metadata": {
        "id": "W47fsz61RJcU"
      }
    },
    {
      "cell_type": "code",
      "source": [],
      "metadata": {
        "id": "HkghmdXMAlOG"
      },
      "execution_count": null,
      "outputs": []
    },
    {
      "cell_type": "markdown",
      "source": [
        "# 4번. 베이지안 분류\n",
        "\n",
        "바이러스 감염 분류표를 보고 베이지안 분류 방법을 사용해 양성으로 예측된 사람이 실제로 양성일 확률을 구하는 문제\n",
        "\n",
        "![image.png](data:image/png;base64,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)"
      ],
      "metadata": {
        "id": "q-QcWTzBCH1g"
      }
    },
    {
      "cell_type": "code",
      "source": [],
      "metadata": {
        "id": "5KeMKQTmCKQU"
      },
      "execution_count": null,
      "outputs": []
    },
    {
      "cell_type": "markdown",
      "source": [
        "# 5번. 윌콕슨 \n",
        "\n",
        " - 9개 정도의 숫자 표본에 대해 단일표본 T검증을 진행하여 아래 내용을 구하기\n",
        "위 표본의 평균에 대한 신뢰구간 구하기\n",
        "\n",
        " - 과거에 해당 표본의 모집단의 표준편차가 0.4일 때 표본 평균에 대한 신뢰구간 구하기"
      ],
      "metadata": {
        "id": "uZyVPqcvCRmc"
      }
    },
    {
      "cell_type": "code",
      "source": [],
      "metadata": {
        "id": "JOABjY1xCVMb"
      },
      "execution_count": null,
      "outputs": []
    }
  ]
}