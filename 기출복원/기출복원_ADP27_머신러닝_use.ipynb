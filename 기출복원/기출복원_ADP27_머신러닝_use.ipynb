{
  "nbformat": 4,
  "nbformat_minor": 0,
  "metadata": {
    "colab": {
      "provenance": [],
      "authorship_tag": "ABX9TyO9lFbGLpG3G6o3JkyBJGHF",
      "include_colab_link": true
    },
    "kernelspec": {
      "name": "python3",
      "display_name": "Python 3"
    },
    "language_info": {
      "name": "python"
    }
  },
  "cells": [
    {
      "cell_type": "markdown",
      "metadata": {
        "id": "view-in-github",
        "colab_type": "text"
      },
      "source": [
        "<a href=\"https://colab.research.google.com/github/GUNWOOOH/ADP_Practice/blob/main/%EA%B8%B0%EC%B6%9C%EB%B3%B5%EC%9B%90/%EA%B8%B0%EC%B6%9C%EB%B3%B5%EC%9B%90_ADP27_%EB%A8%B8%EC%8B%A0%EB%9F%AC%EB%8B%9D_use.ipynb\" target=\"_parent\"><img src=\"https://colab.research.google.com/assets/colab-badge.svg\" alt=\"Open In Colab\"/></a>"
      ]
    },
    {
      "cell_type": "markdown",
      "source": [
        "# ADP 27회 기출복원\n",
        "\n",
        "데이터 확인 및 전처리\n",
        "\n",
        "1.1 EDA 데이터 탐색\n",
        "\n",
        "1.2 변수간 상관관계를 시각화하고 전처리가 필요함을 설명하라\n",
        "\n",
        "출처\n",
        "\n",
        "https://www.kaggle.com/datasets/mlg-ulb/creditcardfraud (후처리)"
      ],
      "metadata": {
        "id": "OkhjFxESGkX4"
      }
    },
    {
      "cell_type": "code",
      "source": [
        "import pandas as pd\n",
        "\n",
        "df= pd.read_csv('https://raw.githubusercontent.com/Datamanim/datarepo/main/adp/27/problem1.csv')\n",
        "df.head()"
      ],
      "metadata": {
        "id": "EZ8SLC4KGrul"
      },
      "execution_count": null,
      "outputs": []
    },
    {
      "cell_type": "markdown",
      "source": [
        "차원축소 (1번이어서)\n",
        "\n",
        "2.1 차원축소 방법 2가지 이상 비교하고 한가지 선택\n",
        "\n",
        "2.2 추천한 한 가지를 실제로 수행하고 선택한 이유 설명"
      ],
      "metadata": {
        "id": "rcld9UF5Gwut"
      }
    },
    {
      "cell_type": "code",
      "source": [],
      "metadata": {
        "id": "9gpA8sM7GyQA"
      },
      "execution_count": null,
      "outputs": []
    },
    {
      "cell_type": "markdown",
      "source": [
        "오버샘플링/언더샘플링 (1번이어서)\n",
        "\n",
        "3.1 오버샘플링과 언더샘플링 장단점 비교 및 선택 구현\n",
        "\n",
        "3.2 구현 및 알고리즘 2가지 이상 비교, 성능 측정\n",
        "\n",
        "3.3 현재까지 전처리한 데이터를 통해 모델 수행 후 결과 분석"
      ],
      "metadata": {
        "id": "fQMH14IKG0jJ"
      }
    },
    {
      "cell_type": "code",
      "source": [],
      "metadata": {
        "id": "470qYYVTG19Z"
      },
      "execution_count": null,
      "outputs": []
    },
    {
      "cell_type": "markdown",
      "source": [
        "이상탐지 (1번이어서)\n",
        "\n",
        "4.1 이상탐지 모델 2가지 이상 기술, 장/단점 설명\n",
        "\n",
        "4.2 2번에서 만든 데이터로 한 가지 이상탐지 모델을 구현하고, 3번에서 만든 모델과 비교\n",
        "\n",
        "4.3 데이터분석과 관점에서 3번에서 만든 모델과 4번에서 만든 모델 설명\n"
      ],
      "metadata": {
        "id": "Bn-GtCaKG35R"
      }
    },
    {
      "cell_type": "code",
      "source": [],
      "metadata": {
        "id": "n1fn271iG41h"
      },
      "execution_count": null,
      "outputs": []
    },
    {
      "cell_type": "markdown",
      "source": [
        "# 5번 생산량 대푯값\n",
        "\n",
        "2년 전 제품 생산량이 100,000개, 1년 전 제품 생산량이 150,000개, 그 후 팩토리 기술의 상승으로 제품 생산량이 250,000개 되었을 때, 연평균 상승률의 대푯값을 구하시오. (반올림하여 소수점 아래 둘째자리까지 표기하시오.)"
      ],
      "metadata": {
        "id": "GdDpLd5mG6oF"
      }
    },
    {
      "cell_type": "code",
      "source": [],
      "metadata": {
        "id": "xE7FOSHeHAlu"
      },
      "execution_count": null,
      "outputs": []
    },
    {
      "cell_type": "markdown",
      "source": [
        "# 6번 신뢰구간\n",
        "\n",
        "12건의 광고 시간 측정. 평균 15.5초, 분산 3.2초 일때 90% 신뢰구간은?"
      ],
      "metadata": {
        "id": "QpRI1uMjHA8J"
      }
    },
    {
      "cell_type": "code",
      "source": [],
      "metadata": {
        "id": "pib5jYkhHC7M"
      },
      "execution_count": 1,
      "outputs": []
    },
    {
      "cell_type": "markdown",
      "source": [
        "# 검정\n",
        "\n",
        "강의 상류와 하류의 생물 다양성 점수에 차이가 있는지 검정하시오. (단, 같은 강에서 상류와 하류는 서로 독립적이지 않으며, 종속적인 관계에 있다.)\n",
        "\n",
        "7.1 귀무가설과 대립가설을 세우시오\n",
        "\n",
        "7.2 검정 통계량과 유의 확률을 구하고, 연구가설 채택여부를 검정하시오.\n"
      ],
      "metadata": {
        "id": "RWJSsa7-HGik"
      }
    },
    {
      "cell_type": "code",
      "source": [
        "import pandas as pd\n",
        "\n",
        "df= pd.read_csv('https://raw.githubusercontent.com/Datamanim/datarepo/main/adp/27/river.csv')\n",
        "df.head()"
      ],
      "metadata": {
        "id": "BZoExr7AHJ8e"
      },
      "execution_count": null,
      "outputs": []
    },
    {
      "cell_type": "markdown",
      "source": [
        "# 8번 분위수 회귀분석\n",
        "\n",
        "user_counts를 종속변수로 하는 데이터이다\n",
        "\n",
        " - 8.1 분위수 회귀분석 (Quantile Regression) 을 사용하여 회귀 계수를 구하시오. (반올림하여 소수점 아래 둘째자리까지 표기하시오.)\n",
        "\n",
        " - 8.2 8.1의 모델의 회귀계수를 활용하여 temperature : 10.5 , wind : 8.2 , precipitation : 3.5 일때 user_counts를 예측하시오\n"
      ],
      "metadata": {
        "id": "KpWdDua1HMmx"
      }
    },
    {
      "cell_type": "code",
      "source": [
        "import pandas as pd\n",
        "\n",
        "df= pd.read_csv('https://raw.githubusercontent.com/Datamanim/datarepo/main/adp/27/problem8.csv')\n",
        "df.head()"
      ],
      "metadata": {
        "id": "6fAB8Vl4HPgz"
      },
      "execution_count": null,
      "outputs": []
    },
    {
      "cell_type": "markdown",
      "source": [
        "# 9번 상관관계 분석\n",
        "\n",
        "지하철 호선과 월별, 승객 수 간 상관관계가 있는지 확인(Type III Anova 사용)\n",
        "\n",
        "9.1 귀무가설과 대립가설 설정하라\n",
        "\n",
        "9.2 통계량을 구하고, 대립가설 채택여부를 기술하라"
      ],
      "metadata": {
        "id": "WRjjEVjiHSis"
      }
    },
    {
      "cell_type": "code",
      "source": [],
      "metadata": {
        "id": "ItPRu1miHVeL"
      },
      "execution_count": null,
      "outputs": []
    }
  ]
}