{
  "nbformat": 4,
  "nbformat_minor": 0,
  "metadata": {
    "colab": {
      "provenance": [],
      "authorship_tag": "ABX9TyO8Zf/WotbUQyR+zrXwUtoo",
      "include_colab_link": true
    },
    "kernelspec": {
      "name": "python3",
      "display_name": "Python 3"
    },
    "language_info": {
      "name": "python"
    }
  },
  "cells": [
    {
      "cell_type": "markdown",
      "metadata": {
        "id": "view-in-github",
        "colab_type": "text"
      },
      "source": [
        "<a href=\"https://colab.research.google.com/github/GUNWOOOH/ADP_Practice/blob/main/%EA%B8%B0%EC%B6%9C%EB%B3%B5%EC%9B%90/%EA%B8%B0%EC%B6%9C%EB%B3%B5%EC%9B%90_%EC%97%B0%EA%B4%80%EB%B6%84%EC%84%9D%2C%EC%8B%9C%EA%B3%84%EC%97%B4%EB%B6%84%EC%84%9D.ipynb\" target=\"_parent\"><img src=\"https://colab.research.google.com/assets/colab-badge.svg\" alt=\"Open In Colab\"/></a>"
      ]
    },
    {
      "cell_type": "markdown",
      "source": [
        "#연관분석 및 시계열분석 ADP 기출 및 예제\n",
        "\n",
        "1. 연관분석\n",
        "\n",
        "1) 연관규칙분석을 수행하기 위해 lotto 데이터셋을 transaction 데이터로 변환하시오. (단, 본 분석에서 로또번호가 추첨된 순서는 고려하지 않고 분석을 수행하도록 한다.) 그리고 변환된 데이터에서 가장 많이 등장한 상위 10개의 로또번호를 막대그래프로 출력하고 이에 대해 설명하시오."
      ],
      "metadata": {
        "id": "tktZhgo2_xnI"
      }
    },
    {
      "cell_type": "code",
      "source": [
        "import pandas as pd\n",
        "from mlxtend.preprocessing import TransactionEncoder\n",
        "from mlxtend.frequent_patterns import apriori, association_rules\n",
        "from collections import Counter\n",
        "import matplotlib.pyplot as plt\n",
        "from apyori import apriori\n",
        "\n",
        "path = './모의고사 1회/lotto.csv'\n",
        "data= pd.read_csv(path)\n",
        "ddata=data[['num1','num2','num3','num4','num5','num6']]\n",
        "ddata"
      ],
      "metadata": {
        "id": "efxav7V7_8hr"
      },
      "execution_count": null,
      "outputs": []
    },
    {
      "cell_type": "markdown",
      "source": [
        "R에서는 데이터 형태를 변형하기 위해 'reshape2' 라이브러리를 설치하여 '트랜잭션'데이터의 형태를 변환한다.\n",
        "\n",
        "하지만 python에서 대체할 수 있는 'reshape' 형태의 라이브러리가 없다. 가장 비슷한 라이브러리는 TransactionEncoder()이다. "
      ],
      "metadata": {
        "id": "U9AxHWeaAIT-"
      }
    },
    {
      "cell_type": "code",
      "source": [
        "ddata= ddata.astype('string')\n",
        "df_list=ddata.values.tolist()\n",
        "te = TransactionEncoder()\n",
        "te_ary = te.fit(df_list).transform(df_list)\n",
        "df = pd.DataFrame(te_ary, columns=te.columns_)"
      ],
      "metadata": {
        "id": "Qtmni_x5AKMV"
      },
      "execution_count": null,
      "outputs": []
    },
    {
      "cell_type": "code",
      "source": [
        "df"
      ],
      "metadata": {
        "id": "NB892wUPAMpl"
      },
      "execution_count": null,
      "outputs": []
    },
    {
      "cell_type": "markdown",
      "source": [
        "가장 많이 나온 숫자 상위 10개를 뽑습니다."
      ],
      "metadata": {
        "id": "iUO0gLmsAP43"
      }
    },
    {
      "cell_type": "code",
      "source": [
        "import numpy as np\n",
        "list_count = np.array(df_list).flatten().tolist()\n",
        "count=Counter(list_count)\n",
        "sorted_C_union = sorted(count.items(), key=lambda x: (-x[1], x[0]))\n",
        "d = pd.DataFrame.from_dict(sorted_C_union)\n",
        "#가장 많이 뽑힌 숫자 상위 10개 뽑기\n",
        "d.rename(columns={0:'num', 1:'count'}, inplace=True)\n",
        "d=d.sort_values(by='count', ascending=False)[:10]\n",
        "\n",
        "plt.figure(figsize=(20,16))\n",
        "plt.xticks(fontsize = 18 )\n",
        "plt.bar(d['num'].values, d['count'].values)"
      ],
      "metadata": {
        "id": "x6s8vkrxAQxW"
      },
      "execution_count": null,
      "outputs": []
    },
    {
      "cell_type": "markdown",
      "source": [
        "2) 변환한 데이터에 대해 apriori함수를 사용하여 다음 괄호 안의 조건을 반영하여 연관규칙을 생성하고, 이를 'rules_1'이라는 변수에 저장하여 결과를 해석하시오(최소 지지도: 0.002, 최소 신뢰도: 0.8, 최소조합 항목수: 2개, 최대조합 항목 수 :6개) 그리고 도출된 연관규칙들을 향상도를 기준으로 내림차순 정렬하여 상위 30개의 규칙을 확인하고, 이를 데이터프레임으로 변환하여 csv파일로 출력하시오."
      ],
      "metadata": {
        "id": "-kLer90jAUU4"
      }
    },
    {
      "cell_type": "code",
      "source": [
        "from mlxtend.frequent_patterns import apriori\n",
        "#최소 지지도 0.002 \n",
        "frequent_itemsets = apriori(df, min_support=0.002, use_colnames=True)\n",
        "\n",
        "#최소 신뢰도 0.8를 위한 작업\n",
        "frequent_ = association_rules(frequent_itemsets, metric=\"confidence\", min_threshold=0.8)"
      ],
      "metadata": {
        "id": "-LmW-R0wAYlt"
      },
      "execution_count": null,
      "outputs": []
    },
    {
      "cell_type": "code",
      "source": [
        "#최대 조합수 6개 최소 조합수 2개 \n",
        "freq=frequent_[ (frequent_['antecedent_len'] >= 2) &  (frequent_['antecedent_len'] <= 6)]\n",
        "freq"
      ],
      "metadata": {
        "id": "STPSDSfcAo0s"
      },
      "execution_count": null,
      "outputs": []
    },
    {
      "cell_type": "markdown",
      "source": [
        "향상도인 \"lift\"를 기준으로 규칙들을 내림차순 정렬한 후, 상위 30개의 규칙을 확인한다. "
      ],
      "metadata": {
        "id": "WHfqkG1JAXKK"
      }
    },
    {
      "cell_type": "code",
      "source": [
        "result = freq.sort_values(by='lift', ascending=False)[:30]\n",
        "result"
      ],
      "metadata": {
        "id": "AWWgoY7RAqwk"
      },
      "execution_count": null,
      "outputs": []
    },
    {
      "cell_type": "markdown",
      "source": [
        "2. 연관분석\n",
        "\n",
        " 음식 메뉴 주문 연관분석 ( A, AAA, BB, AAA, BBBB, B, AA, BBBB, AAAA 이런식의 데이터)\n",
        "- 데이터 셋을 따로 주지는 않음\n",
        "- A, B 메뉴 주문 연관분석 수행"
      ],
      "metadata": {
        "id": "uR5rUPbqBaeq"
      }
    },
    {
      "cell_type": "code",
      "source": [
        "import pandas as pd\n",
        "from mlxtend.preprocessing import TransactionEncoder\n",
        "\n",
        "dataset = [['A'],\n",
        "           ['A','A','A'],\n",
        "           ['B', 'B'],\n",
        "           ['A','A','A'],\n",
        "           ['B','B','B','B'],\n",
        "           ['B'],\n",
        "           ['A','B'],\n",
        "           ['B','B','A'],\n",
        "           ]\n",
        "          \n",
        "te = TransactionEncoder()\n",
        "te_ary = te.fit_transform(dataset)\n",
        "te_ary\n"
      ],
      "metadata": {
        "colab": {
          "base_uri": "https://localhost:8080/"
        },
        "id": "E2D3ydlEBd27",
        "outputId": "38d04265-ca43-4ae8-ee74-a74196f8652d"
      },
      "execution_count": null,
      "outputs": [
        {
          "output_type": "execute_result",
          "data": {
            "text/plain": [
              "array([[ True, False],\n",
              "       [ True, False],\n",
              "       [False,  True],\n",
              "       [ True, False],\n",
              "       [False,  True],\n",
              "       [False,  True],\n",
              "       [ True,  True],\n",
              "       [ True,  True]])"
            ]
          },
          "metadata": {},
          "execution_count": 1
        }
      ]
    },
    {
      "cell_type": "markdown",
      "source": [
        "# 3, 시계열분석(26회)\n",
        "\n",
        "![image.png](data:image/png;base64,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)\n",
        "\n",
        "  1)  은의 가격 및 이동평균값 3이 설정된 시계열 그래프를 그려라\n",
        "\n",
        "  2) 1월 대비 9월의 은의 가격은 몇 % 올랐는가? 소수점 두번째 자리에서 반올림"
      ],
      "metadata": {
        "id": "aqTMeizbCWOm"
      }
    },
    {
      "cell_type": "markdown",
      "source": [
        "# 4. 시계열분석 (17회)\n",
        "\n",
        "코로나19에 대한 나라별 데이터로 모델링 진행\n",
        "데이터 출처 : https://www.kaggle.com/imdevskp/corona-virus-report \n",
        "\n",
        "일부 후처리 데이터 경로 : /kaggle/input/adp-kr-p3/problem2.csv\n",
        "\n",
        "\n",
        "컬럼\n",
        "\n",
        " - location : 지역명\n",
        " - date : 일자\n",
        " - total_cases : 누적 확인자\n",
        " - total_deaths : 누적 사망자\n",
        " - new_tests : 검사자\n",
        " - population : 인구\n",
        " - new_vaccinations : 백신 접종자"
      ],
      "metadata": {
        "id": "uTGFMQDJNuTI"
      }
    },
    {
      "cell_type": "markdown",
      "source": [
        "  1)  마지막 일자를 기준으로 인구 대비 확진자 비율이 높은 상위 5개 국가를 구하여라\n",
        "상위 5개 국가별로 누적 확진자, 일일 확진자, 누적 사망자, 일일 사망자, 그래프, 범례를 이용해서 가독성 있게 만들어라"
      ],
      "metadata": {
        "id": "5zEEaIfPOCvE"
      }
    },
    {
      "cell_type": "code",
      "source": [
        "df =pd.read_csv('/kaggle/input/adp-kr-p3/problem2.csv')\n",
        "df['ratio'] = df['total_cases'] / df['population']\n",
        "\n",
        "\n",
        "# 전체 데이터의 결측치 및 일일 확진, 사망자 확인\n",
        "# 2021-11-30에는 new_tests , new_vaccinations값이 nan 이므로 제외\n",
        "# 인구수 0인 케이스 제외\n",
        "import matplotlib.pyplot as plt \n",
        "df = df.fillna(0)\n",
        "df['date']  = pd.to_datetime(df['date'])\n",
        "df = df[df.date != pd.to_datetime('2021-11-30')]\n",
        "df = df[df.population !=0]\n",
        "\n",
        "for location in df.location.unique():\n",
        "    lo = df[df.location == location]\n",
        "    df.loc[lo.index,'new_cases'] =lo.total_cases.diff().values\n",
        "    df.loc[lo.index[0], 'new_cases'] = lo['total_cases'].values[0]\n",
        "\n",
        "    df.loc[lo.index,'new_deaths'] =lo.total_deaths.diff().values\n",
        "    df.loc[lo.index[0], 'new_deaths'] = lo['total_deaths'].values[0]\n",
        "    \n",
        "    df.loc[lo.index, 'total_vacciantions'] = lo['new_vaccinations'].cumsum().values\n",
        "    df.loc[lo.index, '7days_new_case'] = lo['new_tests'].rolling(7).sum().fillna(0).values\n",
        "\n",
        "import seaborn as sns\n",
        "import matplotlib.pyplot as plt\n",
        "\n",
        "\n",
        "locations = df.groupby(['location']).tail(1).sort_values('ratio',ascending=False).location.head(5).values\n",
        "target = df[df.location.isin(locations)].reset_index(drop=True)\n",
        "for v in ['total_cases','new_cases','total_deaths','new_deaths']:\n",
        "    plt.figure(figsize = (15,5))\n",
        "    plt.title(v)\n",
        "    sns.lineplot(data=target,x= 'date',y=v,hue='location')\n",
        "    plt.show()"
      ],
      "metadata": {
        "id": "yICzHjBeOHB9"
      },
      "execution_count": null,
      "outputs": []
    },
    {
      "cell_type": "markdown",
      "source": [
        "  2) 코로나 위험지수를 직접 만들고 그 위험지수에 대한 설명을 적고 위험지수가 높은 국가들 10개를 선정해서 시각화"
      ],
      "metadata": {
        "id": "ImfwzmmUOJ9k"
      }
    },
    {
      "cell_type": "code",
      "source": [
        "# 위험지수 =  ( 최근일주일 누적 확진자 / 인구수)   + (일일 사망자 / 인구수) - (누적 백신 인구 / 인구수) * 보정 상수) * 보정 상수\n",
        "print('''\n",
        "코로나 위험지수는 코로나로 인한 국가의 위기정도를 표현한다. 코로나 전파 특성상 최근 일주일의 확진자 숫자가 그다음의 일주일에 영향을 준다.     \n",
        "일일 사망자수는 현재 코로나의 국가 내에서의 치명율을 표현한다. 위기정도는 누적 백신인구에 의해 감소 될수 있다. \n",
        "국가간의 비교를 위해 각 국가의 인구수로 나눠주어 값을 스케일링하고, 변수간 보정상수를 통해 정수화를 유도한다\n",
        "''')"
      ],
      "metadata": {
        "id": "WYOqeHMDON-M"
      },
      "execution_count": null,
      "outputs": []
    },
    {
      "cell_type": "code",
      "source": [
        "def ratio_index(x):\n",
        "    value = (x['7days_new_case'] / x['population'] + x['new_deaths'] / x['population'] - x['total_vacciantions'] / x['population']*0.001) *100\n",
        "    return value\n",
        "\n",
        "\n",
        "df['ratio_index'] = df.apply(ratio_index,axis=1)"
      ],
      "metadata": {
        "id": "ejLjyn3rOTSv",
        "outputId": "7359a038-2a29-412c-e0e5-ec41916fd992",
        "colab": {
          "base_uri": "https://localhost:8080/",
          "height": 211
        }
      },
      "execution_count": 1,
      "outputs": [
        {
          "output_type": "error",
          "ename": "NameError",
          "evalue": "ignored",
          "traceback": [
            "\u001b[0;31m---------------------------------------------------------------------------\u001b[0m",
            "\u001b[0;31mNameError\u001b[0m                                 Traceback (most recent call last)",
            "\u001b[0;32m<ipython-input-1-da707f2331ae>\u001b[0m in \u001b[0;36m<cell line: 6>\u001b[0;34m()\u001b[0m\n\u001b[1;32m      4\u001b[0m \u001b[0;34m\u001b[0m\u001b[0m\n\u001b[1;32m      5\u001b[0m \u001b[0;34m\u001b[0m\u001b[0m\n\u001b[0;32m----> 6\u001b[0;31m \u001b[0mdf\u001b[0m\u001b[0;34m[\u001b[0m\u001b[0;34m'ratio_index'\u001b[0m\u001b[0;34m]\u001b[0m \u001b[0;34m=\u001b[0m \u001b[0mdf\u001b[0m\u001b[0;34m.\u001b[0m\u001b[0mapply\u001b[0m\u001b[0;34m(\u001b[0m\u001b[0mratio_index\u001b[0m\u001b[0;34m,\u001b[0m\u001b[0maxis\u001b[0m\u001b[0;34m=\u001b[0m\u001b[0;36m1\u001b[0m\u001b[0;34m)\u001b[0m\u001b[0;34m\u001b[0m\u001b[0;34m\u001b[0m\u001b[0m\n\u001b[0m",
            "\u001b[0;31mNameError\u001b[0m: name 'df' is not defined"
          ]
        }
      ]
    },
    {
      "cell_type": "code",
      "source": [
        "locations = df.groupby(['location']).tail(1).sort_values('ratio_index',ascending=False).location.head(10).values\n",
        "target = df[df.location.isin(locations)].reset_index(drop=True)\n",
        "for v in ['total_cases','new_cases','ratio_index']:\n",
        "    plt.figure(figsize = (15,5))\n",
        "    plt.title(v)\n",
        "    sns.lineplot(data=target,x= 'date',y=v,hue='location')\n",
        "    plt.show()"
      ],
      "metadata": {
        "id": "1NcEKYHUOYlr"
      },
      "execution_count": null,
      "outputs": []
    },
    {
      "cell_type": "markdown",
      "source": [
        "  3) 한국의 코로나 신규 확진자 예측해라(선형 시계열모델 + 비선형시계열 각각 한개씩 만들어라)\n",
        "\n",
        "   - 선형시계열 - arma \n",
        "   - 비선형 시계열 - arima\n"
      ],
      "metadata": {
        "id": "s3wm6jDEOa-e"
      }
    },
    {
      "cell_type": "code",
      "source": [
        "ko = df[df.location =='South Korea'].reset_index(drop=True)\n",
        "ko.head()"
      ],
      "metadata": {
        "id": "-PBhhT3LOcoI"
      },
      "execution_count": null,
      "outputs": []
    },
    {
      "cell_type": "code",
      "source": [
        "from statsmodels.tsa.ar_model import AutoReg\n",
        "mod = AutoReg(ko.new_cases, 3, old_names=False)\n",
        "res = mod.fit()\n",
        "print(res.summary())\n",
        "fig = res.plot_predict(1,700)"
      ],
      "metadata": {
        "id": "ASQjZ7XYOjU_"
      },
      "execution_count": null,
      "outputs": []
    },
    {
      "cell_type": "code",
      "source": [
        "from statsmodels.tsa.arima_model import ARIMA\n",
        "\n",
        "model = ARIMA(ko.new_cases, order=(0,1,1))\n",
        "model_fit = model.fit(trend='c',full_output=True, disp=1)\n",
        "print(model_fit.summary())\n",
        "\n",
        "fig = model_fit.plot_predict(1,700)"
      ],
      "metadata": {
        "id": "YBvkampqOmWh"
      },
      "execution_count": null,
      "outputs": []
    },
    {
      "cell_type": "markdown",
      "source": [
        "# 5. 시계열분석 (25회)\n",
        "\n",
        "경로 : /kaggle/input/adp-p7/problem2.csv\n",
        "\n",
        "데이터 설명\n",
        "\n",
        "각 raw는 관광지 A의 1990년 1월 부터 25년동안의 매달 평균 이용객 숫자이다.\n",
        "\n",
        "1)  EDA와 시각화를 진행하라\n",
        "\n",
        "2) 결측치 처리와 해당 결측치 처리 방식에 대한 논리적 근거를 제시하라\n",
        "\n",
        "3)  계절성을 반영한 시계열 모델을 제시하고 정확도 측면에서 모델 성능 평가 할 것\n",
        "\n",
        "4) 분석 결과 활용 가능 여부에 대한 분석 전문가로서의 제안\n",
        "\n"
      ],
      "metadata": {
        "id": "4Cbs5BK1Or_9"
      }
    },
    {
      "cell_type": "code",
      "source": [],
      "metadata": {
        "id": "v55DGnKBPoQn"
      },
      "execution_count": 1,
      "outputs": []
    },
    {
      "cell_type": "markdown",
      "source": [
        "#5. 시계역분석(23회)\n",
        "\n",
        "코로나 시계열 데이터\n",
        "\n",
        "데이터 출처(후처리과정 미포함) :https://www.kaggle.com/antgoldbloom/covid19panels?select=country_panel.csv\n",
        "\n",
        "\n",
        "데이터 경로 : /kaggle/input/adp-kr-p1/problem3_covid2.csv\n",
        "\n"
      ],
      "metadata": {
        "id": "MDNzjbQKPptI"
      }
    },
    {
      "cell_type": "markdown",
      "source": [
        "\n",
        "1) 데이터는 일자별 각 나라의 일일 확진자수를 나타낸다. 각 나라의 일자별 누적확진자 수를 나타내는 데이터 프레임을 생성하라\n",
        "\n",
        "2) 1에서 구한 데이터를 각 나라별로 acf값을 구하고(lag는 50개까지 구하고 첫번째 값을 제외하라) 국가를 기준으로 유클리디안 거리를 기준으로 클러스터링을 진행 후 계층적 군집 분석을 위해 덴드로그램 작성하라\n",
        "\n",
        "\n"
      ],
      "metadata": {
        "id": "lHH_DMmkPxzg"
      }
    },
    {
      "cell_type": "code",
      "source": [],
      "metadata": {
        "id": "TDWjXURfP8YR"
      },
      "execution_count": 1,
      "outputs": []
    },
    {
      "cell_type": "markdown",
      "source": [
        "# 6. 시계열분석 (18회)\n",
        "\n",
        "시계열: 정상성 체크 및 시계열 예측\n"
      ],
      "metadata": {
        "id": "C-gsvnbXQpBd"
      }
    },
    {
      "cell_type": "code",
      "source": [],
      "metadata": {
        "id": "clIQTVl-QwaY"
      },
      "execution_count": 1,
      "outputs": []
    },
    {
      "cell_type": "markdown",
      "source": [
        "# 7.시계열분석 (19회)\n",
        "\n",
        "통계분석(data: Traffic EPS 시계열 분석 - 매년 분기별로 작성된 20년치 데이터)\n",
        "\n",
        " - 시계열 데이터의 정규성과 이분산성을 설명하기 위한 시각화\n",
        " - 데이터가 정규성이 아니라면 고정 시계열이 있는지 확인하고 이를 처리\n",
        " - SARIMA 분석을 통해 여러 파라미터를 적용해보고 가장 성능이 좋은 것을 제시\n",
        " - 위 모델의 잔차와 잡음 시각화 및 분석"
      ],
      "metadata": {
        "id": "CzfDwVk5Qwn_"
      }
    },
    {
      "cell_type": "code",
      "source": [],
      "metadata": {
        "id": "dLIaLaCYRBwd"
      },
      "execution_count": null,
      "outputs": []
    }
  ]
}